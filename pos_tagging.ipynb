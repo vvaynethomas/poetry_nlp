{
 "cells": [
  {
   "cell_type": "code",
   "execution_count": 1,
   "id": "61e08220-2245-4656-aad1-a2a68e5f7137",
   "metadata": {},
   "outputs": [],
   "source": [
    "import pickle\n",
    "import spacy\n",
    "import pandas as pd\n",
    "import numpy as np"
   ]
  },
  {
   "cell_type": "code",
   "execution_count": 2,
   "id": "7cebf747-89e3-4888-a104-20fd29a79e12",
   "metadata": {},
   "outputs": [],
   "source": [
    "# load pickles\n",
    "with open('clean_df.pkl', 'rb') as f:\n",
    "    clean_poem_df = pickle.load(f)\n",
    "    \n",
    "with open('clean_line_df.pkl', 'rb') as g:\n",
    "    clean_line_df = pickle.load(g)"
   ]
  },
  {
   "cell_type": "code",
   "execution_count": 3,
   "id": "1d4e52a5-20e9-41e4-9647-92338c026ac1",
   "metadata": {},
   "outputs": [
    {
     "name": "stdout",
     "output_type": "stream",
     "text": [
      "<class 'pandas.core.frame.DataFrame'>\n",
      "Int64Index: 15157 entries, 1 to 15651\n",
      "Data columns (total 6 columns):\n",
      " #   Column             Non-Null Count  Dtype   \n",
      "---  ------             --------------  -----   \n",
      " 0   author             15157 non-null  category\n",
      " 1   title              15157 non-null  object  \n",
      " 2   content            15157 non-null  object  \n",
      " 3   line               15157 non-null  object  \n",
      " 4   length_in_lines    15157 non-null  int64   \n",
      " 5   lexical_diversity  15157 non-null  float64 \n",
      "dtypes: category(1), float64(1), int64(1), object(3)\n",
      "memory usage: 765.9+ KB\n"
     ]
    }
   ],
   "source": [
    "clean_poem_df.info()"
   ]
  },
  {
   "cell_type": "code",
   "execution_count": 4,
   "id": "b4efb80e-0bc1-4e68-b83e-5c94c5c81992",
   "metadata": {},
   "outputs": [
    {
     "name": "stdout",
     "output_type": "stream",
     "text": [
      "<class 'pandas.core.frame.DataFrame'>\n",
      "Int64Index: 485604 entries, 1 to 15651\n",
      "Data columns (total 6 columns):\n",
      " #   Column             Non-Null Count   Dtype   \n",
      "---  ------             --------------   -----   \n",
      " 0   author             485604 non-null  category\n",
      " 1   title              485604 non-null  object  \n",
      " 2   line               485604 non-null  object  \n",
      " 3   words              485604 non-null  object  \n",
      " 4   length_in_words    485604 non-null  int64   \n",
      " 5   lexical_diversity  485604 non-null  float64 \n",
      "dtypes: category(1), float64(1), int64(1), object(3)\n",
      "memory usage: 23.2+ MB\n"
     ]
    }
   ],
   "source": [
    "clean_line_df.info()"
   ]
  },
  {
   "cell_type": "code",
   "execution_count": null,
   "id": "8c024fd1-3295-46f3-b2cc-e1994e2872cc",
   "metadata": {},
   "outputs": [],
   "source": []
  },
  {
   "cell_type": "code",
   "execution_count": 19,
   "id": "4a4e7edf-dc18-4eee-a007-26a3d9c99046",
   "metadata": {},
   "outputs": [],
   "source": [
    "# initialize pipeline for tagging\n",
    "import spacy\n",
    "tag_nlp = spacy.load(\"en_core_web_sm\", exclude=[\"parser\", \"attribute_ruler\", \"lemmatizer\", \"ner\"])"
   ]
  },
  {
   "cell_type": "code",
   "execution_count": 20,
   "id": "1495d5f3-b496-48e2-850c-7c0a679df7c3",
   "metadata": {},
   "outputs": [
    {
     "data": {
      "text/plain": [
       "[('tok2vec', <spacy.pipeline.tok2vec.Tok2Vec at 0x19516779220>),\n",
       " ('tagger', <spacy.pipeline.tagger.Tagger at 0x1951677dcc0>)]"
      ]
     },
     "execution_count": 20,
     "metadata": {},
     "output_type": "execute_result"
    }
   ],
   "source": [
    "tag_nlp.pipeline"
   ]
  },
  {
   "cell_type": "code",
   "execution_count": 23,
   "id": "e83fefa4-f454-4e17-ace2-5c9780ff9303",
   "metadata": {},
   "outputs": [],
   "source": [
    "# define tag pipe function\n",
    "from tqdm import tqdm\n",
    "def tag_pipe(texts):\n",
    "    total = len(texts)\n",
    "    pipe_out = []\n",
    "    with tqdm(total=total) as pbar:\n",
    "        for doc in tqdm(tag_nlp.pipe(texts)):\n",
    "            pipe_out.append([str(token.tag_) for token in doc])\n",
    "    return pipe_out"
   ]
  },
  {
   "cell_type": "code",
   "execution_count": 15,
   "id": "8e637d53-d4b6-49b0-8641-90b329f00513",
   "metadata": {},
   "outputs": [
    {
     "data": {
      "text/html": [
       "<div>\n",
       "<style scoped>\n",
       "    .dataframe tbody tr th:only-of-type {\n",
       "        vertical-align: middle;\n",
       "    }\n",
       "\n",
       "    .dataframe tbody tr th {\n",
       "        vertical-align: top;\n",
       "    }\n",
       "\n",
       "    .dataframe thead th {\n",
       "        text-align: right;\n",
       "    }\n",
       "</style>\n",
       "<table border=\"1\" class=\"dataframe\">\n",
       "  <thead>\n",
       "    <tr style=\"text-align: right;\">\n",
       "      <th></th>\n",
       "      <th>author</th>\n",
       "      <th>title</th>\n",
       "      <th>line</th>\n",
       "      <th>words</th>\n",
       "      <th>length_in_words</th>\n",
       "      <th>lexical_diversity</th>\n",
       "      <th>pos_tags</th>\n",
       "    </tr>\n",
       "  </thead>\n",
       "  <tbody>\n",
       "    <tr>\n",
       "      <th>1</th>\n",
       "      <td>Hailey Leithauser</td>\n",
       "      <td>0</td>\n",
       "      <td>philosophic</td>\n",
       "      <td>[philosophic]</td>\n",
       "      <td>1</td>\n",
       "      <td>1.000</td>\n",
       "      <td>[JJ]</td>\n",
       "    </tr>\n",
       "    <tr>\n",
       "      <th>1</th>\n",
       "      <td>Hailey Leithauser</td>\n",
       "      <td>0</td>\n",
       "      <td>in its complex ovoid emptiness</td>\n",
       "      <td>[in, its, complex, ovoid, emptiness]</td>\n",
       "      <td>5</td>\n",
       "      <td>1.000</td>\n",
       "      <td>[IN, PRP$, JJ, JJ, NN]</td>\n",
       "    </tr>\n",
       "    <tr>\n",
       "      <th>1</th>\n",
       "      <td>Hailey Leithauser</td>\n",
       "      <td>0</td>\n",
       "      <td>a skillful pundit coined it as a sort</td>\n",
       "      <td>[a, skillful, pundit, coined, it, as, a, sort]</td>\n",
       "      <td>8</td>\n",
       "      <td>0.875</td>\n",
       "      <td>[DT, JJ, NN, VBD, PRP, IN, DT, NN]</td>\n",
       "    </tr>\n",
       "    <tr>\n",
       "      <th>1</th>\n",
       "      <td>Hailey Leithauser</td>\n",
       "      <td>0</td>\n",
       "      <td>of stopgap doorstop for those</td>\n",
       "      <td>[of, stopgap, doorstop, for, those]</td>\n",
       "      <td>5</td>\n",
       "      <td>1.000</td>\n",
       "      <td>[IN, NN, VBP, IN, DT]</td>\n",
       "    </tr>\n",
       "    <tr>\n",
       "      <th>1</th>\n",
       "      <td>Hailey Leithauser</td>\n",
       "      <td>0</td>\n",
       "      <td>quaint equations</td>\n",
       "      <td>[quaint, equations]</td>\n",
       "      <td>2</td>\n",
       "      <td>1.000</td>\n",
       "      <td>[NN, NNS]</td>\n",
       "    </tr>\n",
       "  </tbody>\n",
       "</table>\n",
       "</div>"
      ],
      "text/plain": [
       "              author title                                   line  \\\n",
       "1  Hailey Leithauser     0                            philosophic   \n",
       "1  Hailey Leithauser     0         in its complex ovoid emptiness   \n",
       "1  Hailey Leithauser     0  a skillful pundit coined it as a sort   \n",
       "1  Hailey Leithauser     0          of stopgap doorstop for those   \n",
       "1  Hailey Leithauser     0                       quaint equations   \n",
       "\n",
       "                                            words  length_in_words  \\\n",
       "1                                   [philosophic]                1   \n",
       "1            [in, its, complex, ovoid, emptiness]                5   \n",
       "1  [a, skillful, pundit, coined, it, as, a, sort]                8   \n",
       "1             [of, stopgap, doorstop, for, those]                5   \n",
       "1                             [quaint, equations]                2   \n",
       "\n",
       "   lexical_diversity                            pos_tags  \n",
       "1              1.000                                [JJ]  \n",
       "1              1.000              [IN, PRP$, JJ, JJ, NN]  \n",
       "1              0.875  [DT, JJ, NN, VBD, PRP, IN, DT, NN]  \n",
       "1              1.000               [IN, NN, VBP, IN, DT]  \n",
       "1              1.000                           [NN, NNS]  "
      ]
     },
     "execution_count": 15,
     "metadata": {},
     "output_type": "execute_result"
    }
   ],
   "source": [
    "# populate part of speech tag column for lines\n",
    "clean_line_df['pos_tags'] = tag_pipe(clean_line_df.line)\n",
    "clean_line_df.head()"
   ]
  },
  {
   "cell_type": "code",
   "execution_count": 26,
   "id": "8b783c63-e2f8-4e5d-b813-f5281b6c6ce0",
   "metadata": {},
   "outputs": [],
   "source": [
    "tagged_lines_df = clean_line_df.drop(['line'], axis=1)\n",
    "with open('tagged_lines_df.pkl', 'wb') as t:\n",
    "    pickle.dump(tagged_lines_df, t)"
   ]
  },
  {
   "cell_type": "code",
   "execution_count": 24,
   "id": "defe8002-45de-4c59-94fe-c058f73565b4",
   "metadata": {},
   "outputs": [
    {
     "name": "stderr",
     "output_type": "stream",
     "text": [
      "  0%|          | 0/15157 [00:00<?, ?it/s]\n",
      "0it [00:00, ?it/s]\u001b[A\n",
      "1it [00:01,  1.95s/it]\u001b[A\n",
      "257it [00:03, 81.80it/s]\u001b[A\n",
      "513it [00:05, 108.07it/s]\u001b[A\n",
      "769it [00:07, 118.20it/s]\u001b[A\n",
      "1025it [00:09, 118.33it/s]\u001b[A\n",
      "1281it [00:11, 120.31it/s]\u001b[A\n",
      "1537it [00:13, 121.62it/s]\u001b[A\n",
      "1793it [00:15, 121.30it/s]\u001b[A\n",
      "2049it [00:18, 116.95it/s]\u001b[A\n",
      "2305it [00:20, 117.06it/s]\u001b[A\n",
      "2561it [00:22, 117.58it/s]\u001b[A\n",
      "2817it [00:24, 120.95it/s]\u001b[A\n",
      "3073it [00:26, 120.86it/s]\u001b[A\n",
      "3329it [00:28, 119.68it/s]\u001b[A\n",
      "3585it [00:30, 121.22it/s]\u001b[A\n",
      "3841it [00:33, 120.39it/s]\u001b[A\n",
      "4097it [00:34, 128.25it/s]\u001b[A\n",
      "4353it [00:36, 128.00it/s]\u001b[A\n",
      "4609it [00:39, 117.34it/s]\u001b[A\n",
      "4865it [00:41, 117.89it/s]\u001b[A\n",
      "5121it [00:43, 122.53it/s]\u001b[A\n",
      "5377it [00:45, 120.07it/s]\u001b[A\n",
      "5633it [00:47, 121.76it/s]\u001b[A\n",
      "5889it [00:49, 126.09it/s]\u001b[A\n",
      "6145it [00:51, 127.10it/s]\u001b[A\n",
      "6401it [00:53, 125.29it/s]\u001b[A\n",
      "6657it [00:55, 121.62it/s]\u001b[A\n",
      "6913it [00:57, 122.85it/s]\u001b[A\n",
      "7169it [00:59, 123.70it/s]\u001b[A\n",
      "7425it [01:02, 122.87it/s]\u001b[A\n",
      "7681it [01:04, 119.19it/s]\u001b[A\n",
      "7937it [01:06, 123.53it/s]\u001b[A\n",
      "8193it [01:08, 126.11it/s]\u001b[A\n",
      "8449it [01:10, 128.86it/s]\u001b[A\n",
      "8705it [01:12, 126.91it/s]\u001b[A\n",
      "8961it [01:14, 125.86it/s]\u001b[A\n",
      "9217it [01:16, 131.44it/s]\u001b[A\n",
      "9473it [01:18, 127.06it/s]\u001b[A\n",
      "9729it [01:20, 126.88it/s]\u001b[A\n",
      "9985it [01:22, 130.07it/s]\u001b[A\n",
      "10241it [01:24, 123.81it/s]\u001b[A\n",
      "10497it [01:26, 118.30it/s]\u001b[A\n",
      "10753it [01:28, 120.42it/s]\u001b[A\n",
      "11009it [01:30, 124.93it/s]\u001b[A\n",
      "11265it [01:32, 125.26it/s]\u001b[A\n",
      "11521it [01:34, 126.12it/s]\u001b[A\n",
      "11777it [01:36, 129.85it/s]\u001b[A\n",
      "12033it [01:38, 139.67it/s]\u001b[A\n",
      "12289it [01:40, 135.58it/s]\u001b[A\n",
      "12545it [01:41, 134.89it/s]\u001b[A\n",
      "12801it [01:44, 130.84it/s]\u001b[A\n",
      "13057it [01:45, 131.32it/s]\u001b[A\n",
      "13313it [01:48, 128.60it/s]\u001b[A\n",
      "13569it [01:50, 121.36it/s]\u001b[A\n",
      "13825it [01:52, 124.73it/s]\u001b[A\n",
      "14081it [01:54, 124.87it/s]\u001b[A\n",
      "14337it [01:56, 124.91it/s]\u001b[A\n",
      "14593it [01:58, 126.00it/s]\u001b[A\n",
      "14849it [02:00, 129.12it/s]\u001b[A\n",
      "15157it [02:00, 125.54it/s]\u001b[A\n",
      "  0%|          | 0/15157 [02:00<?, ?it/s]\n"
     ]
    }
   ],
   "source": [
    "# populate part of speech tag column for lines\n",
    "clean_poem_df['pos_tags'] = tag_pipe(clean_poem_df.content)"
   ]
  },
  {
   "cell_type": "code",
   "execution_count": 25,
   "id": "2bf560f0-280e-4a40-8b74-140450433d56",
   "metadata": {},
   "outputs": [
    {
     "data": {
      "text/html": [
       "<div>\n",
       "<style scoped>\n",
       "    .dataframe tbody tr th:only-of-type {\n",
       "        vertical-align: middle;\n",
       "    }\n",
       "\n",
       "    .dataframe tbody tr th {\n",
       "        vertical-align: top;\n",
       "    }\n",
       "\n",
       "    .dataframe thead th {\n",
       "        text-align: right;\n",
       "    }\n",
       "</style>\n",
       "<table border=\"1\" class=\"dataframe\">\n",
       "  <thead>\n",
       "    <tr style=\"text-align: right;\">\n",
       "      <th></th>\n",
       "      <th>author</th>\n",
       "      <th>title</th>\n",
       "      <th>content</th>\n",
       "      <th>line</th>\n",
       "      <th>length_in_lines</th>\n",
       "      <th>lexical_diversity</th>\n",
       "      <th>pos_tags</th>\n",
       "    </tr>\n",
       "  </thead>\n",
       "  <tbody>\n",
       "    <tr>\n",
       "      <th>1</th>\n",
       "      <td>Hailey Leithauser</td>\n",
       "      <td>0</td>\n",
       "      <td>Philosophic\\nin its complex, ovoid emptiness,\\...</td>\n",
       "      <td>[philosophic, in its complex ovoid emptiness, ...</td>\n",
       "      <td>15</td>\n",
       "      <td>0.863636</td>\n",
       "      <td>[JJ, NN, IN, PRP$, JJ, ,, JJ, NN, ,, FW, DT, J...</td>\n",
       "    </tr>\n",
       "    <tr>\n",
       "      <th>2</th>\n",
       "      <td>Jody Gladding</td>\n",
       "      <td>1-800-FEAR</td>\n",
       "      <td>We'd  like  to  talk  with  you  about  fear t...</td>\n",
       "      <td>[wed like to talk with you about fear they sai...</td>\n",
       "      <td>11</td>\n",
       "      <td>0.663717</td>\n",
       "      <td>[PRP, VBD, NNP, IN, NNP, IN, NNP, NN, NNP, IN,...</td>\n",
       "    </tr>\n",
       "    <tr>\n",
       "      <th>3</th>\n",
       "      <td>Joseph Brodsky</td>\n",
       "      <td>1 January 1965</td>\n",
       "      <td>The Wise Men will unlearn your name.\\nAbove yo...</td>\n",
       "      <td>[the wise men will unlearn your name, above yo...</td>\n",
       "      <td>24</td>\n",
       "      <td>0.693333</td>\n",
       "      <td>[DT, NNP, NNPS, MD, VB, PRP$, NN, ., '', IN, P...</td>\n",
       "    </tr>\n",
       "    <tr>\n",
       "      <th>4</th>\n",
       "      <td>Ted Berrigan</td>\n",
       "      <td>3 Pages</td>\n",
       "      <td>For Jack Collom\\n10 Things I do Every Day\\n\\np...</td>\n",
       "      <td>[for jack collom, things i do every day, play ...</td>\n",
       "      <td>26</td>\n",
       "      <td>0.841463</td>\n",
       "      <td>[IN, NNP, NNP, :, CD, NNS, PRP, VBP, DT, NN, N...</td>\n",
       "    </tr>\n",
       "    <tr>\n",
       "      <th>5</th>\n",
       "      <td>Joe Brainard</td>\n",
       "      <td>30 One-Liners</td>\n",
       "      <td>WINTER\\nMore time is spent at the window.\\n\\nS...</td>\n",
       "      <td>[winter, more time is spent at the window, sum...</td>\n",
       "      <td>65</td>\n",
       "      <td>0.575843</td>\n",
       "      <td>[NN, NN, JJR, NN, VBZ, VBN, IN, DT, NN, ., ADD...</td>\n",
       "    </tr>\n",
       "  </tbody>\n",
       "</table>\n",
       "</div>"
      ],
      "text/plain": [
       "              author           title  \\\n",
       "1  Hailey Leithauser               0   \n",
       "2      Jody Gladding      1-800-FEAR   \n",
       "3     Joseph Brodsky  1 January 1965   \n",
       "4       Ted Berrigan         3 Pages   \n",
       "5       Joe Brainard   30 One-Liners   \n",
       "\n",
       "                                             content  \\\n",
       "1  Philosophic\\nin its complex, ovoid emptiness,\\...   \n",
       "2  We'd  like  to  talk  with  you  about  fear t...   \n",
       "3  The Wise Men will unlearn your name.\\nAbove yo...   \n",
       "4  For Jack Collom\\n10 Things I do Every Day\\n\\np...   \n",
       "5  WINTER\\nMore time is spent at the window.\\n\\nS...   \n",
       "\n",
       "                                                line  length_in_lines  \\\n",
       "1  [philosophic, in its complex ovoid emptiness, ...               15   \n",
       "2  [wed like to talk with you about fear they sai...               11   \n",
       "3  [the wise men will unlearn your name, above yo...               24   \n",
       "4  [for jack collom, things i do every day, play ...               26   \n",
       "5  [winter, more time is spent at the window, sum...               65   \n",
       "\n",
       "   lexical_diversity                                           pos_tags  \n",
       "1           0.863636  [JJ, NN, IN, PRP$, JJ, ,, JJ, NN, ,, FW, DT, J...  \n",
       "2           0.663717  [PRP, VBD, NNP, IN, NNP, IN, NNP, NN, NNP, IN,...  \n",
       "3           0.693333  [DT, NNP, NNPS, MD, VB, PRP$, NN, ., '', IN, P...  \n",
       "4           0.841463  [IN, NNP, NNP, :, CD, NNS, PRP, VBP, DT, NN, N...  \n",
       "5           0.575843  [NN, NN, JJR, NN, VBZ, VBN, IN, DT, NN, ., ADD...  "
      ]
     },
     "execution_count": 25,
     "metadata": {},
     "output_type": "execute_result"
    }
   ],
   "source": [
    "clean_poem_df.head()"
   ]
  },
  {
   "cell_type": "code",
   "execution_count": 27,
   "id": "295bac19-8256-4b1e-ae83-842145701d25",
   "metadata": {},
   "outputs": [],
   "source": [
    "tagged_poems_df = clean_poem_df.drop(['line'], axis=1)\n",
    "with open('tagged_poems_df.pkl', 'wb') as t2:\n",
    "    pickle.dump(tagged_poems_df, t2)"
   ]
  },
  {
   "cell_type": "code",
   "execution_count": null,
   "id": "05d67252-e6ff-4abf-b0c7-0452725781f9",
   "metadata": {},
   "outputs": [],
   "source": []
  }
 ],
 "metadata": {
  "kernelspec": {
   "display_name": "Python 3",
   "language": "python",
   "name": "python3"
  },
  "language_info": {
   "codemirror_mode": {
    "name": "ipython",
    "version": 3
   },
   "file_extension": ".py",
   "mimetype": "text/x-python",
   "name": "python",
   "nbconvert_exporter": "python",
   "pygments_lexer": "ipython3",
   "version": "3.8.8"
  }
 },
 "nbformat": 4,
 "nbformat_minor": 5
}
