{
 "cells": [
  {
   "cell_type": "code",
   "execution_count": 2,
   "metadata": {},
   "outputs": [],
   "source": [
    "import numpy as np \n",
    "import pandas as pd \n",
    "import matplotlib.pyplot as plt\n",
    "import seaborn as sns\n",
    "from sklearn.feature_extraction import text\n",
    "from sklearn.feature_extraction.text import TfidfVectorizer\n",
    "from sklearn.cluster import KMeans\n",
    "from nltk.tokenize import RegexpTokenizer\n",
    "from nltk.stem.snowball import SnowballStemmer\n",
    "from sklearn.neighbors import KDTree;\n",
    "import os;\n",
    "import re;\n",
    "import logging;\n",
    "import sqlite3;\n",
    "import time;\n",
    "import sys;\n",
    "import multiprocessing;\n",
    "from wordcloud import WordCloud, ImageColorGenerator\n",
    "import matplotlib.pyplot as plt;\n",
    "from itertools import cycle;\n",
    "%matplotlib inline"
   ]
  },
  {
   "cell_type": "code",
   "execution_count": 3,
   "metadata": {},
   "outputs": [],
   "source": [
    "pf_df = pd.read_csv('kaggle_poem_dataset.csv')\n",
    "pf_df['Author'] = pf_df.Author.astype('category')"
   ]
  },
  {
   "cell_type": "code",
   "execution_count": 5,
   "metadata": {},
   "outputs": [
    {
     "data": {
      "text/plain": [
       "<AxesSubplot:xlabel='Author'>"
      ]
     },
     "execution_count": 5,
     "metadata": {},
     "output_type": "execute_result"
    },
    {
     "data": {
      "image/png": "[encoded data removed]",
      "text/plain": [
       "<Figure size 432x288 with 1 Axes>"
      ]
     },
     "metadata": {
      "needs_background": "light"
     },
     "output_type": "display_data"
    }
   ],
   "source": [
    "X = pf_df.copy()\n",
    "fig, ax = plt.subplots()\n",
    "X.groupby('Author').count()['Title'].plot(ax=ax)"
   ]
  },
  {
   "cell_type": "code",
   "execution_count": 21,
   "metadata": {},
   "outputs": [
    {
     "name": "stdout",
     "output_type": "stream",
     "text": [
      "        Unnamed: 0        Title  Poetry Foundation ID      Content\n",
      "count  3310.000000  3310.000000           3310.000000  3310.000000\n",
      "mean      4.728701     4.728701              4.728701     4.728701\n",
      "std       6.428874     6.428874              6.428874     6.428874\n",
      "min       1.000000     1.000000              1.000000     1.000000\n",
      "25%       1.000000     1.000000              1.000000     1.000000\n",
      "50%       2.000000     2.000000              2.000000     2.000000\n",
      "75%       6.000000     6.000000              6.000000     6.000000\n",
      "max      85.000000    85.000000             85.000000    85.000000\n"
     ]
    },
    {
     "data": {
      "text/plain": [
       "<seaborn.axisgrid.FacetGrid at 0x29846e9d850>"
      ]
     },
     "execution_count": 21,
     "metadata": {},
     "output_type": "execute_result"
    },
    {
     "data": {
      "image/png": "[encoded data removed]",
      "text/plain": [
       "<Figure size 360x360 with 1 Axes>"
      ]
     },
     "metadata": {
      "needs_background": "light"
     },
     "output_type": "display_data"
    }
   ],
   "source": [
    "count_df = X.groupby('Author').count()\n",
    "print(count_df.describe())\n",
    "sns.displot(data = count_df, x='Title')"
   ]
  },
  {
   "cell_type": "code",
   "execution_count": null,
   "metadata": {},
   "outputs": [],
   "source": [
    "count_df.sort_values(inplace=True)\n"
   ]
  },
  {
   "cell_type": "code",
   "execution_count": 4,
   "metadata": {},
   "outputs": [
    {
     "name": "stdout",
     "output_type": "stream",
     "text": [
      "0  Date                                            2008-08-08\n",
      "   Label                                                    0\n",
      "   Top1     b\"Georgia 'downs two Russian warplanes' as cou...\n",
      "   Top2               b'BREAKING: Musharraf to be impeached.'\n",
      "   Top3     b'Russia Today: Columns of troops roll into So...\n",
      "dtype: object\n",
      "53696\n"
     ]
    }
   ],
   "source": [
    "# clean and stack ngram\n",
    "stacked_ngrams = X.stack()\n",
    "print(stacked_ngrams.head())\n",
    "ngrams = stacked_ngrams.values\n",
    "print(len(list(ngrams)))"
   ]
  },
  {
   "cell_type": "code",
   "execution_count": 5,
   "metadata": {},
   "outputs": [
    {
     "data": {
      "text/html": [
       "<div>\n",
       "<style scoped>\n",
       "    .dataframe tbody tr th:only-of-type {\n",
       "        vertical-align: middle;\n",
       "    }\n",
       "\n",
       "    .dataframe tbody tr th {\n",
       "        vertical-align: top;\n",
       "    }\n",
       "\n",
       "    .dataframe thead th {\n",
       "        text-align: right;\n",
       "    }\n",
       "</style>\n",
       "<table border=\"1\" class=\"dataframe\">\n",
       "  <thead>\n",
       "    <tr style=\"text-align: right;\">\n",
       "      <th></th>\n",
       "      <th>Date</th>\n",
       "      <th>Label</th>\n",
       "      <th>variable</th>\n",
       "      <th>Ngram</th>\n",
       "    </tr>\n",
       "  </thead>\n",
       "  <tbody>\n",
       "    <tr>\n",
       "      <th>0</th>\n",
       "      <td>2008-08-08</td>\n",
       "      <td>0</td>\n",
       "      <td>Top1</td>\n",
       "      <td>b\"Georgia 'downs two Russian warplanes' as cou...</td>\n",
       "    </tr>\n",
       "    <tr>\n",
       "      <th>1</th>\n",
       "      <td>2008-08-11</td>\n",
       "      <td>1</td>\n",
       "      <td>Top1</td>\n",
       "      <td>b'Why wont America and Nato help us? If they w...</td>\n",
       "    </tr>\n",
       "    <tr>\n",
       "      <th>2</th>\n",
       "      <td>2008-08-12</td>\n",
       "      <td>0</td>\n",
       "      <td>Top1</td>\n",
       "      <td>b'Remember that adorable 9-year-old who sang a...</td>\n",
       "    </tr>\n",
       "    <tr>\n",
       "      <th>3</th>\n",
       "      <td>2008-08-13</td>\n",
       "      <td>0</td>\n",
       "      <td>Top1</td>\n",
       "      <td>b' U.S. refuses Israel weapons to attack Iran:...</td>\n",
       "    </tr>\n",
       "    <tr>\n",
       "      <th>4</th>\n",
       "      <td>2008-08-14</td>\n",
       "      <td>1</td>\n",
       "      <td>Top1</td>\n",
       "      <td>b'All the experts admit that we should legalis...</td>\n",
       "    </tr>\n",
       "  </tbody>\n",
       "</table>\n",
       "</div>"
      ],
      "text/plain": [
       "         Date  Label variable  \\\n",
       "0  2008-08-08      0     Top1   \n",
       "1  2008-08-11      1     Top1   \n",
       "2  2008-08-12      0     Top1   \n",
       "3  2008-08-13      0     Top1   \n",
       "4  2008-08-14      1     Top1   \n",
       "\n",
       "                                               Ngram  \n",
       "0  b\"Georgia 'downs two Russian warplanes' as cou...  \n",
       "1  b'Why wont America and Nato help us? If they w...  \n",
       "2  b'Remember that adorable 9-year-old who sang a...  \n",
       "3  b' U.S. refuses Israel weapons to attack Iran:...  \n",
       "4  b'All the experts admit that we should legalis...  "
      ]
     },
     "execution_count": 5,
     "metadata": {},
     "output_type": "execute_result"
    }
   ],
   "source": [
    "# X_pivot = X.pivot(index='Date', columns=X.columns)\n",
    "# X_pivot.melt(id_vars=['Label'], value_vars=X_pivo)\n",
    "X_melt = pd.melt(X,id_vars=['Date','Label'], value_name='Ngram')\n",
    "X_melt.head()"
   ]
  },
  {
   "cell_type": "code",
   "execution_count": 6,
   "metadata": {},
   "outputs": [
    {
     "data": {
      "text/html": [
       "<div>\n",
       "<style scoped>\n",
       "    .dataframe tbody tr th:only-of-type {\n",
       "        vertical-align: middle;\n",
       "    }\n",
       "\n",
       "    .dataframe tbody tr th {\n",
       "        vertical-align: top;\n",
       "    }\n",
       "\n",
       "    .dataframe thead th {\n",
       "        text-align: right;\n",
       "    }\n",
       "</style>\n",
       "<table border=\"1\" class=\"dataframe\">\n",
       "  <thead>\n",
       "    <tr style=\"text-align: right;\">\n",
       "      <th></th>\n",
       "      <th>date</th>\n",
       "      <th>label</th>\n",
       "      <th>ngram</th>\n",
       "      <th>top_n</th>\n",
       "    </tr>\n",
       "  </thead>\n",
       "  <tbody>\n",
       "    <tr>\n",
       "      <th>0</th>\n",
       "      <td>2008-08-08</td>\n",
       "      <td>0</td>\n",
       "      <td>b\"Georgia 'downs two Russian warplanes' as cou...</td>\n",
       "      <td>0</td>\n",
       "    </tr>\n",
       "    <tr>\n",
       "      <th>1</th>\n",
       "      <td>2008-08-11</td>\n",
       "      <td>1</td>\n",
       "      <td>b'Why wont America and Nato help us? If they w...</td>\n",
       "      <td>0</td>\n",
       "    </tr>\n",
       "    <tr>\n",
       "      <th>2</th>\n",
       "      <td>2008-08-12</td>\n",
       "      <td>0</td>\n",
       "      <td>b'Remember that adorable 9-year-old who sang a...</td>\n",
       "      <td>0</td>\n",
       "    </tr>\n",
       "    <tr>\n",
       "      <th>3</th>\n",
       "      <td>2008-08-13</td>\n",
       "      <td>0</td>\n",
       "      <td>b' U.S. refuses Israel weapons to attack Iran:...</td>\n",
       "      <td>0</td>\n",
       "    </tr>\n",
       "    <tr>\n",
       "      <th>4</th>\n",
       "      <td>2008-08-14</td>\n",
       "      <td>1</td>\n",
       "      <td>b'All the experts admit that we should legalis...</td>\n",
       "      <td>0</td>\n",
       "    </tr>\n",
       "  </tbody>\n",
       "</table>\n",
       "</div>"
      ],
      "text/plain": [
       "         date  label                                              ngram  top_n\n",
       "0  2008-08-08      0  b\"Georgia 'downs two Russian warplanes' as cou...      0\n",
       "1  2008-08-11      1  b'Why wont America and Nato help us? If they w...      0\n",
       "2  2008-08-12      0  b'Remember that adorable 9-year-old who sang a...      0\n",
       "3  2008-08-13      0  b' U.S. refuses Israel weapons to attack Iran:...      0\n",
       "4  2008-08-14      1  b'All the experts admit that we should legalis...      0"
      ]
     },
     "execution_count": 6,
     "metadata": {},
     "output_type": "execute_result"
    }
   ],
   "source": [
    "from sklearn import preprocessing as skpp\n",
    "le = skpp.LabelEncoder().fit(X_melt['variable'])\n",
    "top_encoded = le.transform(X_melt['variable'])\n",
    "X_melt['top_n']= top_encoded\n",
    "X_melt = X_melt.drop('variable', axis=1)\n",
    "X_melt.head()\n",
    "X_melt.columns = [i.lower() for i in X_melt.columns]\n",
    "X_melt.head()"
   ]
  },
  {
   "cell_type": "code",
   "execution_count": 7,
   "metadata": {},
   "outputs": [
    {
     "name": "stdout",
     "output_type": "stream",
     "text": [
      "like bats like 39 2 hats\n"
     ]
    }
   ],
   "source": [
    "import re\n",
    "import html\n",
    "import string\n",
    "from nltk.tokenize import word_tokenize\n",
    "from sklearn.feature_extraction.text import TfidfVectorizer\n",
    "from sklearn.model_selection import cross_val_score, GridSearchCV\n",
    "from nltk.corpus import stopwords\n",
    "\n",
    "def preprocess_text(text):\n",
    "    cont_dict = { \n",
    "        \"ain't\": \"am not / are not / is not / has not / have not\",\n",
    "        \"aren't\": \"are not / am not\",\n",
    "        \"can't\": \"cannot\",\n",
    "        \"can't've\": \"cannot have\",\n",
    "        \"'cause\": \"because\",\n",
    "        \"could've\": \"could have\",\n",
    "        \"couldn't\": \"could not\",\n",
    "        \"couldn't've\": \"could not have\",\n",
    "        \"didn't\": \"did not\",\n",
    "        \"doesn't\": \"does not\",\n",
    "        \"don't\": \"do not\",\n",
    "        \"hadn't\": \"had not\",\n",
    "        \"hadn't've\": \"had not have\",\n",
    "        \"hasn't\": \"has not\",\n",
    "        \"haven't\": \"have not\",\n",
    "        \"he'd\": \"he had / he would\",\n",
    "        \"he'd've\": \"he would have\",\n",
    "        \"he'll\": \"he shall / he will\",\n",
    "        \"he'll've\": \"he shall have / he will have\",\n",
    "        \"he's\": \"he has / he is\",\n",
    "        \"how'd\": \"how did\",\n",
    "        \"how'd'y\": \"how do you\",\n",
    "        \"how'll\": \"how will\",\n",
    "        \"how's\": \"how has / how is / how does\",\n",
    "        \"I'd\": \"I had / I would\",\n",
    "        \"I'd've\": \"I would have\",\n",
    "        \"I'll\": \"I shall / I will\",\n",
    "        \"I'll've\": \"I shall have / I will have\",\n",
    "        \"I'm\": \"I am\",\n",
    "        \"I've\": \"I have\",\n",
    "        \"isn't\": \"is not\",\n",
    "        \"it'd\": \"it had / it would\",\n",
    "        \"it'd've\": \"it would have\",\n",
    "        \"it'll\": \"it shall / it will\",\n",
    "        \"it'll've\": \"it shall have / it will have\",\n",
    "        \"it's\": \"it has / it is\",\n",
    "        \"let's\": \"let us\",\n",
    "        \"ma'am\": \"madam\",\n",
    "        \"mayn't\": \"may not\",\n",
    "        \"might've\": \"might have\",\n",
    "        \"mightn't\": \"might not\",\n",
    "        \"mightn't've\": \"might not have\",\n",
    "        \"must've\": \"must have\",\n",
    "        \"mustn't\": \"must not\",\n",
    "        \"mustn't've\": \"must not have\",\n",
    "        \"needn't\": \"need not\",\n",
    "        \"needn't've\": \"need not have\",\n",
    "        \"o'clock\": \"of the clock\",\n",
    "        \"oughtn't\": \"ought not\",\n",
    "        \"oughtn't've\": \"ought not have\",\n",
    "        \"shan't\": \"shall not\",\n",
    "        \"sha'n't\": \"shall not\",\n",
    "        \"shan't've\": \"shall not have\",\n",
    "        \"she'd\": \"she had / she would\",\n",
    "        \"she'd've\": \"she would have\",\n",
    "        \"she'll\": \"she shall / she will\",\n",
    "        \"she'll've\": \"she shall have / she will have\",\n",
    "        \"she's\": \"she has / she is\",\n",
    "        \"should've\": \"should have\",\n",
    "        \"shouldn't\": \"should not\",\n",
    "        \"shouldn't've\": \"should not have\",\n",
    "        \"so've\": \"so have\",\n",
    "        \"so's\": \"so as / so is\",\n",
    "        \"that'd\": \"that would / that had\",\n",
    "        \"that'd've\": \"that would have\",\n",
    "        \"that's\": \"that has / that is\",\n",
    "        \"there'd\": \"there had / there would\",\n",
    "        \"there'd've\": \"there would have\",\n",
    "        \"there's\": \"there has / there is\",\n",
    "        \"they'd\": \"they had / they would\",\n",
    "        \"they'd've\": \"they would have\",\n",
    "        \"they'll\": \"they shall / they will\",\n",
    "        \"they'll've\": \"they shall have / they will have\",\n",
    "        \"they're\": \"they are\",\n",
    "        \"they've\": \"they have\",\n",
    "        \"to've\": \"to have\",\n",
    "        \"wasn't\": \"was not\",\n",
    "        \"we'd\": \"we had / we would\",\n",
    "        \"we'd've\": \"we would have\",\n",
    "        \"we'll\": \"we will\",\n",
    "        \"we'll've\": \"we will have\",\n",
    "        \"we're\": \"we are\",\n",
    "        \"we've\": \"we have\",\n",
    "        \"weren't\": \"were not\",\n",
    "        \"what'll\": \"what shall / what will\",\n",
    "        \"what'll've\": \"what shall have / what will have\",\n",
    "        \"what're\": \"what are\",\n",
    "        \"what's\": \"what has / what is\",\n",
    "        \"what've\": \"what have\",\n",
    "        \"when's\": \"when has / when is\",\n",
    "        \"when've\": \"when have\",\n",
    "        \"where'd\": \"where did\",\n",
    "        \"where's\": \"where has / where is\",\n",
    "        \"where've\": \"where have\",\n",
    "        \"who'll\": \"who shall / who will\",\n",
    "        \"who'll've\": \"who shall have / who will have\",\n",
    "        \"who's\": \"who has / who is\",\n",
    "        \"who've\": \"who have\",\n",
    "        \"why's\": \"why has / why is\",\n",
    "        \"why've\": \"why have\",\n",
    "        \"will've\": \"will have\",\n",
    "        \"won't\": \"will not\",\n",
    "        \"won't've\": \"will not have\",\n",
    "        \"would've\": \"would have\",\n",
    "        \"wouldn't\": \"would not\",\n",
    "        \"wouldn't've\": \"would not have\",\n",
    "        \"y'all\": \"you all\",\n",
    "        \"y'all'd\": \"you all would\",\n",
    "        \"y'all'd've\": \"you all would have\",\n",
    "        \"y'all're\": \"you all are\",\n",
    "        \"y'all've\": \"you all have\",\n",
    "        \"you'd\": \"you had / you would\",\n",
    "        \"you'd've\": \"you would have\",\n",
    "        \"you'll\": \"you shall / you will\",\n",
    "        \"you'll've\": \"you shall have / you will have\",\n",
    "        \"you're\": \"you are\",\n",
    "        \"you've\": \"you have\"\n",
    "        }\n",
    "\n",
    "    stopwords_list = stopwords.words(\"english\")\n",
    "    try:\n",
    "        while text.startswith('b'):\n",
    "            text = text[1:]\n",
    "        text = text.lower()\n",
    "        for word in cont_dict.keys():\n",
    "            pattern = re.compile(f'({str(word)})',re.I)\n",
    "            text = pattern.sub(cont_dict[word],text)\n",
    "    #     print(text[:50])\n",
    "        tokens = word_tokenize(text)\n",
    "        text = ' '.join([word for word in tokens if word not in stopwords_list])\n",
    "    #     print(text[:50])\n",
    "        text = ' '.join([''.join([c if c.isalnum() else ' ' for c in word]) for word in word_tokenize(text)])\n",
    "        text = re.sub(' +', ' ', text)\n",
    "        \n",
    "    #     print(text[:50])\n",
    "        return text.strip()\n",
    "    \n",
    "    except AttributeError:\n",
    "        text = str(text)\n",
    "        return preprocess_text(text)\n",
    "    \n",
    "    except TypeError:\n",
    "        text = text.decode()[1:]\n",
    "        return preprocess(text.strip())\n",
    "\n",
    "def preprocess_ngram_column(df):\n",
    "    return df.ngram.map(lambda x: preprocess_text(x))\n",
    "\n",
    "text = \"I don't like bats, but I do like 39/2 hats!\"\n",
    "clean_text = preprocess_text(text)\n",
    "print(clean_text)"
   ]
  },
  {
   "cell_type": "code",
   "execution_count": 8,
   "metadata": {},
   "outputs": [
    {
     "name": "stdout",
     "output_type": "stream",
     "text": [
      "         date  label                                              ngram  top_n\n",
      "0  2008-08-08      0  b\"Georgia 'downs two Russian warplanes' as cou...      0\n",
      "1  2008-08-11      1  b'Why wont America and Nato help us? If they w...      0\n",
      "2  2008-08-12      0  b'Remember that adorable 9-year-old who sang a...      0\n",
      "3  2008-08-13      0  b' U.S. refuses Israel weapons to attack Iran:...      0\n",
      "4  2008-08-14      1  b'All the experts admit that we should legalis...      0\n",
      "         date  label                                              ngram  top_n\n",
      "0  2008-08-08      0  georgia downs two russian warplanes countries ...      0\n",
      "1  2008-08-11      1  why wont america nato help us wont help us hel...      0\n",
      "2  2008-08-12      0  remember adorable 9 year old sang opening cere...      0\n",
      "3  2008-08-13      0      u s refuses israel weapons attack iran report      0\n",
      "4  2008-08-14      1                   all experts admit legalise drugs      0\n"
     ]
    }
   ],
   "source": [
    "print(X_melt.head())\n",
    "X_melt['ngram'] = preprocess_ngram_column(X_melt)\n",
    "print(X_melt.head())"
   ]
  },
  {
   "cell_type": "code",
   "execution_count": 9,
   "metadata": {},
   "outputs": [],
   "source": [
    "corpus = X_melt.ngram.to_list()"
   ]
  },
  {
   "cell_type": "code",
   "execution_count": 10,
   "metadata": {},
   "outputs": [
    {
     "name": "stdout",
     "output_type": "stream",
     "text": [
      "georgia downs two russian warplanes countries move brink war\n"
     ]
    }
   ],
   "source": [
    "from collections import Counter\n",
    "print(corpus[0])"
   ]
  },
  {
   "cell_type": "code",
   "execution_count": 11,
   "metadata": {},
   "outputs": [],
   "source": [
    "from sklearn.model_selection import train_test_split\n",
    "X_train_corpus, X_test_corpus, y_train_corpus, y_test_corpus = train_test_split(corpus, X_melt.label, random_state=13)"
   ]
  },
  {
   "cell_type": "code",
   "execution_count": 12,
   "metadata": {},
   "outputs": [],
   "source": [
    "# score candidate models for transforming and classifying with headlines\n",
    "from gensim.models import Word2Vec\n",
    "from sklearn.ensemble import RandomForestClassifier, GradientBoostingClassifier\n",
    "from sklearn import svm\n",
    "from gensim.sklearn_api import W2VTransformer, D2VTransformer\n",
    "from sklearn.naive_bayes import MultinomialNB\n",
    "from sklearn.preprocessing import FunctionTransformer\n",
    "from sklearn.pipeline import FeatureUnion, Pipeline\n",
    "from sklearn.feature_extraction.text import TfidfVectorizer, TfidfTransformer, CountVectorizer\n",
    "from sklearn.linear_model import LogisticRegression, RidgeClassifier\n",
    "from sklearn.linear_model import SGDClassifier\n",
    "from sklearn.model_selection import GridSearchCV\n",
    "from sklearn.pipeline import Pipeline\n",
    "\n",
    "tfidf= TfidfVectorizer()\n",
    "cv = CountVectorizer()\n",
    "pipe = Pipeline([\n",
    "    ('vect', CountVectorizer()),\n",
    "    ('tfidf', TfidfTransformer())])\n",
    "w2v = W2VTransformer()\n",
    "d2v = D2VTransformer()\n",
    "# transformers = [('tfidf', tfidf), ('cv', cv), 'w2v', W2VTransformer]\n",
    "transformers = [('cv', cv), \n",
    "                ('tfidf', tfidf), \n",
    "                ('cv2tfidf', pipe)]\n",
    "\n",
    "mNB = MultinomialNB()\n",
    "lr = LogisticRegression(max_iter=10000)\n",
    "rc = RidgeClassifier(max_iter=10000)\n",
    "# gb=GradientBoostingClassifier(random_state=13,\n",
    "#                               subsample=0.8, \n",
    "#                               max_features=\"auto\")\n",
    "sgdc = SGDClassifier()\n",
    "# svc=svm.SVC(random_state=13, \n",
    "#             max_iter=10000, \n",
    "#             kernel='rbf')\n",
    "rf=RandomForestClassifier(random_state=13, \n",
    "                          n_jobs=-1, \n",
    "                          max_features=\"auto\")\n",
    "\n",
    "classifiers = [mNB, lr, rc, sgdc, rf]\n",
    "\n",
    "best_clf, best_score = None, 0\n",
    "\n",
    "for t in transformers:\n",
    "    try:\n",
    "        X = Pipeline([t]).fit_transform(X_train_corpus)\n",
    "        X_train, X_test, y_train, y_test = train_test_split(X, y_train_corpus, random_state=13)\n",
    "        for clf in classifiers:\n",
    "            try:\n",
    "                clf.fit(X_train, y_train)\n",
    "                score = clf.score(X_test, y_test)\n",
    "                if score > best_score:\n",
    "                    best_score, best_estimator, best_transformer = score, clf, str(t)\n",
    "            except:\n",
    "                print(f'Error classifying with {str(clf)}')\n",
    "                continue\n",
    "    except:\n",
    "        print(f'Error fitting and transforming with {str(t[0])}')\n",
    "        continue\n",
    "    "
   ]
  },
  {
   "cell_type": "code",
   "execution_count": 13,
   "metadata": {},
   "outputs": [
    {
     "name": "stdout",
     "output_type": "stream",
     "text": [
      "SGDClassifier(alpha=0.0001, average=False, class_weight=None,\n",
      "              early_stopping=False, epsilon=0.1, eta0=0.0, fit_intercept=True,\n",
      "              l1_ratio=0.15, learning_rate='optimal', loss='hinge',\n",
      "              max_iter=1000, n_iter_no_change=5, n_jobs=None, penalty='l2',\n",
      "              power_t=0.5, random_state=None, shuffle=True, tol=0.001,\n",
      "              validation_fraction=0.1, verbose=0, warm_start=False)\n",
      "0.5262762762762763\n",
      "('cv2tfidf', Pipeline(memory=None,\n",
      "         steps=[('vect',\n",
      "                 CountVectorizer(analyzer='word', binary=False,\n",
      "                                 decode_error='strict',\n",
      "                                 dtype=<class 'numpy.int64'>, encoding='utf-8',\n",
      "                                 input='content', lowercase=True, max_df=1.0,\n",
      "                                 max_features=None, min_df=1,\n",
      "                                 ngram_range=(1, 1), preprocessor=None,\n",
      "                                 stop_words=None, strip_accents=None,\n",
      "                                 token_pattern='(?u)\\\\b\\\\w\\\\w+\\\\b',\n",
      "                                 tokenizer=None, vocabulary=None)),\n",
      "                ('tfidf',\n",
      "                 TfidfTransformer(norm='l2', smooth_idf=True,\n",
      "                                  sublinear_tf=False, use_idf=True))],\n",
      "         verbose=False))\n"
     ]
    }
   ],
   "source": [
    "print(best_estimator)\n",
    "print(best_score)\n",
    "print(best_transformer)"
   ]
  },
  {
   "cell_type": "code",
   "execution_count": 14,
   "metadata": {},
   "outputs": [
    {
     "name": "stdout",
     "output_type": "stream",
     "text": [
      "Fitting 5 folds for each of 128 candidates, totalling 640 fits\n"
     ]
    },
    {
     "name": "stderr",
     "output_type": "stream",
     "text": [
      "[Parallel(n_jobs=-1)]: Using backend LokyBackend with 48 concurrent workers.\n",
      "[Parallel(n_jobs=-1)]: Done 104 tasks      | elapsed:   22.7s\n",
      "[Parallel(n_jobs=-1)]: Done 354 tasks      | elapsed:  1.1min\n",
      "[Parallel(n_jobs=-1)]: Done 640 out of 640 | elapsed:  2.1min finished\n"
     ]
    },
    {
     "name": "stdout",
     "output_type": "stream",
     "text": [
      "Best score: 0.535\n",
      "Best parameters set:\n",
      "\tcv__max_df: 0.75\n",
      "\tcv__ngram_range: (3, 6)\n",
      "\tsgdc__alpha: 1e-06\n",
      "\tsgdc__penalty: 'l2'\n"
     ]
    }
   ],
   "source": [
    "# tune hyperparameters for the best scoring candidate encoder\n",
    "pipeline = Pipeline([\n",
    "    ('cv', CountVectorizer()),\n",
    "    ('tfidf', TfidfTransformer()),\n",
    "    ('sgdc', SGDClassifier()),\n",
    "])\n",
    "\n",
    "parameters = {\n",
    "    'cv__max_df': (0.25, 0.5, 0.75, 1.0),\n",
    "    'cv__ngram_range': ((1, 1), (1, 2), (1,3), (1,4), (2,4), (2,5), (3,6), (2,7)),\n",
    "    'sgdc__alpha': (0.00001, 0.000001),\n",
    "    'sgdc__penalty': ('l2', 'elasticnet'),\n",
    "}\n",
    "\n",
    "\n",
    "text_gs = GridSearchCV(pipeline, parameters, n_jobs=-1, verbose=1)\n",
    "\n",
    "text_gs.fit(X_train_corpus, y_train_corpus)\n",
    "\n",
    "print(\"Best score: %0.3f\" % text_gs.best_score_)\n",
    "print(\"Best parameters set:\")\n",
    "best_parameters = text_gs.best_estimator_.get_params()\n",
    "for param_name in sorted(parameters.keys()):\n",
    "    print(\"\\t%s: %r\" % (param_name, best_parameters[param_name]))"
   ]
  },
  {
   "cell_type": "code",
   "execution_count": 15,
   "metadata": {},
   "outputs": [
    {
     "name": "stdout",
     "output_type": "stream",
     "text": [
      "[0 1 0 0 1 1 1 1 1 1]\n"
     ]
    }
   ],
   "source": [
    "print(text_gs.best_estimator_.predict(corpus[0:10]))"
   ]
  },
  {
   "cell_type": "code",
   "execution_count": 58,
   "metadata": {},
   "outputs": [
    {
     "name": "stdout",
     "output_type": "stream",
     "text": [
      "<class 'pandas.core.frame.DataFrame'>\n",
      "Index: 1989 entries, 2008-08-08 to 2016-07-01\n",
      "Data columns (total 25 columns):\n",
      " #   Column       Non-Null Count  Dtype\n",
      "---  ------       --------------  -----\n",
      " 0   (ngram, 0)   1989 non-null   int64\n",
      " 1   (ngram, 1)   1989 non-null   int64\n",
      " 2   (ngram, 2)   1989 non-null   int64\n",
      " 3   (ngram, 3)   1989 non-null   int64\n",
      " 4   (ngram, 4)   1989 non-null   int64\n",
      " 5   (ngram, 5)   1989 non-null   int64\n",
      " 6   (ngram, 6)   1989 non-null   int64\n",
      " 7   (ngram, 7)   1989 non-null   int64\n",
      " 8   (ngram, 8)   1989 non-null   int64\n",
      " 9   (ngram, 9)   1989 non-null   int64\n",
      " 10  (ngram, 10)  1989 non-null   int64\n",
      " 11  (ngram, 11)  1989 non-null   int64\n",
      " 12  (ngram, 12)  1989 non-null   int64\n",
      " 13  (ngram, 13)  1989 non-null   int64\n",
      " 14  (ngram, 14)  1989 non-null   int64\n",
      " 15  (ngram, 15)  1989 non-null   int64\n",
      " 16  (ngram, 16)  1989 non-null   int64\n",
      " 17  (ngram, 17)  1989 non-null   int64\n",
      " 18  (ngram, 18)  1989 non-null   int64\n",
      " 19  (ngram, 19)  1989 non-null   int64\n",
      " 20  (ngram, 20)  1989 non-null   int64\n",
      " 21  (ngram, 21)  1989 non-null   int64\n",
      " 22  (ngram, 22)  1989 non-null   int64\n",
      " 23  (ngram, 23)  1989 non-null   int64\n",
      " 24  (ngram, 24)  1989 non-null   int64\n",
      "dtypes: int64(25)\n",
      "memory usage: 404.0+ KB\n",
      "1989\n",
      "1989\n",
      "<class 'numpy.int64'> <class 'int'>\n"
     ]
    }
   ],
   "source": [
    "final_X = X_melt.copy().drop('label',axis=1)\n",
    "# print(final_X.head())\n",
    "# final_X.set_index('date',inplace=True,drop=True)\n",
    "final_X.ngram = text_gs.best_estimator_.predict(corpus)\n",
    "final_X = final_X.pivot(index='date', columns='top_n')\n",
    "# print(final_X.info())\n",
    "y = text_stock_df.Label\n",
    "# print(y.describe())\n",
    "# print(final_X.info())\n",
    "final_X.info()\n",
    "weights = [1/i for i in range(1,26)]\n",
    "votes = final_X.mean(axis=1)\n",
    "votes_binary = [round(x) for x in votes]\n",
    "print(len(votes_binary))\n",
    "print(len(y))\n",
    "print(type(y[0]), type(votes_binary[0]))\n",
    "cr = classification_report(y, votes_binary)"
   ]
  },
  {
   "cell_type": "code",
   "execution_count": 59,
   "metadata": {},
   "outputs": [
    {
     "name": "stdout",
     "output_type": "stream",
     "text": [
      "              precision    recall  f1-score   support\n",
      "\n",
      "           0       1.00      1.00      1.00       924\n",
      "           1       1.00      1.00      1.00      1065\n",
      "\n",
      "    accuracy                           1.00      1989\n",
      "   macro avg       1.00      1.00      1.00      1989\n",
      "weighted avg       1.00      1.00      1.00      1989\n",
      "\n"
     ]
    }
   ],
   "source": [
    "print(cr)"
   ]
  },
  {
   "cell_type": "code",
   "execution_count": 40,
   "metadata": {},
   "outputs": [],
   "source": [
    "# score candidates with headline votes for final classifier\n",
    "classifiers = [mNB, lr, rc, sgdc, rf]\n",
    "\n",
    "best_clf, best_score = None, 0\n",
    "\n",
    "X_train, X_test, y_train, y_test = train_test_split(final_X, y, test_size=0.3, stratify=y, random_state=13)\n",
    "for clf in classifiers:\n",
    "    clf.fit(X_train, y_train)\n",
    "    score = clf.score(X_test, y_test)\n",
    "    if score > best_score:\n",
    "        best_score, best_estimator = score, clf"
   ]
  },
  {
   "cell_type": "code",
   "execution_count": 41,
   "metadata": {},
   "outputs": [
    {
     "name": "stdout",
     "output_type": "stream",
     "text": [
      "1.0\n",
      "LogisticRegression(C=1.0, class_weight=None, dual=False, fit_intercept=True,\n",
      "                   intercept_scaling=1, l1_ratio=None, max_iter=100,\n",
      "                   multi_class='auto', n_jobs=None, penalty='l2',\n",
      "                   random_state=None, solver='lbfgs', tol=0.0001, verbose=0,\n",
      "                   warm_start=False)\n"
     ]
    }
   ],
   "source": [
    "print(best_score)\n",
    "print(best_estimator)"
   ]
  },
  {
   "cell_type": "code",
   "execution_count": 36,
   "metadata": {},
   "outputs": [
    {
     "name": "stdout",
     "output_type": "stream",
     "text": [
      "Fitting 30 folds for each of 40 candidates, totalling 1200 fits\n"
     ]
    },
    {
     "name": "stderr",
     "output_type": "stream",
     "text": [
      "[Parallel(n_jobs=-1)]: Using backend LokyBackend with 48 concurrent workers.\n",
      "[Parallel(n_jobs=-1)]: Done 149 tasks      | elapsed:    0.9s\n"
     ]
    },
    {
     "name": "stdout",
     "output_type": "stream",
     "text": [
      "Best score: 1.000\n",
      "Best parameters set:\n",
      "\tC: 100\n",
      "\tpenalty: 'l2'\n",
      "\tsolver: 'newton-cg'\n"
     ]
    },
    {
     "name": "stderr",
     "output_type": "stream",
     "text": [
      "[Parallel(n_jobs=-1)]: Done 846 tasks      | elapsed:    3.1s\n",
      "[Parallel(n_jobs=-1)]: Done 1200 out of 1200 | elapsed:    3.1s finished\n"
     ]
    }
   ],
   "source": [
    "from sklearn.model_selection import RepeatedStratifiedKFold\n",
    "lr = LogisticRegression()\n",
    "solvers = ['newton-cg', 'lbfgs', 'liblinear', 'saga']\n",
    "penalty = ['l2','elasticnet']\n",
    "c_values = [100, 10, 1.0, 0.1, 0.01]\n",
    "param_grid = dict(solver=solvers,penalty=penalty,C=c_values)\n",
    "cv = RepeatedStratifiedKFold(n_splits=10, n_repeats=3, random_state=13)\n",
    "fin_gs = GridSearchCV(lr, param_grid, cv=cv, n_jobs=-1, scoring='accuracy', error_score=0, verbose=1)\n",
    "grid_res = fin_gs.fit(X_train, y_train)\n",
    "\n",
    "print(\"Best score: %0.3f\" % fin_gs.best_score_)\n",
    "print(\"Best parameters set:\")\n",
    "best_parameters = fin_gs.best_estimator_.get_params()\n",
    "for param_name in sorted(param_grid.keys()):\n",
    "    print(\"\\t%s: %r\" % (param_name, best_parameters[param_name]))"
   ]
  },
  {
   "cell_type": "code",
   "execution_count": 37,
   "metadata": {},
   "outputs": [
    {
     "name": "stdout",
     "output_type": "stream",
     "text": [
      "Classification report on training set\n",
      "              precision    recall  f1-score   support\n",
      "\n",
      "           0       1.00      1.00      1.00       693\n",
      "           1       1.00      1.00      1.00       798\n",
      "\n",
      "    accuracy                           1.00      1491\n",
      "   macro avg       1.00      1.00      1.00      1491\n",
      "weighted avg       1.00      1.00      1.00      1491\n",
      "\n",
      "Classification report on test set\n",
      "              precision    recall  f1-score   support\n",
      "\n",
      "           0       1.00      1.00      1.00       231\n",
      "           1       1.00      1.00      1.00       267\n",
      "\n",
      "    accuracy                           1.00       498\n",
      "   macro avg       1.00      1.00      1.00       498\n",
      "weighted avg       1.00      1.00      1.00       498\n",
      "\n",
      "[1.0, 1.0, 1.0]\n",
      "[1.0, 1.0, 1.0]\n"
     ]
    },
    {
     "data": {
      "image/png": "[encoded data removed]",
      "text/plain": [
       "<Figure size 432x288 with 2 Axes>"
      ]
     },
     "metadata": {
      "needs_background": "light"
     },
     "output_type": "display_data"
    }
   ],
   "source": [
    "from sklearn.metrics import classification_report\n",
    "\n",
    "def plot_classification_report(cr, title='Classification report ', with_avg_total=False, cmap=plt.cm.Blues):\n",
    "\n",
    "    lines = cr.split('\\n')\n",
    "\n",
    "    classes = []\n",
    "    plotMat = []\n",
    "    for line in lines[2 : (len(lines) - 3)]:\n",
    "        #print(line)\n",
    "        t = line.split()\n",
    "        # print(t)\n",
    "        if len(t)==0:\n",
    "            break\n",
    "        classes.append(t[0])\n",
    "        v = [float(x) for x in t[1: len(t) - 1]]\n",
    "        print(v)\n",
    "        plotMat.append(v)\n",
    "\n",
    "    if with_avg_total:\n",
    "        aveTotal = lines[len(lines) - 1].split()\n",
    "        classes.append('avg/total')\n",
    "        vAveTotal = [float(x) for x in t[1:len(aveTotal) - 1]]\n",
    "        plotMat.append(vAveTotal)\n",
    "\n",
    "\n",
    "    plt.imshow(plotMat, interpolation='nearest', cmap=cmap)\n",
    "    plt.title(title)\n",
    "    plt.colorbar()\n",
    "    x_tick_marks = np.arange(3)\n",
    "    y_tick_marks = np.arange(len(classes))\n",
    "    plt.xticks(x_tick_marks, ['precision', 'recall', 'f1-score'], rotation=45)\n",
    "    plt.yticks(y_tick_marks, classes)\n",
    "    plt.tight_layout()\n",
    "    plt.ylabel('Classes')\n",
    "    plt.xlabel('Measures')\n",
    "\n",
    "best_model = fin_gs.best_estimator_\n",
    "y_train_pred = best_model.predict(X_train)\n",
    "y_test_pred = best_model.predict(X_test)\n",
    "cr_train = classification_report(y_train, y_train_pred)\n",
    "cr_test = classification_report(y_test, y_test_pred)\n",
    "print(\"Classification report on training set\")\n",
    "print(cr_train)\n",
    "print(\"Classification report on test set\")\n",
    "# plot_classification_report(cr_train)\n",
    "print(cr_test)\n",
    "plot_classification_report(cr_test)"
   ]
  },
  {
   "cell_type": "code",
   "execution_count": 39,
   "metadata": {},
   "outputs": [
    {
     "name": "stdout",
     "output_type": "stream",
     "text": [
      "ROCAUC score: 0.5\n",
      "Accuracy score: 0.536144578313253\n",
      "F1 score: 0.6980392156862745\n",
      "ROCAUC score: 1.0\n",
      "Accuracy score: 1.0\n",
      "F1 score: 1.0\n"
     ]
    }
   ],
   "source": [
    "from sklearn.metrics import roc_auc_score, accuracy_score, f1_score\n",
    "base_preds = pd.Series([1]*len(y_test))\n",
    "\n",
    "for preds in [base_preds, y_test_pred]:\n",
    "    print('ROCAUC score:',roc_auc_score(y_test, preds))\n",
    "    print('Accuracy score:',accuracy_score(y_test, preds))\n",
    "    print('F1 score:',f1_score(y_test, preds))"
   ]
  },
  {
   "cell_type": "code",
   "execution_count": null,
   "metadata": {},
   "outputs": [],
   "source": []
  }
 ],
 "metadata": {
  "kernelspec": {
   "display_name": "Python 3",
   "language": "python",
   "name": "python3"
  },
  "language_info": {
   "codemirror_mode": {
    "name": "ipython",
    "version": 3
   },
   "file_extension": ".py",
   "mimetype": "text/x-python",
   "name": "python",
   "nbconvert_exporter": "python",
   "pygments_lexer": "ipython3",
   "version": "3.8.8"
  }
 },
 "nbformat": 4,
 "nbformat_minor": 4
}
