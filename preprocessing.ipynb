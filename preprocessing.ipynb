{
 "cells": [
  {
   "cell_type": "code",
   "execution_count": 1,
   "id": "45ea39d4-4080-41eb-a0e6-3e9eda83c481",
   "metadata": {},
   "outputs": [],
   "source": [
    "import pandas as pd\n",
    "import numpy as np\n",
    "import nltk\n",
    "from nltk.tokenize import RegexpTokenizer, sent_tokenize, word_tokenize\n",
    "from nltk.corpus import stopwords\n",
    "from nltk.tag import pos_tag, map_tag\n",
    "import matplotlib.pyplot as plt\n",
    "import seaborn as sns\n",
    "import pickle\n",
    "%matplotlib inline"
   ]
  },
  {
   "cell_type": "code",
   "execution_count": 2,
   "id": "a32ed17d-0347-46a4-b98e-18ae89172746",
   "metadata": {},
   "outputs": [],
   "source": [
    "raw_pf_df = pd.read_csv('kaggle_poem_dataset.csv')\n",
    "raw_pf_df['Author'] = raw_pf_df.Author.astype('category')\n",
    "raw_pf_df.columns = [name.lower() for name in raw_pf_df.columns]\n",
    "raw_pf_df = raw_pf_df.drop(['unnamed: 0', 'poetry foundation id'], axis=1)"
   ]
  },
  {
   "cell_type": "code",
   "execution_count": 3,
   "id": "ff11d70b-6245-4d4e-82a4-828631096616",
   "metadata": {},
   "outputs": [
    {
     "name": "stdout",
     "output_type": "stream",
     "text": [
      "0    Dear Writers, I’m compiling the first in what ...\n",
      "1    Philosophic\\nin its complex, ovoid emptiness,\\...\n",
      "2    We'd  like  to  talk  with  you  about  fear t...\n",
      "3    The Wise Men will unlearn your name.\\nAbove yo...\n",
      "4    For Jack Collom\\n10 Things I do Every Day\\n\\np...\n",
      "Name: content, dtype: object\n"
     ]
    }
   ],
   "source": [
    "print(raw_pf_df.content.head())"
   ]
  },
  {
   "cell_type": "code",
   "execution_count": 4,
   "id": "3ab27c25-a3a2-4523-89aa-4b20821a1208",
   "metadata": {
    "scrolled": true,
    "tags": []
   },
   "outputs": [
    {
     "name": "stdout",
     "output_type": "stream",
     "text": [
      "<class 'pandas.core.frame.DataFrame'>\n",
      "Int64Index: 15638 entries, 0 to 15651\n",
      "Data columns (total 3 columns):\n",
      " #   Column   Non-Null Count  Dtype   \n",
      "---  ------   --------------  -----   \n",
      " 0   author   15638 non-null  category\n",
      " 1   title    15638 non-null  object  \n",
      " 2   content  15638 non-null  object  \n",
      "dtypes: category(1), object(2)\n",
      "memory usage: 552.0+ KB\n",
      "None\n"
     ]
    }
   ],
   "source": [
    "# remove duplicates\n",
    "print(raw_pf_df.info())\n",
    "pf_df = raw_pf_df.copy().drop_duplicates(subset='content')\n",
    "print(pf_df.info())"
   ]
  },
  {
   "cell_type": "code",
   "execution_count": 5,
   "id": "0077e769-8d54-43ce-a8a1-2edaa9e24696",
   "metadata": {},
   "outputs": [],
   "source": [
    "# create function to clean lines\n",
    "import string, re\n",
    "from nltk.corpus import words\n",
    "import multiprocessing as mp\n",
    "def clean_text(text):\n",
    "    text = text.lower()\n",
    "    text = re.sub(' +', ' ', text)\n",
    "    text = text.replace('\\%','')\n",
    "    text = re.sub('\\[.*?\\]', '', text)\n",
    "    text = re.sub('https?://\\S+|www\\.\\S+', '', text)\n",
    "    text = re.sub('<.*?>+', '', text)\n",
    "#     text = re.sub('[%s]' % re.escape(string.punctuation), '', text)\n",
    "    text = re.sub('\\w*\\d\\w*', '', text)\n",
    "    tokens = text.split()\n",
    "    text = \" \".join(filter(lambda x:x[0]!=\"@\", tokens))\n",
    "    tokens = text.split()\n",
    "    text = \" \".join([s.strip(string.punctuation) for s in tokens])\n",
    "    text = text.encode(\"ascii\", \"ignore\").decode()\n",
    "    return text.strip()\n",
    "\n",
    "def clean_list(list_of_strings):\n",
    "    return [clean_text(string) for string in list_of_strings if string]"
   ]
  },
  {
   "cell_type": "code",
   "execution_count": 7,
   "id": "da91d8c0-e252-4238-979f-57cadba314fb",
   "metadata": {},
   "outputs": [],
   "source": [
    "# create column to store document as list of lines\n",
    "pf_df['line'] = pf_df.content.str.split('\\n')\n",
    "\n",
    "#clean each line in the list of lines\n",
    "pf_df['line'] = pf_df['line'].map(clean_list)"
   ]
  },
  {
   "cell_type": "code",
   "execution_count": 8,
   "id": "454aa542-89ef-4caf-9c82-b545553d8ede",
   "metadata": {},
   "outputs": [
    {
     "name": "stdout",
     "output_type": "stream",
     "text": [
      "author                                        Wendy Videlock\n",
      "title                                                      !\n",
      "content    Dear Writers, I’m compiling the first in what ...\n",
      "line       [dear writers im compiling the first in what i...\n",
      "Name: 0, dtype: object\n"
     ]
    }
   ],
   "source": [
    "# remove empty lines for accurate line count\n",
    "def remove_empty_lines(list_of_lines):\n",
    "    try:\n",
    "        return [i for i in list_of_lines if i]\n",
    "    except TypeError:\n",
    "        return pd.NA\n",
    "    \n",
    "pf_df['line'] = pf_df.line.map(remove_empty_lines)\n",
    "print(pf_df.iloc[0])"
   ]
  },
  {
   "cell_type": "code",
   "execution_count": 9,
   "id": "a604dd98-0604-46c5-a99b-356399bf4367",
   "metadata": {},
   "outputs": [
    {
     "name": "stdout",
     "output_type": "stream",
     "text": [
      "<class 'pandas.core.frame.DataFrame'>\n",
      "Int64Index: 15638 entries, 0 to 15651\n",
      "Data columns (total 5 columns):\n",
      " #   Column           Non-Null Count  Dtype   \n",
      "---  ------           --------------  -----   \n",
      " 0   author           15638 non-null  category\n",
      " 1   title            15638 non-null  object  \n",
      " 2   content          15638 non-null  object  \n",
      " 3   line             15638 non-null  object  \n",
      " 4   length_in_lines  15638 non-null  int64   \n",
      "dtypes: category(1), int64(1), object(3)\n",
      "memory usage: 796.3+ KB\n"
     ]
    }
   ],
   "source": [
    "# create column for length of poem in lines\n",
    "pf_df['length_in_lines'] = pf_df.line.map(len)\n",
    "pf_df.info()"
   ]
  },
  {
   "cell_type": "code",
   "execution_count": 10,
   "id": "db179295-3503-4ffa-a100-c77da7ff24d5",
   "metadata": {},
   "outputs": [
    {
     "data": {
      "text/plain": [
       "<seaborn.axisgrid.FacetGrid at 0x234a96f4130>"
      ]
     },
     "execution_count": 10,
     "metadata": {},
     "output_type": "execute_result"
    },
    {
     "data": {
      "image/png": "[encoded data removed]",
      "text/plain": [
       "<Figure size 360x360 with 1 Axes>"
      ]
     },
     "metadata": {
      "needs_background": "light"
     },
     "output_type": "display_data"
    }
   ],
   "source": [
    "sns.displot(pf_df.length_in_lines, kde=True)"
   ]
  },
  {
   "cell_type": "code",
   "execution_count": 11,
   "id": "9f99f54b-4d9a-4ba6-b1d6-818499aa5c1a",
   "metadata": {},
   "outputs": [],
   "source": [
    "# filtering outliers with zscore\n",
    "from scipy import stats\n",
    "clean_df = pf_df[(np.abs(stats.zscore(pf_df.length_in_lines)) < 2)]"
   ]
  },
  {
   "cell_type": "code",
   "execution_count": 12,
   "id": "12ba4d5d-c6f9-48fa-951d-40ad71624897",
   "metadata": {},
   "outputs": [],
   "source": [
    "# filter sub-haiku length works and sentential logic prose poems\n",
    "clean_df = clean_df[clean_df.length_in_lines > 2]"
   ]
  },
  {
   "cell_type": "code",
   "execution_count": 13,
   "id": "f1d8b40d-b90d-4cde-9ed2-35ee5eac2f08",
   "metadata": {},
   "outputs": [
    {
     "data": {
      "text/plain": [
       "<seaborn.axisgrid.FacetGrid at 0x234b2ba9e80>"
      ]
     },
     "execution_count": 13,
     "metadata": {},
     "output_type": "execute_result"
    },
    {
     "data": {
      "image/png": "[encoded data removed]",
      "text/plain": [
       "<Figure size 360x360 with 1 Axes>"
      ]
     },
     "metadata": {
      "needs_background": "light"
     },
     "output_type": "display_data"
    }
   ],
   "source": [
    "sns.displot(clean_df.length_in_lines, kde=True)"
   ]
  },
  {
   "cell_type": "code",
   "execution_count": 14,
   "id": "0ff434b9-7c33-4011-bd96-67ba61928f9b",
   "metadata": {},
   "outputs": [],
   "source": [
    "# create lexical diversity feature for each poem\n",
    "def lexical_diversity(line_list):\n",
    "    doc_string = ' '.join(line_list)\n",
    "    words = word_tokenize(doc_string)\n",
    "    return (len(set(words))/len(words))\n",
    "        \n",
    "clean_df['lexical_diversity'] = clean_df.line.map(lexical_diversity)"
   ]
  },
  {
   "cell_type": "code",
   "execution_count": 60,
   "id": "b3a90be5-5cb0-4f3a-be69-8f7d067cac2c",
   "metadata": {},
   "outputs": [
    {
     "ename": "NameError",
     "evalue": "name 'clean_dfhead' is not defined",
     "output_type": "error",
     "traceback": [
      "\u001b[1;31m---------------------------------------------------------------------------\u001b[0m",
      "\u001b[1;31mNameError\u001b[0m                                 Traceback (most recent call last)",
      "\u001b[1;32m<ipython-input-60-8d3934b7a26e>\u001b[0m in \u001b[0;36m<module>\u001b[1;34m\u001b[0m\n\u001b[1;32m----> 1\u001b[1;33m \u001b[0mclean_dfhead\u001b[0m\u001b[1;33m(\u001b[0m\u001b[1;33m)\u001b[0m\u001b[1;33m\u001b[0m\u001b[1;33m\u001b[0m\u001b[0m\n\u001b[0m",
      "\u001b[1;31mNameError\u001b[0m: name 'clean_dfhead' is not defined"
     ]
    }
   ],
   "source": [
    "clean_df.head()"
   ]
  },
  {
   "cell_type": "code",
   "execution_count": 16,
   "id": "d661c5d3-e0f0-4ffe-b2e9-cecf80547a2d",
   "metadata": {},
   "outputs": [],
   "source": [
    "def lines2words(list_of_lines):\n",
    "    text = list_of_lines\n",
    "    while not isinstance(text, str):\n",
    "        try:\n",
    "            text = ' '.join(text)\n",
    "        except TypeError:\n",
    "            try:\n",
    "                   text = ' '.join([item for sublist in text for item in sublist])\n",
    "            except:\n",
    "                print(f\"problem with {text}\")\n",
    "    return text.split()\n"
   ]
  },
  {
   "cell_type": "code",
   "execution_count": 17,
   "id": "3678efbe-861a-496b-9ed2-f383dd3f0fa5",
   "metadata": {},
   "outputs": [],
   "source": [
    "poems_corpus = clean_df.line.map(lines2words)\n",
    "clean_df['words'] = poems_corpus"
   ]
  },
  {
   "cell_type": "code",
   "execution_count": 18,
   "id": "184fda08-7ea1-417d-9065-8c0f30917909",
   "metadata": {},
   "outputs": [],
   "source": [
    "with open('poem_corpus.pkl', 'wb') as f:\n",
    "    pickle.dump(poems_corpus, f)"
   ]
  },
  {
   "cell_type": "code",
   "execution_count": 19,
   "id": "00f88b37-9360-4994-93d3-21b93190ea09",
   "metadata": {},
   "outputs": [
    {
     "name": "stdout",
     "output_type": "stream",
     "text": [
      "[4, 4, 5, 4, 4, 10]\n"
     ]
    }
   ],
   "source": [
    "def wds2len(list_of_words):\n",
    "    return [len(word) for word in list_of_words]\n",
    "\n",
    "test_list = ['hats','bats','gnats','cats','tats','catamarind']\n",
    "print(wds2len(test_list))\n",
    "clean_df['word_lengths'] = clean_df.words.map(wds2len)"
   ]
  },
  {
   "cell_type": "code",
   "execution_count": 20,
   "id": "8195e938-5b3c-40f1-b3c9-cde9fbc8879a",
   "metadata": {},
   "outputs": [],
   "source": [
    "clean_df['max_word_length'] = clean_df.word_lengths.map(np.max)"
   ]
  },
  {
   "cell_type": "code",
   "execution_count": 21,
   "id": "afb084aa-a797-4c55-ae91-5a04b3e96d81",
   "metadata": {},
   "outputs": [
    {
     "name": "stdout",
     "output_type": "stream",
     "text": [
      "(15065, 9)\n"
     ]
    },
    {
     "data": {
      "text/html": [
       "<div>\n",
       "<style scoped>\n",
       "    .dataframe tbody tr th:only-of-type {\n",
       "        vertical-align: middle;\n",
       "    }\n",
       "\n",
       "    .dataframe tbody tr th {\n",
       "        vertical-align: top;\n",
       "    }\n",
       "\n",
       "    .dataframe thead th {\n",
       "        text-align: right;\n",
       "    }\n",
       "</style>\n",
       "<table border=\"1\" class=\"dataframe\">\n",
       "  <thead>\n",
       "    <tr style=\"text-align: right;\">\n",
       "      <th></th>\n",
       "      <th>content</th>\n",
       "      <th>line</th>\n",
       "      <th>words</th>\n",
       "      <th>length_in_lines</th>\n",
       "      <th>lexical_diversity</th>\n",
       "      <th>word_lengths</th>\n",
       "      <th>max_word_length</th>\n",
       "    </tr>\n",
       "  </thead>\n",
       "  <tbody>\n",
       "    <tr>\n",
       "      <th>1</th>\n",
       "      <td>Philosophic\\nin its complex, ovoid emptiness,\\...</td>\n",
       "      <td>[philosophic, in its complex ovoid emptiness, ...</td>\n",
       "      <td>[philosophic, in, its, complex, ovoid, emptine...</td>\n",
       "      <td>15</td>\n",
       "      <td>0.863636</td>\n",
       "      <td>[11, 2, 3, 7, 5, 9, 1, 8, 6, 6, 2, 2, 1, 4, 2,...</td>\n",
       "      <td>11</td>\n",
       "    </tr>\n",
       "    <tr>\n",
       "      <th>2</th>\n",
       "      <td>We'd  like  to  talk  with  you  about  fear t...</td>\n",
       "      <td>[we'd like to talk with you about fear they sa...</td>\n",
       "      <td>[we'd, like, to, talk, with, you, about, fear,...</td>\n",
       "      <td>11</td>\n",
       "      <td>0.644068</td>\n",
       "      <td>[4, 4, 2, 4, 4, 3, 5, 4, 4, 4, 2, 4, 6, 4, 2, ...</td>\n",
       "      <td>10</td>\n",
       "    </tr>\n",
       "    <tr>\n",
       "      <th>3</th>\n",
       "      <td>The Wise Men will unlearn your name.\\nAbove yo...</td>\n",
       "      <td>[the wise men will unlearn your name, above yo...</td>\n",
       "      <td>[the, wise, men, will, unlearn, your, name, ab...</td>\n",
       "      <td>24</td>\n",
       "      <td>0.679739</td>\n",
       "      <td>[3, 4, 3, 4, 7, 4, 4, 5, 4, 4, 2, 4, 4, 5, 3, ...</td>\n",
       "      <td>12</td>\n",
       "    </tr>\n",
       "    <tr>\n",
       "      <th>4</th>\n",
       "      <td>For Jack Collom\\n10 Things I do Every Day\\n\\np...</td>\n",
       "      <td>[for jack collom, things i do every day, play ...</td>\n",
       "      <td>[for, jack, collom, things, i, do, every, day,...</td>\n",
       "      <td>26</td>\n",
       "      <td>0.848101</td>\n",
       "      <td>[3, 4, 6, 6, 1, 2, 5, 3, 4, 5, 5, 4, 5, 3, 4, ...</td>\n",
       "      <td>13</td>\n",
       "    </tr>\n",
       "    <tr>\n",
       "      <th>5</th>\n",
       "      <td>WINTER\\nMore time is spent at the window.\\n\\nS...</td>\n",
       "      <td>[winter, more time is spent at the window, sum...</td>\n",
       "      <td>[winter, more, time, is, spent, at, the, windo...</td>\n",
       "      <td>65</td>\n",
       "      <td>0.575843</td>\n",
       "      <td>[6, 4, 4, 2, 5, 2, 3, 6, 6, 3, 2, 5, 4, 3, 2, ...</td>\n",
       "      <td>11</td>\n",
       "    </tr>\n",
       "  </tbody>\n",
       "</table>\n",
       "</div>"
      ],
      "text/plain": [
       "                                             content  \\\n",
       "1  Philosophic\\nin its complex, ovoid emptiness,\\...   \n",
       "2  We'd  like  to  talk  with  you  about  fear t...   \n",
       "3  The Wise Men will unlearn your name.\\nAbove yo...   \n",
       "4  For Jack Collom\\n10 Things I do Every Day\\n\\np...   \n",
       "5  WINTER\\nMore time is spent at the window.\\n\\nS...   \n",
       "\n",
       "                                                line  \\\n",
       "1  [philosophic, in its complex ovoid emptiness, ...   \n",
       "2  [we'd like to talk with you about fear they sa...   \n",
       "3  [the wise men will unlearn your name, above yo...   \n",
       "4  [for jack collom, things i do every day, play ...   \n",
       "5  [winter, more time is spent at the window, sum...   \n",
       "\n",
       "                                               words  length_in_lines  \\\n",
       "1  [philosophic, in, its, complex, ovoid, emptine...               15   \n",
       "2  [we'd, like, to, talk, with, you, about, fear,...               11   \n",
       "3  [the, wise, men, will, unlearn, your, name, ab...               24   \n",
       "4  [for, jack, collom, things, i, do, every, day,...               26   \n",
       "5  [winter, more, time, is, spent, at, the, windo...               65   \n",
       "\n",
       "   lexical_diversity                                       word_lengths  \\\n",
       "1           0.863636  [11, 2, 3, 7, 5, 9, 1, 8, 6, 6, 2, 2, 1, 4, 2,...   \n",
       "2           0.644068  [4, 4, 2, 4, 4, 3, 5, 4, 4, 4, 2, 4, 6, 4, 2, ...   \n",
       "3           0.679739  [3, 4, 3, 4, 7, 4, 4, 5, 4, 4, 2, 4, 4, 5, 3, ...   \n",
       "4           0.848101  [3, 4, 6, 6, 1, 2, 5, 3, 4, 5, 5, 4, 5, 3, 4, ...   \n",
       "5           0.575843  [6, 4, 4, 2, 5, 2, 3, 6, 6, 3, 2, 5, 4, 3, 2, ...   \n",
       "\n",
       "   max_word_length  \n",
       "1               11  \n",
       "2               10  \n",
       "3               12  \n",
       "4               13  \n",
       "5               11  "
      ]
     },
     "execution_count": 21,
     "metadata": {},
     "output_type": "execute_result"
    }
   ],
   "source": [
    "print(clean_df.shape)\n",
    "clean_df[['content', 'line', 'words', 'length_in_lines', 'lexical_diversity', 'word_lengths', 'max_word_length']].head()"
   ]
  },
  {
   "cell_type": "code",
   "execution_count": 22,
   "id": "6a3be482-c290-4ef8-9979-7b88382a68c9",
   "metadata": {},
   "outputs": [
    {
     "data": {
      "text/plain": [
       "<seaborn.axisgrid.FacetGrid at 0x234ba843ee0>"
      ]
     },
     "execution_count": 22,
     "metadata": {},
     "output_type": "execute_result"
    },
    {
     "data": {
      "image/png": "[encoded data removed]",
      "text/plain": [
       "<Figure size 360x360 with 1 Axes>"
      ]
     },
     "metadata": {
      "needs_background": "light"
     },
     "output_type": "display_data"
    }
   ],
   "source": [
    "sns.displot(clean_df.max_word_length, discrete=True)"
   ]
  },
  {
   "cell_type": "code",
   "execution_count": 23,
   "id": "32b923ef-33e4-471a-bc72-c8104e7cdc52",
   "metadata": {},
   "outputs": [
    {
     "data": {
      "text/plain": [
       "<seaborn.axisgrid.FacetGrid at 0x234c99e5e50>"
      ]
     },
     "execution_count": 23,
     "metadata": {},
     "output_type": "execute_result"
    },
    {
     "data": {
      "image/png": "[encoded data removed]",
      "text/plain": [
       "<Figure size 360x360 with 1 Axes>"
      ]
     },
     "metadata": {
      "needs_background": "light"
     },
     "output_type": "display_data"
    }
   ],
   "source": [
    "cleanest_df = clean_df[clean_df.max_word_length < 20]\n",
    "sns.displot(cleanest_df.max_word_length, discrete=True)"
   ]
  },
  {
   "cell_type": "code",
   "execution_count": 24,
   "id": "2bd89af6-54d5-491f-91d5-fb1c59c3435a",
   "metadata": {},
   "outputs": [],
   "source": [
    "with open('clean_df.pkl', 'wb') as f:\n",
    "    pickle.dump(cleanest_df, f)"
   ]
  },
  {
   "cell_type": "code",
   "execution_count": 25,
   "id": "24c678d4-0100-4759-a1c2-44227ee2dfa1",
   "metadata": {},
   "outputs": [
    {
     "data": {
      "text/plain": [
       "<seaborn.axisgrid.FacetGrid at 0x234c9a3da30>"
      ]
     },
     "execution_count": 25,
     "metadata": {},
     "output_type": "execute_result"
    },
    {
     "data": {
      "image/png": "[encoded data removed]",
      "text/plain": [
       "<Figure size 360x360 with 1 Axes>"
      ]
     },
     "metadata": {
      "needs_background": "light"
     },
     "output_type": "display_data"
    }
   ],
   "source": [
    "sns.displot(cleanest_df.lexical_diversity, kde=True)"
   ]
  },
  {
   "cell_type": "code",
   "execution_count": 26,
   "id": "1a0b822e-b7d6-4778-87de-64911ed34804",
   "metadata": {},
   "outputs": [
    {
     "data": {
      "text/html": [
       "<div>\n",
       "<style scoped>\n",
       "    .dataframe tbody tr th:only-of-type {\n",
       "        vertical-align: middle;\n",
       "    }\n",
       "\n",
       "    .dataframe tbody tr th {\n",
       "        vertical-align: top;\n",
       "    }\n",
       "\n",
       "    .dataframe thead th {\n",
       "        text-align: right;\n",
       "    }\n",
       "</style>\n",
       "<table border=\"1\" class=\"dataframe\">\n",
       "  <thead>\n",
       "    <tr style=\"text-align: right;\">\n",
       "      <th></th>\n",
       "      <th>author</th>\n",
       "      <th>title</th>\n",
       "      <th>content</th>\n",
       "      <th>line</th>\n",
       "      <th>length_in_lines</th>\n",
       "      <th>lexical_diversity</th>\n",
       "      <th>words</th>\n",
       "      <th>word_lengths</th>\n",
       "      <th>max_word_length</th>\n",
       "    </tr>\n",
       "  </thead>\n",
       "  <tbody>\n",
       "    <tr>\n",
       "      <th>1</th>\n",
       "      <td>Hailey Leithauser</td>\n",
       "      <td>0</td>\n",
       "      <td>Philosophic\\nin its complex, ovoid emptiness,\\...</td>\n",
       "      <td>[philosophic, in its complex ovoid emptiness, ...</td>\n",
       "      <td>15</td>\n",
       "      <td>0.863636</td>\n",
       "      <td>[philosophic, in, its, complex, ovoid, emptine...</td>\n",
       "      <td>[11, 2, 3, 7, 5, 9, 1, 8, 6, 6, 2, 2, 1, 4, 2,...</td>\n",
       "      <td>11</td>\n",
       "    </tr>\n",
       "    <tr>\n",
       "      <th>2</th>\n",
       "      <td>Jody Gladding</td>\n",
       "      <td>1-800-FEAR</td>\n",
       "      <td>We'd  like  to  talk  with  you  about  fear t...</td>\n",
       "      <td>[we'd like to talk with you about fear they sa...</td>\n",
       "      <td>11</td>\n",
       "      <td>0.644068</td>\n",
       "      <td>[we'd, like, to, talk, with, you, about, fear,...</td>\n",
       "      <td>[4, 4, 2, 4, 4, 3, 5, 4, 4, 4, 2, 4, 6, 4, 2, ...</td>\n",
       "      <td>10</td>\n",
       "    </tr>\n",
       "    <tr>\n",
       "      <th>3</th>\n",
       "      <td>Joseph Brodsky</td>\n",
       "      <td>1 January 1965</td>\n",
       "      <td>The Wise Men will unlearn your name.\\nAbove yo...</td>\n",
       "      <td>[the wise men will unlearn your name, above yo...</td>\n",
       "      <td>24</td>\n",
       "      <td>0.679739</td>\n",
       "      <td>[the, wise, men, will, unlearn, your, name, ab...</td>\n",
       "      <td>[3, 4, 3, 4, 7, 4, 4, 5, 4, 4, 2, 4, 4, 5, 3, ...</td>\n",
       "      <td>12</td>\n",
       "    </tr>\n",
       "    <tr>\n",
       "      <th>4</th>\n",
       "      <td>Ted Berrigan</td>\n",
       "      <td>3 Pages</td>\n",
       "      <td>For Jack Collom\\n10 Things I do Every Day\\n\\np...</td>\n",
       "      <td>[for jack collom, things i do every day, play ...</td>\n",
       "      <td>26</td>\n",
       "      <td>0.848101</td>\n",
       "      <td>[for, jack, collom, things, i, do, every, day,...</td>\n",
       "      <td>[3, 4, 6, 6, 1, 2, 5, 3, 4, 5, 5, 4, 5, 3, 4, ...</td>\n",
       "      <td>13</td>\n",
       "    </tr>\n",
       "    <tr>\n",
       "      <th>5</th>\n",
       "      <td>Joe Brainard</td>\n",
       "      <td>30 One-Liners</td>\n",
       "      <td>WINTER\\nMore time is spent at the window.\\n\\nS...</td>\n",
       "      <td>[winter, more time is spent at the window, sum...</td>\n",
       "      <td>65</td>\n",
       "      <td>0.575843</td>\n",
       "      <td>[winter, more, time, is, spent, at, the, windo...</td>\n",
       "      <td>[6, 4, 4, 2, 5, 2, 3, 6, 6, 3, 2, 5, 4, 3, 2, ...</td>\n",
       "      <td>11</td>\n",
       "    </tr>\n",
       "  </tbody>\n",
       "</table>\n",
       "</div>"
      ],
      "text/plain": [
       "              author           title  \\\n",
       "1  Hailey Leithauser               0   \n",
       "2      Jody Gladding      1-800-FEAR   \n",
       "3     Joseph Brodsky  1 January 1965   \n",
       "4       Ted Berrigan         3 Pages   \n",
       "5       Joe Brainard   30 One-Liners   \n",
       "\n",
       "                                             content  \\\n",
       "1  Philosophic\\nin its complex, ovoid emptiness,\\...   \n",
       "2  We'd  like  to  talk  with  you  about  fear t...   \n",
       "3  The Wise Men will unlearn your name.\\nAbove yo...   \n",
       "4  For Jack Collom\\n10 Things I do Every Day\\n\\np...   \n",
       "5  WINTER\\nMore time is spent at the window.\\n\\nS...   \n",
       "\n",
       "                                                line  length_in_lines  \\\n",
       "1  [philosophic, in its complex ovoid emptiness, ...               15   \n",
       "2  [we'd like to talk with you about fear they sa...               11   \n",
       "3  [the wise men will unlearn your name, above yo...               24   \n",
       "4  [for jack collom, things i do every day, play ...               26   \n",
       "5  [winter, more time is spent at the window, sum...               65   \n",
       "\n",
       "   lexical_diversity                                              words  \\\n",
       "1           0.863636  [philosophic, in, its, complex, ovoid, emptine...   \n",
       "2           0.644068  [we'd, like, to, talk, with, you, about, fear,...   \n",
       "3           0.679739  [the, wise, men, will, unlearn, your, name, ab...   \n",
       "4           0.848101  [for, jack, collom, things, i, do, every, day,...   \n",
       "5           0.575843  [winter, more, time, is, spent, at, the, windo...   \n",
       "\n",
       "                                        word_lengths  max_word_length  \n",
       "1  [11, 2, 3, 7, 5, 9, 1, 8, 6, 6, 2, 2, 1, 4, 2,...               11  \n",
       "2  [4, 4, 2, 4, 4, 3, 5, 4, 4, 4, 2, 4, 6, 4, 2, ...               10  \n",
       "3  [3, 4, 3, 4, 7, 4, 4, 5, 4, 4, 2, 4, 4, 5, 3, ...               12  \n",
       "4  [3, 4, 6, 6, 1, 2, 5, 3, 4, 5, 5, 4, 5, 3, 4, ...               13  \n",
       "5  [6, 4, 4, 2, 5, 2, 3, 6, 6, 3, 2, 5, 4, 3, 2, ...               11  "
      ]
     },
     "execution_count": 26,
     "metadata": {},
     "output_type": "execute_result"
    }
   ],
   "source": [
    "cleanest_df.head()"
   ]
  },
  {
   "cell_type": "code",
   "execution_count": 27,
   "id": "f02199da-a0ee-4b9b-99e4-7c3852693d28",
   "metadata": {},
   "outputs": [],
   "source": [
    "line_df = cleanest_df.drop(['length_in_lines', 'content','lexical_diversity', 'word_lengths', 'words', 'max_word_length'],axis=1).explode('line')\n",
    "line_df = line_df.reset_index(drop=True)"
   ]
  },
  {
   "cell_type": "code",
   "execution_count": 28,
   "id": "79da3079-33b3-4195-9e36-b123d55db688",
   "metadata": {},
   "outputs": [],
   "source": [
    "line_df['line_no'] = line_df.groupby(['author',\"title\"]).cumcount()+1"
   ]
  },
  {
   "cell_type": "code",
   "execution_count": 29,
   "id": "7ea4b034-2316-448a-bd5e-eb366f81286b",
   "metadata": {},
   "outputs": [
    {
     "data": {
      "text/html": [
       "<div>\n",
       "<style scoped>\n",
       "    .dataframe tbody tr th:only-of-type {\n",
       "        vertical-align: middle;\n",
       "    }\n",
       "\n",
       "    .dataframe tbody tr th {\n",
       "        vertical-align: top;\n",
       "    }\n",
       "\n",
       "    .dataframe thead th {\n",
       "        text-align: right;\n",
       "    }\n",
       "</style>\n",
       "<table border=\"1\" class=\"dataframe\">\n",
       "  <thead>\n",
       "    <tr style=\"text-align: right;\">\n",
       "      <th></th>\n",
       "      <th>author</th>\n",
       "      <th>title</th>\n",
       "      <th>line</th>\n",
       "      <th>line_no</th>\n",
       "    </tr>\n",
       "  </thead>\n",
       "  <tbody>\n",
       "    <tr>\n",
       "      <th>0</th>\n",
       "      <td>Hailey Leithauser</td>\n",
       "      <td>0</td>\n",
       "      <td>philosophic</td>\n",
       "      <td>1</td>\n",
       "    </tr>\n",
       "    <tr>\n",
       "      <th>1</th>\n",
       "      <td>Hailey Leithauser</td>\n",
       "      <td>0</td>\n",
       "      <td>in its complex ovoid emptiness</td>\n",
       "      <td>2</td>\n",
       "    </tr>\n",
       "    <tr>\n",
       "      <th>2</th>\n",
       "      <td>Hailey Leithauser</td>\n",
       "      <td>0</td>\n",
       "      <td>a skillful pundit coined it as a sort</td>\n",
       "      <td>3</td>\n",
       "    </tr>\n",
       "    <tr>\n",
       "      <th>3</th>\n",
       "      <td>Hailey Leithauser</td>\n",
       "      <td>0</td>\n",
       "      <td>of stopgap doorstop for those</td>\n",
       "      <td>4</td>\n",
       "    </tr>\n",
       "    <tr>\n",
       "      <th>4</th>\n",
       "      <td>Hailey Leithauser</td>\n",
       "      <td>0</td>\n",
       "      <td>quaint equations</td>\n",
       "      <td>5</td>\n",
       "    </tr>\n",
       "  </tbody>\n",
       "</table>\n",
       "</div>"
      ],
      "text/plain": [
       "              author title                                   line  line_no\n",
       "0  Hailey Leithauser     0                            philosophic        1\n",
       "1  Hailey Leithauser     0         in its complex ovoid emptiness        2\n",
       "2  Hailey Leithauser     0  a skillful pundit coined it as a sort        3\n",
       "3  Hailey Leithauser     0          of stopgap doorstop for those        4\n",
       "4  Hailey Leithauser     0                       quaint equations        5"
      ]
     },
     "execution_count": 29,
     "metadata": {},
     "output_type": "execute_result"
    }
   ],
   "source": [
    "line_df.head()"
   ]
  },
  {
   "cell_type": "code",
   "execution_count": 30,
   "id": "83b4086d-0f66-42cf-aa5b-9ab9fec69ef0",
   "metadata": {},
   "outputs": [
    {
     "data": {
      "text/html": [
       "<div>\n",
       "<style scoped>\n",
       "    .dataframe tbody tr th:only-of-type {\n",
       "        vertical-align: middle;\n",
       "    }\n",
       "\n",
       "    .dataframe tbody tr th {\n",
       "        vertical-align: top;\n",
       "    }\n",
       "\n",
       "    .dataframe thead th {\n",
       "        text-align: right;\n",
       "    }\n",
       "</style>\n",
       "<table border=\"1\" class=\"dataframe\">\n",
       "  <thead>\n",
       "    <tr style=\"text-align: right;\">\n",
       "      <th></th>\n",
       "      <th>author</th>\n",
       "      <th>title</th>\n",
       "      <th>line</th>\n",
       "      <th>line_no</th>\n",
       "      <th>words</th>\n",
       "    </tr>\n",
       "  </thead>\n",
       "  <tbody>\n",
       "    <tr>\n",
       "      <th>0</th>\n",
       "      <td>Hailey Leithauser</td>\n",
       "      <td>0</td>\n",
       "      <td>philosophic</td>\n",
       "      <td>1</td>\n",
       "      <td>[philosophic]</td>\n",
       "    </tr>\n",
       "    <tr>\n",
       "      <th>1</th>\n",
       "      <td>Hailey Leithauser</td>\n",
       "      <td>0</td>\n",
       "      <td>in its complex ovoid emptiness</td>\n",
       "      <td>2</td>\n",
       "      <td>[in, its, complex, ovoid, emptiness]</td>\n",
       "    </tr>\n",
       "    <tr>\n",
       "      <th>2</th>\n",
       "      <td>Hailey Leithauser</td>\n",
       "      <td>0</td>\n",
       "      <td>a skillful pundit coined it as a sort</td>\n",
       "      <td>3</td>\n",
       "      <td>[a, skillful, pundit, coined, it, as, a, sort]</td>\n",
       "    </tr>\n",
       "    <tr>\n",
       "      <th>3</th>\n",
       "      <td>Hailey Leithauser</td>\n",
       "      <td>0</td>\n",
       "      <td>of stopgap doorstop for those</td>\n",
       "      <td>4</td>\n",
       "      <td>[of, stopgap, doorstop, for, those]</td>\n",
       "    </tr>\n",
       "    <tr>\n",
       "      <th>4</th>\n",
       "      <td>Hailey Leithauser</td>\n",
       "      <td>0</td>\n",
       "      <td>quaint equations</td>\n",
       "      <td>5</td>\n",
       "      <td>[quaint, equations]</td>\n",
       "    </tr>\n",
       "  </tbody>\n",
       "</table>\n",
       "</div>"
      ],
      "text/plain": [
       "              author title                                   line  line_no  \\\n",
       "0  Hailey Leithauser     0                            philosophic        1   \n",
       "1  Hailey Leithauser     0         in its complex ovoid emptiness        2   \n",
       "2  Hailey Leithauser     0  a skillful pundit coined it as a sort        3   \n",
       "3  Hailey Leithauser     0          of stopgap doorstop for those        4   \n",
       "4  Hailey Leithauser     0                       quaint equations        5   \n",
       "\n",
       "                                            words  \n",
       "0                                   [philosophic]  \n",
       "1            [in, its, complex, ovoid, emptiness]  \n",
       "2  [a, skillful, pundit, coined, it, as, a, sort]  \n",
       "3             [of, stopgap, doorstop, for, those]  \n",
       "4                             [quaint, equations]  "
      ]
     },
     "execution_count": 30,
     "metadata": {},
     "output_type": "execute_result"
    }
   ],
   "source": [
    "line_df['words'] = line_df.line.map(str.split)\n",
    "line_df.head()"
   ]
  },
  {
   "cell_type": "code",
   "execution_count": 31,
   "id": "9a64053a-567b-438d-b5c8-4861c97cb420",
   "metadata": {},
   "outputs": [],
   "source": [
    "line_df['length_in_words'] = line_df.words.map(len)"
   ]
  },
  {
   "cell_type": "code",
   "execution_count": 32,
   "id": "78a6b9a5-e73c-4528-be9c-8b9545f7d111",
   "metadata": {},
   "outputs": [
    {
     "data": {
      "text/plain": [
       "606"
      ]
     },
     "execution_count": 32,
     "metadata": {},
     "output_type": "execute_result"
    }
   ],
   "source": [
    "line_df.describe()\n",
    "len(line_df.loc[line_df.length_in_words == 606].words.to_list()[0])"
   ]
  },
  {
   "cell_type": "code",
   "execution_count": 33,
   "id": "7f69ce3c-9ce0-4dc5-826b-f237304f713b",
   "metadata": {},
   "outputs": [
    {
     "data": {
      "text/plain": [
       "<seaborn.axisgrid.FacetGrid at 0x234c9b1fa60>"
      ]
     },
     "execution_count": 33,
     "metadata": {},
     "output_type": "execute_result"
    },
    {
     "data": {
      "image/png": "[encoded data removed]",
      "text/plain": [
       "<Figure size 360x360 with 1 Axes>"
      ]
     },
     "metadata": {
      "needs_background": "light"
     },
     "output_type": "display_data"
    }
   ],
   "source": [
    "x = line_df.length_in_words\n",
    "sns.displot(data=line_df, x='length_in_words', discrete=True)"
   ]
  },
  {
   "cell_type": "code",
   "execution_count": 34,
   "id": "c67e0a87-530b-4d9c-a073-4aaa4c8f4684",
   "metadata": {},
   "outputs": [],
   "source": [
    "# filtering outliers with zscore\n",
    "from scipy import stats\n",
    "clean_line_df = line_df[(np.abs(stats.zscore(line_df.length_in_words)) < 2)].copy()"
   ]
  },
  {
   "cell_type": "code",
   "execution_count": 35,
   "id": "eac5f5bf-5210-4bd1-9559-d54b5e990e49",
   "metadata": {},
   "outputs": [
    {
     "data": {
      "text/plain": [
       "<seaborn.axisgrid.FacetGrid at 0x234c9946cd0>"
      ]
     },
     "execution_count": 35,
     "metadata": {},
     "output_type": "execute_result"
    },
    {
     "data": {
      "image/png": "[encoded data removed]",
      "text/plain": [
       "<Figure size 360x360 with 1 Axes>"
      ]
     },
     "metadata": {
      "needs_background": "light"
     },
     "output_type": "display_data"
    }
   ],
   "source": [
    "# fig, ax = plt.subplots()\n",
    "# x = clean_line_df.length_in_words\n",
    "sns.displot(data=clean_line_df, x='length_in_words', discrete=True)\n",
    "# plt.tight_layout()"
   ]
  },
  {
   "cell_type": "code",
   "execution_count": 36,
   "id": "c3e56e7b-10e3-460b-ae97-220f4e18e5f2",
   "metadata": {},
   "outputs": [
    {
     "name": "stdout",
     "output_type": "stream",
     "text": [
      "<class 'pandas.core.frame.DataFrame'>\n",
      "RangeIndex: 453772 entries, 0 to 453771\n",
      "Data columns (total 6 columns):\n",
      " #   Column           Non-Null Count   Dtype   \n",
      "---  ------           --------------   -----   \n",
      " 0   author           453772 non-null  category\n",
      " 1   title            453772 non-null  object  \n",
      " 2   line             453772 non-null  object  \n",
      " 3   line_no          453772 non-null  int64   \n",
      " 4   words            453772 non-null  object  \n",
      " 5   length_in_words  453772 non-null  int64   \n",
      "dtypes: category(1), int64(2), object(3)\n",
      "memory usage: 18.3+ MB\n"
     ]
    }
   ],
   "source": [
    "line_df.info()"
   ]
  },
  {
   "cell_type": "code",
   "execution_count": 65,
   "id": "fc92192c-ff1f-4e89-8609-59df099559a9",
   "metadata": {},
   "outputs": [
    {
     "data": {
      "text/html": [
       "<div>\n",
       "<style scoped>\n",
       "    .dataframe tbody tr th:only-of-type {\n",
       "        vertical-align: middle;\n",
       "    }\n",
       "\n",
       "    .dataframe tbody tr th {\n",
       "        vertical-align: top;\n",
       "    }\n",
       "\n",
       "    .dataframe thead th {\n",
       "        text-align: right;\n",
       "    }\n",
       "</style>\n",
       "<table border=\"1\" class=\"dataframe\">\n",
       "  <thead>\n",
       "    <tr style=\"text-align: right;\">\n",
       "      <th></th>\n",
       "      <th>author</th>\n",
       "      <th>title</th>\n",
       "      <th>line</th>\n",
       "      <th>line_no</th>\n",
       "      <th>words</th>\n",
       "      <th>length_in_words</th>\n",
       "      <th>lexical_diversity</th>\n",
       "      <th>word_lengths</th>\n",
       "      <th>max_word_length</th>\n",
       "    </tr>\n",
       "  </thead>\n",
       "  <tbody>\n",
       "    <tr>\n",
       "      <th>0</th>\n",
       "      <td>Hailey Leithauser</td>\n",
       "      <td>0</td>\n",
       "      <td>philosophic</td>\n",
       "      <td>1</td>\n",
       "      <td>[philosophic]</td>\n",
       "      <td>1</td>\n",
       "      <td>1.000</td>\n",
       "      <td>[11]</td>\n",
       "      <td>11</td>\n",
       "    </tr>\n",
       "    <tr>\n",
       "      <th>1</th>\n",
       "      <td>Hailey Leithauser</td>\n",
       "      <td>0</td>\n",
       "      <td>in its complex ovoid emptiness</td>\n",
       "      <td>2</td>\n",
       "      <td>[in, its, complex, ovoid, emptiness]</td>\n",
       "      <td>5</td>\n",
       "      <td>1.000</td>\n",
       "      <td>[2, 3, 7, 5, 9]</td>\n",
       "      <td>9</td>\n",
       "    </tr>\n",
       "    <tr>\n",
       "      <th>2</th>\n",
       "      <td>Hailey Leithauser</td>\n",
       "      <td>0</td>\n",
       "      <td>a skillful pundit coined it as a sort</td>\n",
       "      <td>3</td>\n",
       "      <td>[a, skillful, pundit, coined, it, as, a, sort]</td>\n",
       "      <td>8</td>\n",
       "      <td>0.875</td>\n",
       "      <td>[1, 8, 6, 6, 2, 2, 1, 4]</td>\n",
       "      <td>8</td>\n",
       "    </tr>\n",
       "    <tr>\n",
       "      <th>3</th>\n",
       "      <td>Hailey Leithauser</td>\n",
       "      <td>0</td>\n",
       "      <td>of stopgap doorstop for those</td>\n",
       "      <td>4</td>\n",
       "      <td>[of, stopgap, doorstop, for, those]</td>\n",
       "      <td>5</td>\n",
       "      <td>1.000</td>\n",
       "      <td>[2, 7, 8, 3, 5]</td>\n",
       "      <td>8</td>\n",
       "    </tr>\n",
       "    <tr>\n",
       "      <th>4</th>\n",
       "      <td>Hailey Leithauser</td>\n",
       "      <td>0</td>\n",
       "      <td>quaint equations</td>\n",
       "      <td>5</td>\n",
       "      <td>[quaint, equations]</td>\n",
       "      <td>2</td>\n",
       "      <td>1.000</td>\n",
       "      <td>[6, 9]</td>\n",
       "      <td>9</td>\n",
       "    </tr>\n",
       "  </tbody>\n",
       "</table>\n",
       "</div>"
      ],
      "text/plain": [
       "              author title                                   line  line_no  \\\n",
       "0  Hailey Leithauser     0                            philosophic        1   \n",
       "1  Hailey Leithauser     0         in its complex ovoid emptiness        2   \n",
       "2  Hailey Leithauser     0  a skillful pundit coined it as a sort        3   \n",
       "3  Hailey Leithauser     0          of stopgap doorstop for those        4   \n",
       "4  Hailey Leithauser     0                       quaint equations        5   \n",
       "\n",
       "                                            words  length_in_words  \\\n",
       "0                                   [philosophic]                1   \n",
       "1            [in, its, complex, ovoid, emptiness]                5   \n",
       "2  [a, skillful, pundit, coined, it, as, a, sort]                8   \n",
       "3             [of, stopgap, doorstop, for, those]                5   \n",
       "4                             [quaint, equations]                2   \n",
       "\n",
       "   lexical_diversity              word_lengths  max_word_length  \n",
       "0              1.000                      [11]               11  \n",
       "1              1.000           [2, 3, 7, 5, 9]                9  \n",
       "2              0.875  [1, 8, 6, 6, 2, 2, 1, 4]                8  \n",
       "3              1.000           [2, 7, 8, 3, 5]                8  \n",
       "4              1.000                    [6, 9]                9  "
      ]
     },
     "execution_count": 65,
     "metadata": {},
     "output_type": "execute_result"
    }
   ],
   "source": [
    "clean_line_df.head()"
   ]
  },
  {
   "cell_type": "code",
   "execution_count": 67,
   "id": "3f6a7596-db38-4003-9ca9-038b2f5924ad",
   "metadata": {},
   "outputs": [],
   "source": [
    "clean_line_df['lexical_diversity'] = clean_line_df.words.map(lexical_diversity)\n",
    "clean_line_df['word_lengths'] = clean_line_df.words.map(wds2len)"
   ]
  },
  {
   "cell_type": "code",
   "execution_count": 66,
   "id": "24cf06a7-4118-49a3-8088-4cc08c773b57",
   "metadata": {},
   "outputs": [],
   "source": [
    "clean_line_df['max_word_length'] = clean_line_df.word_lengths.map(np.max)\n",
    "cleanest_line_df = clean_line_df[(stats.zscore(clean_line_df.max_word_length)) < 1.75].copy()"
   ]
  },
  {
   "cell_type": "code",
   "execution_count": 42,
   "id": "95331b16-dd83-4e26-bbd1-82e07b98b661",
   "metadata": {},
   "outputs": [
    {
     "data": {
      "text/html": [
       "<div>\n",
       "<style scoped>\n",
       "    .dataframe tbody tr th:only-of-type {\n",
       "        vertical-align: middle;\n",
       "    }\n",
       "\n",
       "    .dataframe tbody tr th {\n",
       "        vertical-align: top;\n",
       "    }\n",
       "\n",
       "    .dataframe thead th {\n",
       "        text-align: right;\n",
       "    }\n",
       "</style>\n",
       "<table border=\"1\" class=\"dataframe\">\n",
       "  <thead>\n",
       "    <tr style=\"text-align: right;\">\n",
       "      <th></th>\n",
       "      <th>author</th>\n",
       "      <th>title</th>\n",
       "      <th>length_in_lines</th>\n",
       "      <th>lexical_diversity</th>\n",
       "      <th>word_lengths</th>\n",
       "      <th>max_word_length</th>\n",
       "    </tr>\n",
       "  </thead>\n",
       "  <tbody>\n",
       "    <tr>\n",
       "      <th>1</th>\n",
       "      <td>Hailey Leithauser</td>\n",
       "      <td>0</td>\n",
       "      <td>15</td>\n",
       "      <td>0.863636</td>\n",
       "      <td>[11, 2, 3, 7, 5, 9, 1, 8, 6, 6, 2, 2, 1, 4, 2,...</td>\n",
       "      <td>11</td>\n",
       "    </tr>\n",
       "    <tr>\n",
       "      <th>2</th>\n",
       "      <td>Jody Gladding</td>\n",
       "      <td>1-800-FEAR</td>\n",
       "      <td>11</td>\n",
       "      <td>0.644068</td>\n",
       "      <td>[4, 4, 2, 4, 4, 3, 5, 4, 4, 4, 2, 4, 6, 4, 2, ...</td>\n",
       "      <td>10</td>\n",
       "    </tr>\n",
       "    <tr>\n",
       "      <th>3</th>\n",
       "      <td>Joseph Brodsky</td>\n",
       "      <td>1 January 1965</td>\n",
       "      <td>24</td>\n",
       "      <td>0.679739</td>\n",
       "      <td>[3, 4, 3, 4, 7, 4, 4, 5, 4, 4, 2, 4, 4, 5, 3, ...</td>\n",
       "      <td>12</td>\n",
       "    </tr>\n",
       "    <tr>\n",
       "      <th>4</th>\n",
       "      <td>Ted Berrigan</td>\n",
       "      <td>3 Pages</td>\n",
       "      <td>26</td>\n",
       "      <td>0.848101</td>\n",
       "      <td>[3, 4, 6, 6, 1, 2, 5, 3, 4, 5, 5, 4, 5, 3, 4, ...</td>\n",
       "      <td>13</td>\n",
       "    </tr>\n",
       "    <tr>\n",
       "      <th>5</th>\n",
       "      <td>Joe Brainard</td>\n",
       "      <td>30 One-Liners</td>\n",
       "      <td>65</td>\n",
       "      <td>0.575843</td>\n",
       "      <td>[6, 4, 4, 2, 5, 2, 3, 6, 6, 3, 2, 5, 4, 3, 2, ...</td>\n",
       "      <td>11</td>\n",
       "    </tr>\n",
       "    <tr>\n",
       "      <th>...</th>\n",
       "      <td>...</td>\n",
       "      <td>...</td>\n",
       "      <td>...</td>\n",
       "      <td>...</td>\n",
       "      <td>...</td>\n",
       "      <td>...</td>\n",
       "    </tr>\n",
       "    <tr>\n",
       "      <th>15647</th>\n",
       "      <td>Hannah Gamble</td>\n",
       "      <td>Your Invitation to a Modest Breakfast</td>\n",
       "      <td>27</td>\n",
       "      <td>0.625551</td>\n",
       "      <td>[3, 3, 4, 2, 5, 7, 3, 2, 3, 4, 4, 3, 4, 2, 5, ...</td>\n",
       "      <td>9</td>\n",
       "    </tr>\n",
       "    <tr>\n",
       "      <th>15648</th>\n",
       "      <td>Eleni Sikelianos</td>\n",
       "      <td>Your Kingdom\\n \\n \\n  \\n   Launch Audio in a N...</td>\n",
       "      <td>35</td>\n",
       "      <td>0.716418</td>\n",
       "      <td>[2, 3, 4, 3, 3, 4, 4, 3, 3, 3, 9, 6, 7, 8, 3, ...</td>\n",
       "      <td>14</td>\n",
       "    </tr>\n",
       "    <tr>\n",
       "      <th>15649</th>\n",
       "      <td>Susan Elizabeth Howe</td>\n",
       "      <td>“Your Luck Is About To Change”</td>\n",
       "      <td>25</td>\n",
       "      <td>0.756579</td>\n",
       "      <td>[1, 7, 6, 7, 11, 7, 4, 2, 3, 4, 6, 9, 11, 2, 1...</td>\n",
       "      <td>15</td>\n",
       "    </tr>\n",
       "    <tr>\n",
       "      <th>15650</th>\n",
       "      <td>Andrew Shields</td>\n",
       "      <td>Your Mileage May Vary</td>\n",
       "      <td>4</td>\n",
       "      <td>0.733333</td>\n",
       "      <td>[3, 4, 5, 2, 3, 5, 3, 3, 3, 4, 4, 3, 4, 2, 3, ...</td>\n",
       "      <td>9</td>\n",
       "    </tr>\n",
       "    <tr>\n",
       "      <th>15651</th>\n",
       "      <td>Joseph O. Legaspi</td>\n",
       "      <td>Your Mother Wears a House Dress</td>\n",
       "      <td>22</td>\n",
       "      <td>0.821429</td>\n",
       "      <td>[2, 4, 5, 2, 1, 5, 4, 3, 4, 3, 7, 3, 3, 7, 4, ...</td>\n",
       "      <td>9</td>\n",
       "    </tr>\n",
       "  </tbody>\n",
       "</table>\n",
       "<p>14740 rows × 6 columns</p>\n",
       "</div>"
      ],
      "text/plain": [
       "                     author  \\\n",
       "1         Hailey Leithauser   \n",
       "2             Jody Gladding   \n",
       "3            Joseph Brodsky   \n",
       "4              Ted Berrigan   \n",
       "5              Joe Brainard   \n",
       "...                     ...   \n",
       "15647         Hannah Gamble   \n",
       "15648      Eleni Sikelianos   \n",
       "15649  Susan Elizabeth Howe   \n",
       "15650        Andrew Shields   \n",
       "15651     Joseph O. Legaspi   \n",
       "\n",
       "                                                   title  length_in_lines  \\\n",
       "1                                                      0               15   \n",
       "2                                             1-800-FEAR               11   \n",
       "3                                         1 January 1965               24   \n",
       "4                                                3 Pages               26   \n",
       "5                                          30 One-Liners               65   \n",
       "...                                                  ...              ...   \n",
       "15647              Your Invitation to a Modest Breakfast               27   \n",
       "15648  Your Kingdom\\n \\n \\n  \\n   Launch Audio in a N...               35   \n",
       "15649                     “Your Luck Is About To Change”               25   \n",
       "15650                              Your Mileage May Vary                4   \n",
       "15651                    Your Mother Wears a House Dress               22   \n",
       "\n",
       "       lexical_diversity                                       word_lengths  \\\n",
       "1               0.863636  [11, 2, 3, 7, 5, 9, 1, 8, 6, 6, 2, 2, 1, 4, 2,...   \n",
       "2               0.644068  [4, 4, 2, 4, 4, 3, 5, 4, 4, 4, 2, 4, 6, 4, 2, ...   \n",
       "3               0.679739  [3, 4, 3, 4, 7, 4, 4, 5, 4, 4, 2, 4, 4, 5, 3, ...   \n",
       "4               0.848101  [3, 4, 6, 6, 1, 2, 5, 3, 4, 5, 5, 4, 5, 3, 4, ...   \n",
       "5               0.575843  [6, 4, 4, 2, 5, 2, 3, 6, 6, 3, 2, 5, 4, 3, 2, ...   \n",
       "...                  ...                                                ...   \n",
       "15647           0.625551  [3, 3, 4, 2, 5, 7, 3, 2, 3, 4, 4, 3, 4, 2, 5, ...   \n",
       "15648           0.716418  [2, 3, 4, 3, 3, 4, 4, 3, 3, 3, 9, 6, 7, 8, 3, ...   \n",
       "15649           0.756579  [1, 7, 6, 7, 11, 7, 4, 2, 3, 4, 6, 9, 11, 2, 1...   \n",
       "15650           0.733333  [3, 4, 5, 2, 3, 5, 3, 3, 3, 4, 4, 3, 4, 2, 3, ...   \n",
       "15651           0.821429  [2, 4, 5, 2, 1, 5, 4, 3, 4, 3, 7, 3, 3, 7, 4, ...   \n",
       "\n",
       "       max_word_length  \n",
       "1                   11  \n",
       "2                   10  \n",
       "3                   12  \n",
       "4                   13  \n",
       "5                   11  \n",
       "...                ...  \n",
       "15647                9  \n",
       "15648               14  \n",
       "15649               15  \n",
       "15650                9  \n",
       "15651                9  \n",
       "\n",
       "[14740 rows x 6 columns]"
      ]
     },
     "execution_count": 42,
     "metadata": {},
     "output_type": "execute_result"
    }
   ],
   "source": [
    "cleanest_df.drop(['content','line','words'],axis=1)"
   ]
  },
  {
   "cell_type": "code",
   "execution_count": 69,
   "id": "a5856146-c98c-49fb-8b09-72762a3f8878",
   "metadata": {},
   "outputs": [],
   "source": [
    "with open('clean_line_df.pkl', 'wb') as f:\n",
    "    pickle.dump(cleanest_line_df, f)"
   ]
  },
  {
   "cell_type": "code",
   "execution_count": 68,
   "id": "132327b1-b5eb-4d17-9220-558c12a10a75",
   "metadata": {},
   "outputs": [
    {
     "data": {
      "text/html": [
       "<div>\n",
       "<style scoped>\n",
       "    .dataframe tbody tr th:only-of-type {\n",
       "        vertical-align: middle;\n",
       "    }\n",
       "\n",
       "    .dataframe tbody tr th {\n",
       "        vertical-align: top;\n",
       "    }\n",
       "\n",
       "    .dataframe thead th {\n",
       "        text-align: right;\n",
       "    }\n",
       "</style>\n",
       "<table border=\"1\" class=\"dataframe\">\n",
       "  <thead>\n",
       "    <tr style=\"text-align: right;\">\n",
       "      <th></th>\n",
       "      <th>author</th>\n",
       "      <th>title</th>\n",
       "      <th>line</th>\n",
       "      <th>line_no</th>\n",
       "      <th>words</th>\n",
       "      <th>length_in_words</th>\n",
       "      <th>lexical_diversity</th>\n",
       "      <th>word_lengths</th>\n",
       "      <th>max_word_length</th>\n",
       "    </tr>\n",
       "  </thead>\n",
       "  <tbody>\n",
       "    <tr>\n",
       "      <th>0</th>\n",
       "      <td>Hailey Leithauser</td>\n",
       "      <td>0</td>\n",
       "      <td>philosophic</td>\n",
       "      <td>1</td>\n",
       "      <td>[philosophic]</td>\n",
       "      <td>1</td>\n",
       "      <td>1.000</td>\n",
       "      <td>[11]</td>\n",
       "      <td>11</td>\n",
       "    </tr>\n",
       "    <tr>\n",
       "      <th>1</th>\n",
       "      <td>Hailey Leithauser</td>\n",
       "      <td>0</td>\n",
       "      <td>in its complex ovoid emptiness</td>\n",
       "      <td>2</td>\n",
       "      <td>[in, its, complex, ovoid, emptiness]</td>\n",
       "      <td>5</td>\n",
       "      <td>1.000</td>\n",
       "      <td>[2, 3, 7, 5, 9]</td>\n",
       "      <td>9</td>\n",
       "    </tr>\n",
       "    <tr>\n",
       "      <th>2</th>\n",
       "      <td>Hailey Leithauser</td>\n",
       "      <td>0</td>\n",
       "      <td>a skillful pundit coined it as a sort</td>\n",
       "      <td>3</td>\n",
       "      <td>[a, skillful, pundit, coined, it, as, a, sort]</td>\n",
       "      <td>8</td>\n",
       "      <td>0.875</td>\n",
       "      <td>[1, 8, 6, 6, 2, 2, 1, 4]</td>\n",
       "      <td>8</td>\n",
       "    </tr>\n",
       "    <tr>\n",
       "      <th>3</th>\n",
       "      <td>Hailey Leithauser</td>\n",
       "      <td>0</td>\n",
       "      <td>of stopgap doorstop for those</td>\n",
       "      <td>4</td>\n",
       "      <td>[of, stopgap, doorstop, for, those]</td>\n",
       "      <td>5</td>\n",
       "      <td>1.000</td>\n",
       "      <td>[2, 7, 8, 3, 5]</td>\n",
       "      <td>8</td>\n",
       "    </tr>\n",
       "    <tr>\n",
       "      <th>4</th>\n",
       "      <td>Hailey Leithauser</td>\n",
       "      <td>0</td>\n",
       "      <td>quaint equations</td>\n",
       "      <td>5</td>\n",
       "      <td>[quaint, equations]</td>\n",
       "      <td>2</td>\n",
       "      <td>1.000</td>\n",
       "      <td>[6, 9]</td>\n",
       "      <td>9</td>\n",
       "    </tr>\n",
       "  </tbody>\n",
       "</table>\n",
       "</div>"
      ],
      "text/plain": [
       "              author title                                   line  line_no  \\\n",
       "0  Hailey Leithauser     0                            philosophic        1   \n",
       "1  Hailey Leithauser     0         in its complex ovoid emptiness        2   \n",
       "2  Hailey Leithauser     0  a skillful pundit coined it as a sort        3   \n",
       "3  Hailey Leithauser     0          of stopgap doorstop for those        4   \n",
       "4  Hailey Leithauser     0                       quaint equations        5   \n",
       "\n",
       "                                            words  length_in_words  \\\n",
       "0                                   [philosophic]                1   \n",
       "1            [in, its, complex, ovoid, emptiness]                5   \n",
       "2  [a, skillful, pundit, coined, it, as, a, sort]                8   \n",
       "3             [of, stopgap, doorstop, for, those]                5   \n",
       "4                             [quaint, equations]                2   \n",
       "\n",
       "   lexical_diversity              word_lengths  max_word_length  \n",
       "0              1.000                      [11]               11  \n",
       "1              1.000           [2, 3, 7, 5, 9]                9  \n",
       "2              0.875  [1, 8, 6, 6, 2, 2, 1, 4]                8  \n",
       "3              1.000           [2, 7, 8, 3, 5]                8  \n",
       "4              1.000                    [6, 9]                9  "
      ]
     },
     "execution_count": 68,
     "metadata": {},
     "output_type": "execute_result"
    }
   ],
   "source": [
    "cleanest_line_df.head()"
   ]
  },
  {
   "cell_type": "code",
   "execution_count": 45,
   "id": "471c77dd-5598-4257-b11c-413e7338d14b",
   "metadata": {},
   "outputs": [
    {
     "data": {
      "text/plain": [
       "<seaborn.axisgrid.FacetGrid at 0x234dbc3a550>"
      ]
     },
     "execution_count": 45,
     "metadata": {},
     "output_type": "execute_result"
    },
    {
     "data": {
      "image/png": "[encoded data removed]",
      "text/plain": [
       "<Figure size 360x360 with 1 Axes>"
      ]
     },
     "metadata": {
      "needs_background": "light"
     },
     "output_type": "display_data"
    }
   ],
   "source": [
    "sns.displot(data=cleanest_line_df, x=\"lexical_diversity\", y=\"line_no\")"
   ]
  },
  {
   "cell_type": "code",
   "execution_count": 46,
   "id": "b8c29ce2-0684-4408-bb91-be5b4708305c",
   "metadata": {},
   "outputs": [
    {
     "data": {
      "text/plain": [
       "<seaborn.axisgrid.PairGrid at 0x234dbc3aa60>"
      ]
     },
     "execution_count": 46,
     "metadata": {},
     "output_type": "execute_result"
    },
    {
     "data": {
      "image/png": "[encoded data removed]",
      "text/plain": [
       "<Figure size 720x720 with 20 Axes>"
      ]
     },
     "metadata": {
      "needs_background": "light"
     },
     "output_type": "display_data"
    }
   ],
   "source": [
    "sns.pairplot(data=cleanest_line_df.drop(['author','title','line','words','word_lengths'], axis=1))"
   ]
  },
  {
   "cell_type": "code",
   "execution_count": 47,
   "id": "eadc3a38-6100-419b-8cbb-1c7822a2f6d2",
   "metadata": {},
   "outputs": [],
   "source": [
    "line_lexical = cleanest_line_df.drop(['line','words','word_lengths'], axis=1)"
   ]
  },
  {
   "cell_type": "code",
   "execution_count": 48,
   "id": "dfa7b121-ffdc-433f-a520-e314d9d7ce80",
   "metadata": {},
   "outputs": [
    {
     "data": {
      "text/plain": [
       "<AxesSubplot:xlabel='lexical_diversity', ylabel='length_in_words'>"
      ]
     },
     "execution_count": 48,
     "metadata": {},
     "output_type": "execute_result"
    },
    {
     "data": {
      "image/png": "[encoded data removed]",
      "text/plain": [
       "<Figure size 432x288 with 1 Axes>"
      ]
     },
     "metadata": {
      "needs_background": "light"
     },
     "output_type": "display_data"
    }
   ],
   "source": [
    "# author_line_lexical.reset_index(inplace=True)\n",
    "cmap = sns.cubehelix_palette(light=1, as_cmap=True)\n",
    "\n",
    "sns.kdeplot(data=line_lexical.groupby(['author','title']).mean(), x='lexical_diversity',y='length_in_words', cmap=cmap, fill=True)"
   ]
  },
  {
   "cell_type": "code",
   "execution_count": 49,
   "id": "e31aaed9-9aab-4955-98c7-d375f4d259f3",
   "metadata": {},
   "outputs": [
    {
     "data": {
      "text/html": [
       "<div>\n",
       "<style scoped>\n",
       "    .dataframe tbody tr th:only-of-type {\n",
       "        vertical-align: middle;\n",
       "    }\n",
       "\n",
       "    .dataframe tbody tr th {\n",
       "        vertical-align: top;\n",
       "    }\n",
       "\n",
       "    .dataframe thead th {\n",
       "        text-align: right;\n",
       "    }\n",
       "</style>\n",
       "<table border=\"1\" class=\"dataframe\">\n",
       "  <thead>\n",
       "    <tr style=\"text-align: right;\">\n",
       "      <th></th>\n",
       "      <th>line_no</th>\n",
       "      <th>length_in_words</th>\n",
       "      <th>lexical_diversity</th>\n",
       "      <th>max_word_length</th>\n",
       "    </tr>\n",
       "  </thead>\n",
       "  <tbody>\n",
       "    <tr>\n",
       "      <th>count</th>\n",
       "      <td>411540.000000</td>\n",
       "      <td>411540.000000</td>\n",
       "      <td>411540.000000</td>\n",
       "      <td>411540.000000</td>\n",
       "    </tr>\n",
       "    <tr>\n",
       "      <th>mean</th>\n",
       "      <td>26.920819</td>\n",
       "      <td>6.574486</td>\n",
       "      <td>0.971830</td>\n",
       "      <td>7.093029</td>\n",
       "    </tr>\n",
       "    <tr>\n",
       "      <th>std</th>\n",
       "      <td>27.423753</td>\n",
       "      <td>2.708600</td>\n",
       "      <td>0.068276</td>\n",
       "      <td>1.677748</td>\n",
       "    </tr>\n",
       "    <tr>\n",
       "      <th>min</th>\n",
       "      <td>1.000000</td>\n",
       "      <td>1.000000</td>\n",
       "      <td>0.066667</td>\n",
       "      <td>1.000000</td>\n",
       "    </tr>\n",
       "    <tr>\n",
       "      <th>25%</th>\n",
       "      <td>8.000000</td>\n",
       "      <td>5.000000</td>\n",
       "      <td>1.000000</td>\n",
       "      <td>6.000000</td>\n",
       "    </tr>\n",
       "    <tr>\n",
       "      <th>50%</th>\n",
       "      <td>18.000000</td>\n",
       "      <td>7.000000</td>\n",
       "      <td>1.000000</td>\n",
       "      <td>7.000000</td>\n",
       "    </tr>\n",
       "    <tr>\n",
       "      <th>75%</th>\n",
       "      <td>35.000000</td>\n",
       "      <td>8.000000</td>\n",
       "      <td>1.000000</td>\n",
       "      <td>8.000000</td>\n",
       "    </tr>\n",
       "    <tr>\n",
       "      <th>max</th>\n",
       "      <td>181.000000</td>\n",
       "      <td>18.000000</td>\n",
       "      <td>1.000000</td>\n",
       "      <td>10.000000</td>\n",
       "    </tr>\n",
       "  </tbody>\n",
       "</table>\n",
       "</div>"
      ],
      "text/plain": [
       "             line_no  length_in_words  lexical_diversity  max_word_length\n",
       "count  411540.000000    411540.000000      411540.000000    411540.000000\n",
       "mean       26.920819         6.574486           0.971830         7.093029\n",
       "std        27.423753         2.708600           0.068276         1.677748\n",
       "min         1.000000         1.000000           0.066667         1.000000\n",
       "25%         8.000000         5.000000           1.000000         6.000000\n",
       "50%        18.000000         7.000000           1.000000         7.000000\n",
       "75%        35.000000         8.000000           1.000000         8.000000\n",
       "max       181.000000        18.000000           1.000000        10.000000"
      ]
     },
     "execution_count": 49,
     "metadata": {},
     "output_type": "execute_result"
    }
   ],
   "source": [
    "line_lexical.describe()"
   ]
  },
  {
   "cell_type": "code",
   "execution_count": 50,
   "id": "39959aec-fcc3-43a2-9ebf-75f834c8d0fc",
   "metadata": {},
   "outputs": [],
   "source": [
    "# initialize pipeline for tagging\n",
    "import spacy\n",
    "tag_nlp = spacy.load(\"en_core_web_sm\", exclude=[\"parser\", \"attribute_ruler\", \"lemmatizer\", \"ner\"])"
   ]
  },
  {
   "cell_type": "code",
   "execution_count": 51,
   "id": "8b372002-08af-44b8-ba83-2082fd99b4e8",
   "metadata": {},
   "outputs": [
    {
     "data": {
      "text/plain": [
       "[('tok2vec', <spacy.pipeline.tok2vec.Tok2Vec at 0x23488ad2180>),\n",
       " ('tagger', <spacy.pipeline.tagger.Tagger at 0x23488ab0b80>)]"
      ]
     },
     "execution_count": 51,
     "metadata": {},
     "output_type": "execute_result"
    }
   ],
   "source": [
    "tag_nlp.pipeline"
   ]
  },
  {
   "cell_type": "code",
   "execution_count": 52,
   "id": "134af325-f043-44f6-8320-845e432ee47c",
   "metadata": {},
   "outputs": [],
   "source": [
    "# define tag pipe function\n",
    "from tqdm import tqdm\n",
    "def tag_pipe(texts):\n",
    "    total = len(texts)\n",
    "    pipe_out = []\n",
    "    with tqdm(total=total) as pbar:\n",
    "        for doc in tag_nlp.pipe(texts):\n",
    "            pipe_out.append([str(token.tag_) for token in doc])\n",
    "    return pipe_out"
   ]
  },
  {
   "cell_type": "code",
   "execution_count": 53,
   "id": "b4d440c7-1c8a-4294-8c31-8ba49adb4168",
   "metadata": {
    "scrolled": true,
    "tags": []
   },
   "outputs": [
    {
     "name": "stderr",
     "output_type": "stream",
     "text": [
      "  0%|          | 0/411540 [01:52<?, ?it/s]\n"
     ]
    },
    {
     "data": {
      "text/html": [
       "<div>\n",
       "<style scoped>\n",
       "    .dataframe tbody tr th:only-of-type {\n",
       "        vertical-align: middle;\n",
       "    }\n",
       "\n",
       "    .dataframe tbody tr th {\n",
       "        vertical-align: top;\n",
       "    }\n",
       "\n",
       "    .dataframe thead th {\n",
       "        text-align: right;\n",
       "    }\n",
       "</style>\n",
       "<table border=\"1\" class=\"dataframe\">\n",
       "  <thead>\n",
       "    <tr style=\"text-align: right;\">\n",
       "      <th></th>\n",
       "      <th>author</th>\n",
       "      <th>title</th>\n",
       "      <th>line</th>\n",
       "      <th>line_no</th>\n",
       "      <th>words</th>\n",
       "      <th>length_in_words</th>\n",
       "      <th>lexical_diversity</th>\n",
       "      <th>word_lengths</th>\n",
       "      <th>max_word_length</th>\n",
       "      <th>pos_tags</th>\n",
       "    </tr>\n",
       "  </thead>\n",
       "  <tbody>\n",
       "    <tr>\n",
       "      <th>1</th>\n",
       "      <td>Hailey Leithauser</td>\n",
       "      <td>0</td>\n",
       "      <td>in its complex ovoid emptiness</td>\n",
       "      <td>2</td>\n",
       "      <td>[in, its, complex, ovoid, emptiness]</td>\n",
       "      <td>5</td>\n",
       "      <td>1.000</td>\n",
       "      <td>[2, 3, 7, 5, 9]</td>\n",
       "      <td>9</td>\n",
       "      <td>[IN, PRP$, JJ, JJ, NN]</td>\n",
       "    </tr>\n",
       "    <tr>\n",
       "      <th>2</th>\n",
       "      <td>Hailey Leithauser</td>\n",
       "      <td>0</td>\n",
       "      <td>a skillful pundit coined it as a sort</td>\n",
       "      <td>3</td>\n",
       "      <td>[a, skillful, pundit, coined, it, as, a, sort]</td>\n",
       "      <td>8</td>\n",
       "      <td>0.875</td>\n",
       "      <td>[1, 8, 6, 6, 2, 2, 1, 4]</td>\n",
       "      <td>8</td>\n",
       "      <td>[DT, JJ, NN, VBD, PRP, IN, DT, NN]</td>\n",
       "    </tr>\n",
       "    <tr>\n",
       "      <th>3</th>\n",
       "      <td>Hailey Leithauser</td>\n",
       "      <td>0</td>\n",
       "      <td>of stopgap doorstop for those</td>\n",
       "      <td>4</td>\n",
       "      <td>[of, stopgap, doorstop, for, those]</td>\n",
       "      <td>5</td>\n",
       "      <td>1.000</td>\n",
       "      <td>[2, 7, 8, 3, 5]</td>\n",
       "      <td>8</td>\n",
       "      <td>[IN, NN, VBP, IN, DT]</td>\n",
       "    </tr>\n",
       "    <tr>\n",
       "      <th>4</th>\n",
       "      <td>Hailey Leithauser</td>\n",
       "      <td>0</td>\n",
       "      <td>quaint equations</td>\n",
       "      <td>5</td>\n",
       "      <td>[quaint, equations]</td>\n",
       "      <td>2</td>\n",
       "      <td>1.000</td>\n",
       "      <td>[6, 9]</td>\n",
       "      <td>9</td>\n",
       "      <td>[NN, NNS]</td>\n",
       "    </tr>\n",
       "    <tr>\n",
       "      <th>5</th>\n",
       "      <td>Hailey Leithauser</td>\n",
       "      <td>0</td>\n",
       "      <td>romans never</td>\n",
       "      <td>6</td>\n",
       "      <td>[romans, never]</td>\n",
       "      <td>2</td>\n",
       "      <td>1.000</td>\n",
       "      <td>[6, 5]</td>\n",
       "      <td>6</td>\n",
       "      <td>[NNS, RB]</td>\n",
       "    </tr>\n",
       "  </tbody>\n",
       "</table>\n",
       "</div>"
      ],
      "text/plain": [
       "              author title                                   line  line_no  \\\n",
       "1  Hailey Leithauser     0         in its complex ovoid emptiness        2   \n",
       "2  Hailey Leithauser     0  a skillful pundit coined it as a sort        3   \n",
       "3  Hailey Leithauser     0          of stopgap doorstop for those        4   \n",
       "4  Hailey Leithauser     0                       quaint equations        5   \n",
       "5  Hailey Leithauser     0                           romans never        6   \n",
       "\n",
       "                                            words  length_in_words  \\\n",
       "1            [in, its, complex, ovoid, emptiness]                5   \n",
       "2  [a, skillful, pundit, coined, it, as, a, sort]                8   \n",
       "3             [of, stopgap, doorstop, for, those]                5   \n",
       "4                             [quaint, equations]                2   \n",
       "5                                 [romans, never]                2   \n",
       "\n",
       "   lexical_diversity              word_lengths  max_word_length  \\\n",
       "1              1.000           [2, 3, 7, 5, 9]                9   \n",
       "2              0.875  [1, 8, 6, 6, 2, 2, 1, 4]                8   \n",
       "3              1.000           [2, 7, 8, 3, 5]                8   \n",
       "4              1.000                    [6, 9]                9   \n",
       "5              1.000                    [6, 5]                6   \n",
       "\n",
       "                             pos_tags  \n",
       "1              [IN, PRP$, JJ, JJ, NN]  \n",
       "2  [DT, JJ, NN, VBD, PRP, IN, DT, NN]  \n",
       "3               [IN, NN, VBP, IN, DT]  \n",
       "4                           [NN, NNS]  \n",
       "5                           [NNS, RB]  "
      ]
     },
     "execution_count": 53,
     "metadata": {},
     "output_type": "execute_result"
    }
   ],
   "source": [
    "# populate part of speech tag column for lines\n",
    "cleanest_line_df['pos_tags'] = tag_pipe(cleanest_line_df.line)\n",
    "cleanest_line_df.head()"
   ]
  },
  {
   "cell_type": "code",
   "execution_count": 54,
   "id": "e1ae5b7c-0685-4fc3-8d01-697463207de2",
   "metadata": {},
   "outputs": [],
   "source": [
    "with open('tagged_lines_df.pkl', 'wb') as t:\n",
    "    pickle.dump(cleanest_line_df, t)"
   ]
  },
  {
   "cell_type": "code",
   "execution_count": 55,
   "id": "07a94aba-f3e6-40f7-a05d-71fde1447837",
   "metadata": {},
   "outputs": [
    {
     "name": "stderr",
     "output_type": "stream",
     "text": [
      "  0%|          | 0/14740 [01:23<?, ?it/s]\n",
      "<ipython-input-55-aab6d35203da>:3: SettingWithCopyWarning: \n",
      "A value is trying to be set on a copy of a slice from a DataFrame.\n",
      "Try using .loc[row_indexer,col_indexer] = value instead\n",
      "\n",
      "See the caveats in the documentation: https://pandas.pydata.org/pandas-docs/stable/user_guide/indexing.html#returning-a-view-versus-a-copy\n",
      "  cleanest_df['pos_tags'] = tag_pipe(clean_poems)\n"
     ]
    }
   ],
   "source": [
    "# populate part of speech tag column for poems\n",
    "clean_poems = cleanest_df.line.map(lambda lines:' '.join(lines)).to_list()\n",
    "cleanest_df['pos_tags'] = tag_pipe(clean_poems)"
   ]
  },
  {
   "cell_type": "code",
   "execution_count": 62,
   "id": "73ae3d4a-4546-4b74-ab95-5fa1f84a1a6c",
   "metadata": {},
   "outputs": [
    {
     "data": {
      "text/html": [
       "<div>\n",
       "<style scoped>\n",
       "    .dataframe tbody tr th:only-of-type {\n",
       "        vertical-align: middle;\n",
       "    }\n",
       "\n",
       "    .dataframe tbody tr th {\n",
       "        vertical-align: top;\n",
       "    }\n",
       "\n",
       "    .dataframe thead th {\n",
       "        text-align: right;\n",
       "    }\n",
       "</style>\n",
       "<table border=\"1\" class=\"dataframe\">\n",
       "  <thead>\n",
       "    <tr style=\"text-align: right;\">\n",
       "      <th></th>\n",
       "      <th>line</th>\n",
       "      <th>length_in_lines</th>\n",
       "      <th>lexical_diversity</th>\n",
       "      <th>word_lengths</th>\n",
       "      <th>max_word_length</th>\n",
       "      <th>pos_tags</th>\n",
       "    </tr>\n",
       "  </thead>\n",
       "  <tbody>\n",
       "    <tr>\n",
       "      <th>1</th>\n",
       "      <td>[philosophic, in its complex ovoid emptiness, ...</td>\n",
       "      <td>15</td>\n",
       "      <td>0.863636</td>\n",
       "      <td>[11, 2, 3, 7, 5, 9, 1, 8, 6, 6, 2, 2, 1, 4, 2,...</td>\n",
       "      <td>11</td>\n",
       "      <td>[JJ, IN, PRP$, JJ, JJ, NN, DT, JJ, NN, VBD, PR...</td>\n",
       "    </tr>\n",
       "    <tr>\n",
       "      <th>2</th>\n",
       "      <td>[we'd like to talk with you about fear they sa...</td>\n",
       "      <td>11</td>\n",
       "      <td>0.644068</td>\n",
       "      <td>[4, 4, 2, 4, 4, 3, 5, 4, 4, 4, 2, 4, 6, 4, 2, ...</td>\n",
       "      <td>10</td>\n",
       "      <td>[PRP, MD, VB, TO, VB, IN, PRP, IN, NN, PRP, VB...</td>\n",
       "    </tr>\n",
       "    <tr>\n",
       "      <th>3</th>\n",
       "      <td>[the wise men will unlearn your name, above yo...</td>\n",
       "      <td>24</td>\n",
       "      <td>0.679739</td>\n",
       "      <td>[3, 4, 3, 4, 7, 4, 4, 5, 4, 4, 2, 4, 4, 5, 3, ...</td>\n",
       "      <td>12</td>\n",
       "      <td>[DT, JJ, NNS, MD, VB, PRP$, NN, IN, PRP$, NN, ...</td>\n",
       "    </tr>\n",
       "    <tr>\n",
       "      <th>4</th>\n",
       "      <td>[for jack collom, things i do every day, play ...</td>\n",
       "      <td>26</td>\n",
       "      <td>0.848101</td>\n",
       "      <td>[3, 4, 6, 6, 1, 2, 5, 3, 4, 5, 5, 4, 5, 3, 4, ...</td>\n",
       "      <td>13</td>\n",
       "      <td>[IN, JJ, NN, NNS, PRP, VBP, DT, NN, VB, NN, VB...</td>\n",
       "    </tr>\n",
       "    <tr>\n",
       "      <th>5</th>\n",
       "      <td>[winter, more time is spent at the window, sum...</td>\n",
       "      <td>65</td>\n",
       "      <td>0.575843</td>\n",
       "      <td>[6, 4, 4, 2, 5, 2, 3, 6, 6, 3, 2, 5, 4, 3, 2, ...</td>\n",
       "      <td>11</td>\n",
       "      <td>[NN, JJR, NN, VBZ, VBN, IN, DT, NN, NN, PRP, V...</td>\n",
       "    </tr>\n",
       "  </tbody>\n",
       "</table>\n",
       "</div>"
      ],
      "text/plain": [
       "                                                line  length_in_lines  \\\n",
       "1  [philosophic, in its complex ovoid emptiness, ...               15   \n",
       "2  [we'd like to talk with you about fear they sa...               11   \n",
       "3  [the wise men will unlearn your name, above yo...               24   \n",
       "4  [for jack collom, things i do every day, play ...               26   \n",
       "5  [winter, more time is spent at the window, sum...               65   \n",
       "\n",
       "   lexical_diversity                                       word_lengths  \\\n",
       "1           0.863636  [11, 2, 3, 7, 5, 9, 1, 8, 6, 6, 2, 2, 1, 4, 2,...   \n",
       "2           0.644068  [4, 4, 2, 4, 4, 3, 5, 4, 4, 4, 2, 4, 6, 4, 2, ...   \n",
       "3           0.679739  [3, 4, 3, 4, 7, 4, 4, 5, 4, 4, 2, 4, 4, 5, 3, ...   \n",
       "4           0.848101  [3, 4, 6, 6, 1, 2, 5, 3, 4, 5, 5, 4, 5, 3, 4, ...   \n",
       "5           0.575843  [6, 4, 4, 2, 5, 2, 3, 6, 6, 3, 2, 5, 4, 3, 2, ...   \n",
       "\n",
       "   max_word_length                                           pos_tags  \n",
       "1               11  [JJ, IN, PRP$, JJ, JJ, NN, DT, JJ, NN, VBD, PR...  \n",
       "2               10  [PRP, MD, VB, TO, VB, IN, PRP, IN, NN, PRP, VB...  \n",
       "3               12  [DT, JJ, NNS, MD, VB, PRP$, NN, IN, PRP$, NN, ...  \n",
       "4               13  [IN, JJ, NN, NNS, PRP, VBP, DT, NN, VB, NN, VB...  \n",
       "5               11  [NN, JJR, NN, VBZ, VBN, IN, DT, NN, NN, PRP, V...  "
      ]
     },
     "execution_count": 62,
     "metadata": {},
     "output_type": "execute_result"
    }
   ],
   "source": [
    "cleanest_df.drop(['author','title','content', 'words'], axis=1).head()"
   ]
  },
  {
   "cell_type": "code",
   "execution_count": 57,
   "id": "d81ab1ff-739c-4a94-bc64-33b2d9b6c478",
   "metadata": {},
   "outputs": [],
   "source": [
    "with open('tagged_poems_df.pkl', 'wb') as t2:\n",
    "    pickle.dump(cleanest_df, t2)"
   ]
  },
  {
   "cell_type": "code",
   "execution_count": 58,
   "id": "10c91144-69b3-416e-a459-de5d6d9e9109",
   "metadata": {},
   "outputs": [],
   "source": [
    "# author_line_lexical_mode = clean_line_df.drop(['title','line','words'], axis=1).groupby('author').mode()\n",
    "# author_line_lexical_mode.reset_index(inplace=True)\n",
    "# sns.displot(data=author_line_lexical_avg, x='length_in_words',y='lexical_diversity')"
   ]
  },
  {
   "cell_type": "code",
   "execution_count": 40,
   "id": "346c924b-5b2c-43ba-a59f-e6cfab15a80a",
   "metadata": {},
   "outputs": [],
   "source": [
    "from collections import Counter\n",
    "wl_freq_dists = cleanest_df.word_lengths.map(Counter)\n",
    "wl_fd_df = wl_freq_dists.apply(pd.Series).add_prefix('wl_count_').fillna(0)"
   ]
  },
  {
   "cell_type": "code",
   "execution_count": 64,
   "id": "b14f58bb-27f4-47bd-ac4b-e66c30703277",
   "metadata": {},
   "outputs": [],
   "source": [
    "big_df = pd.concat([cleanest_df, wl_freq_dists], axis=1).drop('word_lengths', axis=1)"
   ]
  },
  {
   "cell_type": "code",
   "execution_count": 63,
   "id": "1298e5c9-dd59-4ff3-994d-b12c1805495a",
   "metadata": {},
   "outputs": [],
   "source": [
    "with open('full_df.pkl', 'wb') as wlf:\n",
    "    pickle.dump(big_df, wlf)"
   ]
  },
  {
   "cell_type": "code",
   "execution_count": null,
   "id": "f66785aa-32f6-493c-97af-37b00df544a1",
   "metadata": {},
   "outputs": [],
   "source": []
  }
 ],
 "metadata": {
  "kernelspec": {
   "display_name": "Python 3",
   "language": "python",
   "name": "python3"
  },
  "language_info": {
   "codemirror_mode": {
    "name": "ipython",
    "version": 3
   },
   "file_extension": ".py",
   "mimetype": "text/x-python",
   "name": "python",
   "nbconvert_exporter": "python",
   "pygments_lexer": "ipython3",
   "version": "3.8.8"
  }
 },
 "nbformat": 4,
 "nbformat_minor": 5
}
