{
 "cells": [
  {
   "cell_type": "code",
   "execution_count": 1,
   "id": "45ea39d4-4080-41eb-a0e6-3e9eda83c481",
   "metadata": {},
   "outputs": [],
   "source": [
    "import pandas as pd\n",
    "import numpy as np\n",
    "import nltk\n",
    "from nltk.tokenize import RegexpTokenizer, sent_tokenize, word_tokenize\n",
    "from nltk.corpus import stopwords\n",
    "from nltk.tag import pos_tag, map_tag\n",
    "import matplotlib.pyplot as plt\n",
    "import seaborn as sns\n",
    "import pickle\n",
    "%matplotlib inline"
   ]
  },
  {
   "cell_type": "code",
   "execution_count": 2,
   "id": "a32ed17d-0347-46a4-b98e-18ae89172746",
   "metadata": {},
   "outputs": [
    {
     "name": "stdout",
     "output_type": "stream",
     "text": [
      "<class 'pandas.core.frame.DataFrame'>\n",
      "RangeIndex: 15652 entries, 0 to 15651\n",
      "Data columns (total 3 columns):\n",
      " #   Column   Non-Null Count  Dtype   \n",
      "---  ------   --------------  -----   \n",
      " 0   author   15652 non-null  category\n",
      " 1   title    15652 non-null  object  \n",
      " 2   content  15652 non-null  object  \n",
      "dtypes: category(1), object(2)\n",
      "memory usage: 430.2+ KB\n"
     ]
    }
   ],
   "source": [
    "pf_df = pd.read_csv('kaggle_poem_dataset.csv')\n",
    "pf_df['Author'] = pf_df.Author.astype('category')\n",
    "pf_df.columns = [name.lower() for name in pf_df.columns]\n",
    "pf_df = pf_df.drop(['unnamed: 0', 'poetry foundation id'], axis=1)\n",
    "pf_df.info()"
   ]
  },
  {
   "cell_type": "code",
   "execution_count": 3,
   "id": "0077e769-8d54-43ce-a8a1-2edaa9e24696",
   "metadata": {},
   "outputs": [],
   "source": [
    "# create function to clean lines\n",
    "import string, re\n",
    "from nltk.corpus import words\n",
    "import multiprocessing as mp\n",
    "def clean_text(text):\n",
    "    text = text.lower()\n",
    "    text = re.sub(' +', ' ', text)\n",
    "    text = text.replace('\\%','')\n",
    "    text = re.sub('\\[.*?\\]', '', text)\n",
    "    text = re.sub('https?://\\S+|www\\.\\S+', '', text)\n",
    "    text = re.sub('<.*?>+', '', text)\n",
    "    text = re.sub('[%s]' % re.escape(string.punctuation), '', text)\n",
    "    text = re.sub('\\w*\\d\\w*', '', text)\n",
    "    tokens = text.split()\n",
    "    text = \" \".join(filter(lambda x:x[0]!=\"@\", tokens))\n",
    "    text = \" \".join([s.strip(string.punctuation) for s in tokens])\n",
    "    text = text.encode(\"ascii\", \"ignore\").decode()\n",
    "    return text.strip()\n",
    "\n",
    "def clean_list(list_of_strings):\n",
    "    return [clean_text(string) for string in list_of_strings if string]"
   ]
  },
  {
   "cell_type": "code",
   "execution_count": 4,
   "id": "a1d84cae-bd96-4649-9819-9daddef5c31d",
   "metadata": {},
   "outputs": [
    {
     "name": "stdout",
     "output_type": "stream",
     "text": [
      "ele\n"
     ]
    }
   ],
   "source": [
    "test_string = \"-093h4t6-o it#%^34 -tdfgh^0897-q .....ele 13\"\n",
    "test_list = ['this -09shv-09hga asldknzvi a line ..a,y4990']*4\n",
    "test_list = [item.split() for item in test_list]\n",
    "print(clean_text(test_string))\n",
    "# print(pd.Series(test_list).map(clean_list))"
   ]
  },
  {
   "cell_type": "code",
   "execution_count": 5,
   "id": "da91d8c0-e252-4238-979f-57cadba314fb",
   "metadata": {},
   "outputs": [
    {
     "name": "stdout",
     "output_type": "stream",
     "text": [
      "author                                        Wendy Videlock\n",
      "title                                                      !\n",
      "content    Dear Writers, I’m compiling the first in what ...\n",
      "line       [dear writers im compiling the first in what i...\n",
      "Name: 0, dtype: object\n"
     ]
    }
   ],
   "source": [
    "# create column to store document as list of lines\n",
    "# import multiprocessing as mp\n",
    "\n",
    "pf_df['line'] = pf_df.content.str.split('\\n')\n",
    "# with mp.Pool(processes=mp.cpu_count()-1) as pool:\n",
    "#     clean_lines = pool.map(clean_list, pf_df.line)\n",
    "pf_df['line'] = pf_df['line'].map(clean_list)\n",
    "# pf_df['line'] = clean_lines\n",
    "print(pf_df.iloc[0])"
   ]
  },
  {
   "cell_type": "code",
   "execution_count": null,
   "id": "9970e243-6f20-47e7-8b60-3ca91b5fd703",
   "metadata": {},
   "outputs": [],
   "source": []
  },
  {
   "cell_type": "code",
   "execution_count": 6,
   "id": "454aa542-89ef-4caf-9c82-b545553d8ede",
   "metadata": {},
   "outputs": [
    {
     "name": "stdout",
     "output_type": "stream",
     "text": [
      "author                                        Wendy Videlock\n",
      "title                                                      !\n",
      "content    Dear Writers, I’m compiling the first in what ...\n",
      "line       [dear writers im compiling the first in what i...\n",
      "Name: 0, dtype: object\n"
     ]
    }
   ],
   "source": [
    "# construct function to remove empty lines for accurate line count\n",
    "def remove_empty_lines(list_of_lines):\n",
    "    try:\n",
    "        return [i for i in list_of_lines if i]\n",
    "    except TypeError:\n",
    "        return pd.NA\n",
    "    \n",
    "pf_df['line'] = pf_df.line.map(remove_empty_lines)\n",
    "print(pf_df.iloc[0])"
   ]
  },
  {
   "cell_type": "code",
   "execution_count": 7,
   "id": "a604dd98-0604-46c5-a99b-356399bf4367",
   "metadata": {},
   "outputs": [
    {
     "name": "stdout",
     "output_type": "stream",
     "text": [
      "<class 'pandas.core.frame.DataFrame'>\n",
      "RangeIndex: 15652 entries, 0 to 15651\n",
      "Data columns (total 5 columns):\n",
      " #   Column           Non-Null Count  Dtype   \n",
      "---  ------           --------------  -----   \n",
      " 0   author           15652 non-null  category\n",
      " 1   title            15652 non-null  object  \n",
      " 2   content          15652 non-null  object  \n",
      " 3   line             15652 non-null  object  \n",
      " 4   length_in_lines  15652 non-null  int64   \n",
      "dtypes: category(1), int64(1), object(3)\n",
      "memory usage: 674.7+ KB\n"
     ]
    }
   ],
   "source": [
    "# create column for length of poem in lines\n",
    "pf_df['length_in_lines'] = pf_df.line.map(len)\n",
    "pf_df.info()"
   ]
  },
  {
   "cell_type": "code",
   "execution_count": 8,
   "id": "db179295-3503-4ffa-a100-c77da7ff24d5",
   "metadata": {},
   "outputs": [
    {
     "data": {
      "text/plain": [
       "<seaborn.axisgrid.FacetGrid at 0x21f9fd7a5b0>"
      ]
     },
     "execution_count": 8,
     "metadata": {},
     "output_type": "execute_result"
    },
    {
     "data": {
      "image/png": "[encoded data removed]",
      "text/plain": [
       "<Figure size 360x360 with 1 Axes>"
      ]
     },
     "metadata": {
      "needs_background": "light"
     },
     "output_type": "display_data"
    }
   ],
   "source": [
    "sns.displot(pf_df.length_in_lines, kde=True)"
   ]
  },
  {
   "cell_type": "code",
   "execution_count": 9,
   "id": "9f99f54b-4d9a-4ba6-b1d6-818499aa5c1a",
   "metadata": {},
   "outputs": [],
   "source": [
    "# filtering outliers with zscore\n",
    "from scipy import stats\n",
    "clean_df = pf_df[(np.abs(stats.zscore(pf_df.length_in_lines)) < 2)]"
   ]
  },
  {
   "cell_type": "code",
   "execution_count": 10,
   "id": "12ba4d5d-c6f9-48fa-951d-40ad71624897",
   "metadata": {},
   "outputs": [],
   "source": [
    "# filter sub-haiku length works\n",
    "clean_df = clean_df[clean_df.length_in_lines > 2]"
   ]
  },
  {
   "cell_type": "code",
   "execution_count": 11,
   "id": "f1d8b40d-b90d-4cde-9ed2-35ee5eac2f08",
   "metadata": {},
   "outputs": [
    {
     "data": {
      "text/plain": [
       "<seaborn.axisgrid.FacetGrid at 0x21f99ee4bb0>"
      ]
     },
     "execution_count": 11,
     "metadata": {},
     "output_type": "execute_result"
    },
    {
     "data": {
      "image/png": "[encoded data removed]",
      "text/plain": [
       "<Figure size 360x360 with 1 Axes>"
      ]
     },
     "metadata": {
      "needs_background": "light"
     },
     "output_type": "display_data"
    }
   ],
   "source": [
    "sns.displot(clean_df.length_in_lines, kde=True)"
   ]
  },
  {
   "cell_type": "code",
   "execution_count": 12,
   "id": "0ff434b9-7c33-4011-bd96-67ba61928f9b",
   "metadata": {},
   "outputs": [],
   "source": [
    "def lexical_diversity(line_list):\n",
    "    doc_string = ' '.join(line_list)\n",
    "    words = word_tokenize(doc_string)\n",
    "    return (len(set(words))/len(words))\n",
    "        \n",
    "clean_df['lexical_diversity'] = clean_df.line.map(lexical_diversity)"
   ]
  },
  {
   "cell_type": "code",
   "execution_count": 13,
   "id": "b3a90be5-5cb0-4f3a-be69-8f7d067cac2c",
   "metadata": {},
   "outputs": [
    {
     "data": {
      "text/plain": [
       "1    [philosophic, in its complex ovoid emptiness, ...\n",
       "2    [wed like to talk with you about fear they sai...\n",
       "3    [the wise men will unlearn your name, above yo...\n",
       "4    [for jack collom, things i do every day, play ...\n",
       "5    [winter, more time is spent at the window, sum...\n",
       "Name: line, dtype: object"
      ]
     },
     "execution_count": 13,
     "metadata": {},
     "output_type": "execute_result"
    }
   ],
   "source": [
    "clean_df.line.head()"
   ]
  },
  {
   "cell_type": "code",
   "execution_count": 14,
   "id": "d661c5d3-e0f0-4ffe-b2e9-cecf80547a2d",
   "metadata": {},
   "outputs": [],
   "source": [
    "def lines2words(list_of_lines):\n",
    "    text = list_of_lines\n",
    "    while not isinstance(text, str):\n",
    "        try:\n",
    "            text = ' '.join(text)\n",
    "        except TypeError:\n",
    "            try:\n",
    "                   text = ' '.join([item for sublist in text for item in sublist])\n",
    "            except:\n",
    "                print(f\"problem with {text}\")\n",
    "    return text.split()\n",
    "\n",
    "# test_list = ['this is a line']*4\n",
    "# clean_df['line'].sample(n=2).map(lines2words)\n",
    "# print(test_list)\n",
    "# print(lines2words(test_list))"
   ]
  },
  {
   "cell_type": "code",
   "execution_count": 15,
   "id": "3678efbe-861a-496b-9ed2-f383dd3f0fa5",
   "metadata": {},
   "outputs": [],
   "source": [
    "poems_corpus = clean_df.line.map(lines2words)\n",
    "clean_df['words'] = poems_corpus"
   ]
  },
  {
   "cell_type": "code",
   "execution_count": 16,
   "id": "9b4a7465-1c57-4ba7-b8e9-50cfdd8f24ed",
   "metadata": {},
   "outputs": [
    {
     "data": {
      "text/html": [
       "<div>\n",
       "<style scoped>\n",
       "    .dataframe tbody tr th:only-of-type {\n",
       "        vertical-align: middle;\n",
       "    }\n",
       "\n",
       "    .dataframe tbody tr th {\n",
       "        vertical-align: top;\n",
       "    }\n",
       "\n",
       "    .dataframe thead th {\n",
       "        text-align: right;\n",
       "    }\n",
       "</style>\n",
       "<table border=\"1\" class=\"dataframe\">\n",
       "  <thead>\n",
       "    <tr style=\"text-align: right;\">\n",
       "      <th></th>\n",
       "      <th>author</th>\n",
       "      <th>title</th>\n",
       "      <th>content</th>\n",
       "      <th>line</th>\n",
       "      <th>length_in_lines</th>\n",
       "      <th>lexical_diversity</th>\n",
       "      <th>words</th>\n",
       "    </tr>\n",
       "  </thead>\n",
       "  <tbody>\n",
       "    <tr>\n",
       "      <th>1</th>\n",
       "      <td>Hailey Leithauser</td>\n",
       "      <td>0</td>\n",
       "      <td>Philosophic\\nin its complex, ovoid emptiness,\\...</td>\n",
       "      <td>[philosophic, in its complex ovoid emptiness, ...</td>\n",
       "      <td>15</td>\n",
       "      <td>0.863636</td>\n",
       "      <td>[philosophic, in, its, complex, ovoid, emptine...</td>\n",
       "    </tr>\n",
       "    <tr>\n",
       "      <th>2</th>\n",
       "      <td>Jody Gladding</td>\n",
       "      <td>1-800-FEAR</td>\n",
       "      <td>We'd  like  to  talk  with  you  about  fear t...</td>\n",
       "      <td>[wed like to talk with you about fear they sai...</td>\n",
       "      <td>11</td>\n",
       "      <td>0.663717</td>\n",
       "      <td>[wed, like, to, talk, with, you, about, fear, ...</td>\n",
       "    </tr>\n",
       "    <tr>\n",
       "      <th>3</th>\n",
       "      <td>Joseph Brodsky</td>\n",
       "      <td>1 January 1965</td>\n",
       "      <td>The Wise Men will unlearn your name.\\nAbove yo...</td>\n",
       "      <td>[the wise men will unlearn your name, above yo...</td>\n",
       "      <td>24</td>\n",
       "      <td>0.693333</td>\n",
       "      <td>[the, wise, men, will, unlearn, your, name, ab...</td>\n",
       "    </tr>\n",
       "    <tr>\n",
       "      <th>4</th>\n",
       "      <td>Ted Berrigan</td>\n",
       "      <td>3 Pages</td>\n",
       "      <td>For Jack Collom\\n10 Things I do Every Day\\n\\np...</td>\n",
       "      <td>[for jack collom, things i do every day, play ...</td>\n",
       "      <td>26</td>\n",
       "      <td>0.846154</td>\n",
       "      <td>[for, jack, collom, things, i, do, every, day,...</td>\n",
       "    </tr>\n",
       "    <tr>\n",
       "      <th>5</th>\n",
       "      <td>Joe Brainard</td>\n",
       "      <td>30 One-Liners</td>\n",
       "      <td>WINTER\\nMore time is spent at the window.\\n\\nS...</td>\n",
       "      <td>[winter, more time is spent at the window, sum...</td>\n",
       "      <td>65</td>\n",
       "      <td>0.575843</td>\n",
       "      <td>[winter, more, time, is, spent, at, the, windo...</td>\n",
       "    </tr>\n",
       "  </tbody>\n",
       "</table>\n",
       "</div>"
      ],
      "text/plain": [
       "              author           title  \\\n",
       "1  Hailey Leithauser               0   \n",
       "2      Jody Gladding      1-800-FEAR   \n",
       "3     Joseph Brodsky  1 January 1965   \n",
       "4       Ted Berrigan         3 Pages   \n",
       "5       Joe Brainard   30 One-Liners   \n",
       "\n",
       "                                             content  \\\n",
       "1  Philosophic\\nin its complex, ovoid emptiness,\\...   \n",
       "2  We'd  like  to  talk  with  you  about  fear t...   \n",
       "3  The Wise Men will unlearn your name.\\nAbove yo...   \n",
       "4  For Jack Collom\\n10 Things I do Every Day\\n\\np...   \n",
       "5  WINTER\\nMore time is spent at the window.\\n\\nS...   \n",
       "\n",
       "                                                line  length_in_lines  \\\n",
       "1  [philosophic, in its complex ovoid emptiness, ...               15   \n",
       "2  [wed like to talk with you about fear they sai...               11   \n",
       "3  [the wise men will unlearn your name, above yo...               24   \n",
       "4  [for jack collom, things i do every day, play ...               26   \n",
       "5  [winter, more time is spent at the window, sum...               65   \n",
       "\n",
       "   lexical_diversity                                              words  \n",
       "1           0.863636  [philosophic, in, its, complex, ovoid, emptine...  \n",
       "2           0.663717  [wed, like, to, talk, with, you, about, fear, ...  \n",
       "3           0.693333  [the, wise, men, will, unlearn, your, name, ab...  \n",
       "4           0.846154  [for, jack, collom, things, i, do, every, day,...  \n",
       "5           0.575843  [winter, more, time, is, spent, at, the, windo...  "
      ]
     },
     "execution_count": 16,
     "metadata": {},
     "output_type": "execute_result"
    }
   ],
   "source": [
    "clean_df.head()"
   ]
  },
  {
   "cell_type": "code",
   "execution_count": 17,
   "id": "184fda08-7ea1-417d-9065-8c0f30917909",
   "metadata": {},
   "outputs": [],
   "source": [
    "with open('poem_corpus.pkl', 'wb') as f:\n",
    "    pickle.dump(poems_corpus, f)"
   ]
  },
  {
   "cell_type": "code",
   "execution_count": 18,
   "id": "2bd89af6-54d5-491f-91d5-fb1c59c3435a",
   "metadata": {},
   "outputs": [],
   "source": [
    "with open('clean_df.pkl', 'wb') as f:\n",
    "    pickle.dump(clean_df, f)"
   ]
  },
  {
   "cell_type": "code",
   "execution_count": 19,
   "id": "24c678d4-0100-4759-a1c2-44227ee2dfa1",
   "metadata": {},
   "outputs": [
    {
     "data": {
      "text/plain": [
       "<seaborn.axisgrid.FacetGrid at 0x21fb6fc3370>"
      ]
     },
     "execution_count": 19,
     "metadata": {},
     "output_type": "execute_result"
    },
    {
     "data": {
      "image/png": "[encoded data removed]",
      "text/plain": [
       "<Figure size 360x360 with 1 Axes>"
      ]
     },
     "metadata": {
      "needs_background": "light"
     },
     "output_type": "display_data"
    }
   ],
   "source": [
    "sns.displot(clean_df.lexical_diversity, kde=True)"
   ]
  },
  {
   "cell_type": "code",
   "execution_count": 20,
   "id": "1a0b822e-b7d6-4778-87de-64911ed34804",
   "metadata": {},
   "outputs": [
    {
     "name": "stdout",
     "output_type": "stream",
     "text": [
      "<class 'pandas.core.frame.DataFrame'>\n",
      "Int64Index: 15076 entries, 1 to 15651\n",
      "Data columns (total 7 columns):\n",
      " #   Column             Non-Null Count  Dtype   \n",
      "---  ------             --------------  -----   \n",
      " 0   author             15076 non-null  category\n",
      " 1   title              15076 non-null  object  \n",
      " 2   content            15076 non-null  object  \n",
      " 3   line               15076 non-null  object  \n",
      " 4   length_in_lines    15076 non-null  int64   \n",
      " 5   lexical_diversity  15076 non-null  float64 \n",
      " 6   words              15076 non-null  object  \n",
      "dtypes: category(1), float64(1), int64(1), object(4)\n",
      "memory usage: 1008.8+ KB\n"
     ]
    }
   ],
   "source": [
    "clean_df.info()\n",
    "# sample 3 lines from each poem\n",
    "# import random\n",
    "# clean_df.line.describe()\n",
    "# docs_in_lines = clean_df.line.to_list()\n",
    "# line_samples = [random.sample(lines,3) for lines in docs_in_lines]"
   ]
  },
  {
   "cell_type": "code",
   "execution_count": 21,
   "id": "f02199da-a0ee-4b9b-99e4-7c3852693d28",
   "metadata": {},
   "outputs": [
    {
     "data": {
      "text/html": [
       "<div>\n",
       "<style scoped>\n",
       "    .dataframe tbody tr th:only-of-type {\n",
       "        vertical-align: middle;\n",
       "    }\n",
       "\n",
       "    .dataframe tbody tr th {\n",
       "        vertical-align: top;\n",
       "    }\n",
       "\n",
       "    .dataframe thead th {\n",
       "        text-align: right;\n",
       "    }\n",
       "</style>\n",
       "<table border=\"1\" class=\"dataframe\">\n",
       "  <thead>\n",
       "    <tr style=\"text-align: right;\">\n",
       "      <th></th>\n",
       "      <th>author</th>\n",
       "      <th>title</th>\n",
       "      <th>line</th>\n",
       "      <th>words</th>\n",
       "    </tr>\n",
       "  </thead>\n",
       "  <tbody>\n",
       "    <tr>\n",
       "      <th>0</th>\n",
       "      <td>Hailey Leithauser</td>\n",
       "      <td>0</td>\n",
       "      <td>philosophic</td>\n",
       "      <td>[philosophic, in, its, complex, ovoid, emptine...</td>\n",
       "    </tr>\n",
       "    <tr>\n",
       "      <th>1</th>\n",
       "      <td>Hailey Leithauser</td>\n",
       "      <td>0</td>\n",
       "      <td>in its complex ovoid emptiness</td>\n",
       "      <td>[philosophic, in, its, complex, ovoid, emptine...</td>\n",
       "    </tr>\n",
       "    <tr>\n",
       "      <th>2</th>\n",
       "      <td>Hailey Leithauser</td>\n",
       "      <td>0</td>\n",
       "      <td>a skillful pundit coined it as a sort</td>\n",
       "      <td>[philosophic, in, its, complex, ovoid, emptine...</td>\n",
       "    </tr>\n",
       "    <tr>\n",
       "      <th>3</th>\n",
       "      <td>Hailey Leithauser</td>\n",
       "      <td>0</td>\n",
       "      <td>of stopgap doorstop for those</td>\n",
       "      <td>[philosophic, in, its, complex, ovoid, emptine...</td>\n",
       "    </tr>\n",
       "    <tr>\n",
       "      <th>4</th>\n",
       "      <td>Hailey Leithauser</td>\n",
       "      <td>0</td>\n",
       "      <td>quaint equations</td>\n",
       "      <td>[philosophic, in, its, complex, ovoid, emptine...</td>\n",
       "    </tr>\n",
       "    <tr>\n",
       "      <th>...</th>\n",
       "      <td>...</td>\n",
       "      <td>...</td>\n",
       "      <td>...</td>\n",
       "      <td>...</td>\n",
       "    </tr>\n",
       "    <tr>\n",
       "      <th>471431</th>\n",
       "      <td>Joseph O. Legaspi</td>\n",
       "      <td>Your Mother Wears a House Dress</td>\n",
       "      <td>for thirst</td>\n",
       "      <td>[if, your, house, is, a, dress, itll, fit, lik...</td>\n",
       "    </tr>\n",
       "    <tr>\n",
       "      <th>471432</th>\n",
       "      <td>Joseph O. Legaspi</td>\n",
       "      <td>Your Mother Wears a House Dress</td>\n",
       "      <td>cloaked as</td>\n",
       "      <td>[if, your, house, is, a, dress, itll, fit, lik...</td>\n",
       "    </tr>\n",
       "    <tr>\n",
       "      <th>471433</th>\n",
       "      <td>Joseph O. Legaspi</td>\n",
       "      <td>Your Mother Wears a House Dress</td>\n",
       "      <td>he is warm</td>\n",
       "      <td>[if, your, house, is, a, dress, itll, fit, lik...</td>\n",
       "    </tr>\n",
       "    <tr>\n",
       "      <th>471434</th>\n",
       "      <td>Joseph O. Legaspi</td>\n",
       "      <td>Your Mother Wears a House Dress</td>\n",
       "      <td>radiant in a</td>\n",
       "      <td>[if, your, house, is, a, dress, itll, fit, lik...</td>\n",
       "    </tr>\n",
       "    <tr>\n",
       "      <th>471435</th>\n",
       "      <td>Joseph O. Legaspi</td>\n",
       "      <td>Your Mother Wears a House Dress</td>\n",
       "      <td>house dress</td>\n",
       "      <td>[if, your, house, is, a, dress, itll, fit, lik...</td>\n",
       "    </tr>\n",
       "  </tbody>\n",
       "</table>\n",
       "<p>471436 rows × 4 columns</p>\n",
       "</div>"
      ],
      "text/plain": [
       "                   author                            title  \\\n",
       "0       Hailey Leithauser                                0   \n",
       "1       Hailey Leithauser                                0   \n",
       "2       Hailey Leithauser                                0   \n",
       "3       Hailey Leithauser                                0   \n",
       "4       Hailey Leithauser                                0   \n",
       "...                   ...                              ...   \n",
       "471431  Joseph O. Legaspi  Your Mother Wears a House Dress   \n",
       "471432  Joseph O. Legaspi  Your Mother Wears a House Dress   \n",
       "471433  Joseph O. Legaspi  Your Mother Wears a House Dress   \n",
       "471434  Joseph O. Legaspi  Your Mother Wears a House Dress   \n",
       "471435  Joseph O. Legaspi  Your Mother Wears a House Dress   \n",
       "\n",
       "                                         line  \\\n",
       "0                                 philosophic   \n",
       "1              in its complex ovoid emptiness   \n",
       "2       a skillful pundit coined it as a sort   \n",
       "3               of stopgap doorstop for those   \n",
       "4                            quaint equations   \n",
       "...                                       ...   \n",
       "471431                             for thirst   \n",
       "471432                             cloaked as   \n",
       "471433                             he is warm   \n",
       "471434                           radiant in a   \n",
       "471435                            house dress   \n",
       "\n",
       "                                                    words  \n",
       "0       [philosophic, in, its, complex, ovoid, emptine...  \n",
       "1       [philosophic, in, its, complex, ovoid, emptine...  \n",
       "2       [philosophic, in, its, complex, ovoid, emptine...  \n",
       "3       [philosophic, in, its, complex, ovoid, emptine...  \n",
       "4       [philosophic, in, its, complex, ovoid, emptine...  \n",
       "...                                                   ...  \n",
       "471431  [if, your, house, is, a, dress, itll, fit, lik...  \n",
       "471432  [if, your, house, is, a, dress, itll, fit, lik...  \n",
       "471433  [if, your, house, is, a, dress, itll, fit, lik...  \n",
       "471434  [if, your, house, is, a, dress, itll, fit, lik...  \n",
       "471435  [if, your, house, is, a, dress, itll, fit, lik...  \n",
       "\n",
       "[471436 rows x 4 columns]"
      ]
     },
     "execution_count": 21,
     "metadata": {},
     "output_type": "execute_result"
    }
   ],
   "source": [
    "line_df = clean_df.explode('line').drop(['length_in_lines', 'content','lexical_diversity'],axis=1)\n",
    "line_df.reset_index(drop=True)"
   ]
  },
  {
   "cell_type": "code",
   "execution_count": 22,
   "id": "79da3079-33b3-4195-9e36-b123d55db688",
   "metadata": {},
   "outputs": [],
   "source": [
    "line_df['line_no'] = line_df.groupby(['author',\"title\"]).cumcount()+1"
   ]
  },
  {
   "cell_type": "code",
   "execution_count": 23,
   "id": "7ea4b034-2316-448a-bd5e-eb366f81286b",
   "metadata": {},
   "outputs": [
    {
     "data": {
      "text/html": [
       "<div>\n",
       "<style scoped>\n",
       "    .dataframe tbody tr th:only-of-type {\n",
       "        vertical-align: middle;\n",
       "    }\n",
       "\n",
       "    .dataframe tbody tr th {\n",
       "        vertical-align: top;\n",
       "    }\n",
       "\n",
       "    .dataframe thead th {\n",
       "        text-align: right;\n",
       "    }\n",
       "</style>\n",
       "<table border=\"1\" class=\"dataframe\">\n",
       "  <thead>\n",
       "    <tr style=\"text-align: right;\">\n",
       "      <th></th>\n",
       "      <th>author</th>\n",
       "      <th>title</th>\n",
       "      <th>line</th>\n",
       "      <th>words</th>\n",
       "      <th>line_no</th>\n",
       "    </tr>\n",
       "  </thead>\n",
       "  <tbody>\n",
       "    <tr>\n",
       "      <th>1</th>\n",
       "      <td>Hailey Leithauser</td>\n",
       "      <td>0</td>\n",
       "      <td>philosophic</td>\n",
       "      <td>[philosophic, in, its, complex, ovoid, emptine...</td>\n",
       "      <td>1</td>\n",
       "    </tr>\n",
       "    <tr>\n",
       "      <th>1</th>\n",
       "      <td>Hailey Leithauser</td>\n",
       "      <td>0</td>\n",
       "      <td>in its complex ovoid emptiness</td>\n",
       "      <td>[philosophic, in, its, complex, ovoid, emptine...</td>\n",
       "      <td>2</td>\n",
       "    </tr>\n",
       "    <tr>\n",
       "      <th>1</th>\n",
       "      <td>Hailey Leithauser</td>\n",
       "      <td>0</td>\n",
       "      <td>a skillful pundit coined it as a sort</td>\n",
       "      <td>[philosophic, in, its, complex, ovoid, emptine...</td>\n",
       "      <td>3</td>\n",
       "    </tr>\n",
       "    <tr>\n",
       "      <th>1</th>\n",
       "      <td>Hailey Leithauser</td>\n",
       "      <td>0</td>\n",
       "      <td>of stopgap doorstop for those</td>\n",
       "      <td>[philosophic, in, its, complex, ovoid, emptine...</td>\n",
       "      <td>4</td>\n",
       "    </tr>\n",
       "    <tr>\n",
       "      <th>1</th>\n",
       "      <td>Hailey Leithauser</td>\n",
       "      <td>0</td>\n",
       "      <td>quaint equations</td>\n",
       "      <td>[philosophic, in, its, complex, ovoid, emptine...</td>\n",
       "      <td>5</td>\n",
       "    </tr>\n",
       "  </tbody>\n",
       "</table>\n",
       "</div>"
      ],
      "text/plain": [
       "              author title                                   line  \\\n",
       "1  Hailey Leithauser     0                            philosophic   \n",
       "1  Hailey Leithauser     0         in its complex ovoid emptiness   \n",
       "1  Hailey Leithauser     0  a skillful pundit coined it as a sort   \n",
       "1  Hailey Leithauser     0          of stopgap doorstop for those   \n",
       "1  Hailey Leithauser     0                       quaint equations   \n",
       "\n",
       "                                               words  line_no  \n",
       "1  [philosophic, in, its, complex, ovoid, emptine...        1  \n",
       "1  [philosophic, in, its, complex, ovoid, emptine...        2  \n",
       "1  [philosophic, in, its, complex, ovoid, emptine...        3  \n",
       "1  [philosophic, in, its, complex, ovoid, emptine...        4  \n",
       "1  [philosophic, in, its, complex, ovoid, emptine...        5  "
      ]
     },
     "execution_count": 23,
     "metadata": {},
     "output_type": "execute_result"
    }
   ],
   "source": [
    "line_df.head()"
   ]
  },
  {
   "cell_type": "code",
   "execution_count": 24,
   "id": "83b4086d-0f66-42cf-aa5b-9ab9fec69ef0",
   "metadata": {},
   "outputs": [
    {
     "data": {
      "text/html": [
       "<div>\n",
       "<style scoped>\n",
       "    .dataframe tbody tr th:only-of-type {\n",
       "        vertical-align: middle;\n",
       "    }\n",
       "\n",
       "    .dataframe tbody tr th {\n",
       "        vertical-align: top;\n",
       "    }\n",
       "\n",
       "    .dataframe thead th {\n",
       "        text-align: right;\n",
       "    }\n",
       "</style>\n",
       "<table border=\"1\" class=\"dataframe\">\n",
       "  <thead>\n",
       "    <tr style=\"text-align: right;\">\n",
       "      <th></th>\n",
       "      <th>author</th>\n",
       "      <th>title</th>\n",
       "      <th>line</th>\n",
       "      <th>words</th>\n",
       "      <th>line_no</th>\n",
       "    </tr>\n",
       "  </thead>\n",
       "  <tbody>\n",
       "    <tr>\n",
       "      <th>1</th>\n",
       "      <td>Hailey Leithauser</td>\n",
       "      <td>0</td>\n",
       "      <td>philosophic</td>\n",
       "      <td>[philosophic]</td>\n",
       "      <td>1</td>\n",
       "    </tr>\n",
       "    <tr>\n",
       "      <th>1</th>\n",
       "      <td>Hailey Leithauser</td>\n",
       "      <td>0</td>\n",
       "      <td>in its complex ovoid emptiness</td>\n",
       "      <td>[in, its, complex, ovoid, emptiness]</td>\n",
       "      <td>2</td>\n",
       "    </tr>\n",
       "    <tr>\n",
       "      <th>1</th>\n",
       "      <td>Hailey Leithauser</td>\n",
       "      <td>0</td>\n",
       "      <td>a skillful pundit coined it as a sort</td>\n",
       "      <td>[a, skillful, pundit, coined, it, as, a, sort]</td>\n",
       "      <td>3</td>\n",
       "    </tr>\n",
       "    <tr>\n",
       "      <th>1</th>\n",
       "      <td>Hailey Leithauser</td>\n",
       "      <td>0</td>\n",
       "      <td>of stopgap doorstop for those</td>\n",
       "      <td>[of, stopgap, doorstop, for, those]</td>\n",
       "      <td>4</td>\n",
       "    </tr>\n",
       "    <tr>\n",
       "      <th>1</th>\n",
       "      <td>Hailey Leithauser</td>\n",
       "      <td>0</td>\n",
       "      <td>quaint equations</td>\n",
       "      <td>[quaint, equations]</td>\n",
       "      <td>5</td>\n",
       "    </tr>\n",
       "  </tbody>\n",
       "</table>\n",
       "</div>"
      ],
      "text/plain": [
       "              author title                                   line  \\\n",
       "1  Hailey Leithauser     0                            philosophic   \n",
       "1  Hailey Leithauser     0         in its complex ovoid emptiness   \n",
       "1  Hailey Leithauser     0  a skillful pundit coined it as a sort   \n",
       "1  Hailey Leithauser     0          of stopgap doorstop for those   \n",
       "1  Hailey Leithauser     0                       quaint equations   \n",
       "\n",
       "                                            words  line_no  \n",
       "1                                   [philosophic]        1  \n",
       "1            [in, its, complex, ovoid, emptiness]        2  \n",
       "1  [a, skillful, pundit, coined, it, as, a, sort]        3  \n",
       "1             [of, stopgap, doorstop, for, those]        4  \n",
       "1                             [quaint, equations]        5  "
      ]
     },
     "execution_count": 24,
     "metadata": {},
     "output_type": "execute_result"
    }
   ],
   "source": [
    "line_df['words'] = line_df.line.map(word_tokenize)\n",
    "line_df.head()"
   ]
  },
  {
   "cell_type": "code",
   "execution_count": 25,
   "id": "9a64053a-567b-438d-b5c8-4861c97cb420",
   "metadata": {},
   "outputs": [],
   "source": [
    "line_df['length_in_words'] = line_df.words.map(len)"
   ]
  },
  {
   "cell_type": "code",
   "execution_count": 26,
   "id": "78a6b9a5-e73c-4528-be9c-8b9545f7d111",
   "metadata": {},
   "outputs": [
    {
     "data": {
      "text/html": [
       "<div>\n",
       "<style scoped>\n",
       "    .dataframe tbody tr th:only-of-type {\n",
       "        vertical-align: middle;\n",
       "    }\n",
       "\n",
       "    .dataframe tbody tr th {\n",
       "        vertical-align: top;\n",
       "    }\n",
       "\n",
       "    .dataframe thead th {\n",
       "        text-align: right;\n",
       "    }\n",
       "</style>\n",
       "<table border=\"1\" class=\"dataframe\">\n",
       "  <thead>\n",
       "    <tr style=\"text-align: right;\">\n",
       "      <th></th>\n",
       "      <th>line_no</th>\n",
       "      <th>length_in_words</th>\n",
       "    </tr>\n",
       "  </thead>\n",
       "  <tbody>\n",
       "    <tr>\n",
       "      <th>count</th>\n",
       "      <td>471436.000000</td>\n",
       "      <td>471436.000000</td>\n",
       "    </tr>\n",
       "    <tr>\n",
       "      <th>mean</th>\n",
       "      <td>27.398315</td>\n",
       "      <td>6.839384</td>\n",
       "    </tr>\n",
       "    <tr>\n",
       "      <th>std</th>\n",
       "      <td>27.854321</td>\n",
       "      <td>5.715644</td>\n",
       "    </tr>\n",
       "    <tr>\n",
       "      <th>min</th>\n",
       "      <td>1.000000</td>\n",
       "      <td>1.000000</td>\n",
       "    </tr>\n",
       "    <tr>\n",
       "      <th>25%</th>\n",
       "      <td>8.000000</td>\n",
       "      <td>5.000000</td>\n",
       "    </tr>\n",
       "    <tr>\n",
       "      <th>50%</th>\n",
       "      <td>18.000000</td>\n",
       "      <td>7.000000</td>\n",
       "    </tr>\n",
       "    <tr>\n",
       "      <th>75%</th>\n",
       "      <td>36.000000</td>\n",
       "      <td>8.000000</td>\n",
       "    </tr>\n",
       "    <tr>\n",
       "      <th>max</th>\n",
       "      <td>181.000000</td>\n",
       "      <td>606.000000</td>\n",
       "    </tr>\n",
       "  </tbody>\n",
       "</table>\n",
       "</div>"
      ],
      "text/plain": [
       "             line_no  length_in_words\n",
       "count  471436.000000    471436.000000\n",
       "mean       27.398315         6.839384\n",
       "std        27.854321         5.715644\n",
       "min         1.000000         1.000000\n",
       "25%         8.000000         5.000000\n",
       "50%        18.000000         7.000000\n",
       "75%        36.000000         8.000000\n",
       "max       181.000000       606.000000"
      ]
     },
     "execution_count": 26,
     "metadata": {},
     "output_type": "execute_result"
    }
   ],
   "source": [
    "line_df.describe()"
   ]
  },
  {
   "cell_type": "code",
   "execution_count": 27,
   "id": "7f69ce3c-9ce0-4dc5-826b-f237304f713b",
   "metadata": {},
   "outputs": [
    {
     "data": {
      "text/plain": [
       "<seaborn.axisgrid.FacetGrid at 0x21fb7095d30>"
      ]
     },
     "execution_count": 27,
     "metadata": {},
     "output_type": "execute_result"
    },
    {
     "data": {
      "image/png": "[encoded data removed]",
      "text/plain": [
       "<Figure size 360x360 with 1 Axes>"
      ]
     },
     "metadata": {
      "needs_background": "light"
     },
     "output_type": "display_data"
    }
   ],
   "source": [
    "x = line_df.length_in_words\n",
    "sns.displot(data=line_df, x='length_in_words', kde=True)"
   ]
  },
  {
   "cell_type": "code",
   "execution_count": 28,
   "id": "c67e0a87-530b-4d9c-a073-4aaa4c8f4684",
   "metadata": {},
   "outputs": [],
   "source": [
    "# filtering outliers with zscore\n",
    "from scipy import stats\n",
    "clean_line_df = line_df[(np.abs(stats.zscore(line_df.length_in_words)) < 2)]"
   ]
  },
  {
   "cell_type": "code",
   "execution_count": 29,
   "id": "eac5f5bf-5210-4bd1-9559-d54b5e990e49",
   "metadata": {},
   "outputs": [
    {
     "data": {
      "text/plain": [
       "<seaborn.axisgrid.FacetGrid at 0x21fa221ec10>"
      ]
     },
     "execution_count": 29,
     "metadata": {},
     "output_type": "execute_result"
    },
    {
     "data": {
      "image/png": "[encoded data removed]",
      "text/plain": [
       "<Figure size 360x360 with 1 Axes>"
      ]
     },
     "metadata": {
      "needs_background": "light"
     },
     "output_type": "display_data"
    }
   ],
   "source": [
    "# fig, ax = plt.subplots()\n",
    "# x = clean_line_df.length_in_words\n",
    "sns.displot(data=clean_line_df, x='length_in_words', kde=True)\n",
    "# plt.tight_layout()"
   ]
  },
  {
   "cell_type": "code",
   "execution_count": 30,
   "id": "c3e56e7b-10e3-460b-ae97-220f4e18e5f2",
   "metadata": {},
   "outputs": [
    {
     "name": "stdout",
     "output_type": "stream",
     "text": [
      "<class 'pandas.core.frame.DataFrame'>\n",
      "Int64Index: 471436 entries, 1 to 15651\n",
      "Data columns (total 6 columns):\n",
      " #   Column           Non-Null Count   Dtype   \n",
      "---  ------           --------------   -----   \n",
      " 0   author           471436 non-null  category\n",
      " 1   title            471436 non-null  object  \n",
      " 2   line             471436 non-null  object  \n",
      " 3   words            471436 non-null  object  \n",
      " 4   line_no          471436 non-null  int64   \n",
      " 5   length_in_words  471436 non-null  int64   \n",
      "dtypes: category(1), int64(2), object(3)\n",
      "memory usage: 22.6+ MB\n"
     ]
    }
   ],
   "source": [
    "line_df.info()"
   ]
  },
  {
   "cell_type": "code",
   "execution_count": 31,
   "id": "fc92192c-ff1f-4e89-8609-59df099559a9",
   "metadata": {},
   "outputs": [
    {
     "name": "stdout",
     "output_type": "stream",
     "text": [
      "<class 'pandas.core.frame.DataFrame'>\n",
      "Int64Index: 468222 entries, 1 to 15651\n",
      "Data columns (total 6 columns):\n",
      " #   Column           Non-Null Count   Dtype   \n",
      "---  ------           --------------   -----   \n",
      " 0   author           468222 non-null  category\n",
      " 1   title            468222 non-null  object  \n",
      " 2   line             468222 non-null  object  \n",
      " 3   words            468222 non-null  object  \n",
      " 4   line_no          468222 non-null  int64   \n",
      " 5   length_in_words  468222 non-null  int64   \n",
      "dtypes: category(1), int64(2), object(3)\n",
      "memory usage: 22.5+ MB\n"
     ]
    }
   ],
   "source": [
    "clean_line_df.info()"
   ]
  },
  {
   "cell_type": "code",
   "execution_count": 32,
   "id": "3f6a7596-db38-4003-9ca9-038b2f5924ad",
   "metadata": {},
   "outputs": [
    {
     "name": "stderr",
     "output_type": "stream",
     "text": [
      "<ipython-input-32-5b05ab53e382>:1: SettingWithCopyWarning: \n",
      "A value is trying to be set on a copy of a slice from a DataFrame.\n",
      "Try using .loc[row_indexer,col_indexer] = value instead\n",
      "\n",
      "See the caveats in the documentation: https://pandas.pydata.org/pandas-docs/stable/user_guide/indexing.html#returning-a-view-versus-a-copy\n",
      "  clean_line_df['lexical_diversity'] = clean_line_df.words.map(lexical_diversity)\n"
     ]
    }
   ],
   "source": [
    "clean_line_df['lexical_diversity'] = clean_line_df.words.map(lexical_diversity)"
   ]
  },
  {
   "cell_type": "code",
   "execution_count": 33,
   "id": "a5856146-c98c-49fb-8b09-72762a3f8878",
   "metadata": {},
   "outputs": [],
   "source": [
    "clean_line_df.head()\n",
    "with open('clean_line_df.pkl', 'wb') as f:\n",
    "    pickle.dump(clean_line_df, f)"
   ]
  },
  {
   "cell_type": "code",
   "execution_count": 34,
   "id": "471c77dd-5598-4257-b11c-413e7338d14b",
   "metadata": {},
   "outputs": [
    {
     "data": {
      "text/plain": [
       "<seaborn.axisgrid.FacetGrid at 0x21fb6fd0880>"
      ]
     },
     "execution_count": 34,
     "metadata": {},
     "output_type": "execute_result"
    },
    {
     "data": {
      "image/png": "[encoded data removed]",
      "text/plain": [
       "<Figure size 360x360 with 1 Axes>"
      ]
     },
     "metadata": {
      "needs_background": "light"
     },
     "output_type": "display_data"
    }
   ],
   "source": [
    "sns.displot(data=clean_line_df, x=\"lexical_diversity\", kde=True)"
   ]
  },
  {
   "cell_type": "code",
   "execution_count": 35,
   "id": "eadc3a38-6100-419b-8cbb-1c7822a2f6d2",
   "metadata": {},
   "outputs": [],
   "source": [
    "author_line_lexical = clean_line_df.drop(['title','line','words'], axis=1).groupby('author').mean()"
   ]
  },
  {
   "cell_type": "code",
   "execution_count": 36,
   "id": "dfa7b121-ffdc-433f-a520-e314d9d7ce80",
   "metadata": {},
   "outputs": [
    {
     "data": {
      "text/plain": [
       "<seaborn.axisgrid.FacetGrid at 0x21f99eefac0>"
      ]
     },
     "execution_count": 36,
     "metadata": {},
     "output_type": "execute_result"
    },
    {
     "data": {
      "image/png": "[encoded data removed]",
      "text/plain": [
       "<Figure size 360x360 with 1 Axes>"
      ]
     },
     "metadata": {
      "needs_background": "light"
     },
     "output_type": "display_data"
    }
   ],
   "source": [
    "author_line_lexical.reset_index(inplace=True)\n",
    "sns.displot(data=author_line_lexical, x='length_in_words',y='lexical_diversity')"
   ]
  },
  {
   "cell_type": "code",
   "execution_count": 37,
   "id": "e31aaed9-9aab-4955-98c7-d375f4d259f3",
   "metadata": {},
   "outputs": [
    {
     "data": {
      "text/html": [
       "<div>\n",
       "<style scoped>\n",
       "    .dataframe tbody tr th:only-of-type {\n",
       "        vertical-align: middle;\n",
       "    }\n",
       "\n",
       "    .dataframe tbody tr th {\n",
       "        vertical-align: top;\n",
       "    }\n",
       "\n",
       "    .dataframe thead th {\n",
       "        text-align: right;\n",
       "    }\n",
       "</style>\n",
       "<table border=\"1\" class=\"dataframe\">\n",
       "  <thead>\n",
       "    <tr style=\"text-align: right;\">\n",
       "      <th></th>\n",
       "      <th>line_no</th>\n",
       "      <th>length_in_words</th>\n",
       "      <th>lexical_diversity</th>\n",
       "    </tr>\n",
       "  </thead>\n",
       "  <tbody>\n",
       "    <tr>\n",
       "      <th>count</th>\n",
       "      <td>3245.000000</td>\n",
       "      <td>3245.000000</td>\n",
       "      <td>3245.000000</td>\n",
       "    </tr>\n",
       "    <tr>\n",
       "      <th>mean</th>\n",
       "      <td>18.350725</td>\n",
       "      <td>6.652476</td>\n",
       "      <td>0.973111</td>\n",
       "    </tr>\n",
       "    <tr>\n",
       "      <th>std</th>\n",
       "      <td>12.749815</td>\n",
       "      <td>1.748223</td>\n",
       "      <td>0.020252</td>\n",
       "    </tr>\n",
       "    <tr>\n",
       "      <th>min</th>\n",
       "      <td>1.000000</td>\n",
       "      <td>1.000000</td>\n",
       "      <td>0.708333</td>\n",
       "    </tr>\n",
       "    <tr>\n",
       "      <th>25%</th>\n",
       "      <td>9.500000</td>\n",
       "      <td>5.571429</td>\n",
       "      <td>0.964770</td>\n",
       "    </tr>\n",
       "    <tr>\n",
       "      <th>50%</th>\n",
       "      <td>14.424779</td>\n",
       "      <td>6.614420</td>\n",
       "      <td>0.976190</td>\n",
       "    </tr>\n",
       "    <tr>\n",
       "      <th>75%</th>\n",
       "      <td>23.390244</td>\n",
       "      <td>7.617716</td>\n",
       "      <td>0.985679</td>\n",
       "    </tr>\n",
       "    <tr>\n",
       "      <th>max</th>\n",
       "      <td>90.500000</td>\n",
       "      <td>17.000000</td>\n",
       "      <td>1.000000</td>\n",
       "    </tr>\n",
       "  </tbody>\n",
       "</table>\n",
       "</div>"
      ],
      "text/plain": [
       "           line_no  length_in_words  lexical_diversity\n",
       "count  3245.000000      3245.000000        3245.000000\n",
       "mean     18.350725         6.652476           0.973111\n",
       "std      12.749815         1.748223           0.020252\n",
       "min       1.000000         1.000000           0.708333\n",
       "25%       9.500000         5.571429           0.964770\n",
       "50%      14.424779         6.614420           0.976190\n",
       "75%      23.390244         7.617716           0.985679\n",
       "max      90.500000        17.000000           1.000000"
      ]
     },
     "execution_count": 37,
     "metadata": {},
     "output_type": "execute_result"
    }
   ],
   "source": [
    "author_line_lexical.describe()"
   ]
  },
  {
   "cell_type": "code",
   "execution_count": 38,
   "id": "10c91144-69b3-416e-a459-de5d6d9e9109",
   "metadata": {},
   "outputs": [],
   "source": [
    "# author_line_lexical_mode = clean_line_df.drop(['title','line','words'], axis=1).groupby('author').mode()\n",
    "# author_line_lexical_mode.reset_index(inplace=True)\n",
    "# sns.displot(data=author_line_lexical_avg, x='length_in_words',y='lexical_diversity')"
   ]
  },
  {
   "cell_type": "code",
   "execution_count": 39,
   "id": "1298e5c9-dd59-4ff3-994d-b12c1805495a",
   "metadata": {},
   "outputs": [
    {
     "data": {
      "text/html": [
       "<div>\n",
       "<style scoped>\n",
       "    .dataframe tbody tr th:only-of-type {\n",
       "        vertical-align: middle;\n",
       "    }\n",
       "\n",
       "    .dataframe tbody tr th {\n",
       "        vertical-align: top;\n",
       "    }\n",
       "\n",
       "    .dataframe thead th {\n",
       "        text-align: right;\n",
       "    }\n",
       "</style>\n",
       "<table border=\"1\" class=\"dataframe\">\n",
       "  <thead>\n",
       "    <tr style=\"text-align: right;\">\n",
       "      <th></th>\n",
       "      <th>author</th>\n",
       "      <th>title</th>\n",
       "      <th>line</th>\n",
       "      <th>words</th>\n",
       "      <th>line_no</th>\n",
       "      <th>length_in_words</th>\n",
       "      <th>lexical_diversity</th>\n",
       "    </tr>\n",
       "  </thead>\n",
       "  <tbody>\n",
       "    <tr>\n",
       "      <th>1</th>\n",
       "      <td>Hailey Leithauser</td>\n",
       "      <td>0</td>\n",
       "      <td>philosophic</td>\n",
       "      <td>[philosophic]</td>\n",
       "      <td>1</td>\n",
       "      <td>1</td>\n",
       "      <td>1.000</td>\n",
       "    </tr>\n",
       "    <tr>\n",
       "      <th>1</th>\n",
       "      <td>Hailey Leithauser</td>\n",
       "      <td>0</td>\n",
       "      <td>in its complex ovoid emptiness</td>\n",
       "      <td>[in, its, complex, ovoid, emptiness]</td>\n",
       "      <td>2</td>\n",
       "      <td>5</td>\n",
       "      <td>1.000</td>\n",
       "    </tr>\n",
       "    <tr>\n",
       "      <th>1</th>\n",
       "      <td>Hailey Leithauser</td>\n",
       "      <td>0</td>\n",
       "      <td>a skillful pundit coined it as a sort</td>\n",
       "      <td>[a, skillful, pundit, coined, it, as, a, sort]</td>\n",
       "      <td>3</td>\n",
       "      <td>8</td>\n",
       "      <td>0.875</td>\n",
       "    </tr>\n",
       "    <tr>\n",
       "      <th>1</th>\n",
       "      <td>Hailey Leithauser</td>\n",
       "      <td>0</td>\n",
       "      <td>of stopgap doorstop for those</td>\n",
       "      <td>[of, stopgap, doorstop, for, those]</td>\n",
       "      <td>4</td>\n",
       "      <td>5</td>\n",
       "      <td>1.000</td>\n",
       "    </tr>\n",
       "    <tr>\n",
       "      <th>1</th>\n",
       "      <td>Hailey Leithauser</td>\n",
       "      <td>0</td>\n",
       "      <td>quaint equations</td>\n",
       "      <td>[quaint, equations]</td>\n",
       "      <td>5</td>\n",
       "      <td>2</td>\n",
       "      <td>1.000</td>\n",
       "    </tr>\n",
       "  </tbody>\n",
       "</table>\n",
       "</div>"
      ],
      "text/plain": [
       "              author title                                   line  \\\n",
       "1  Hailey Leithauser     0                            philosophic   \n",
       "1  Hailey Leithauser     0         in its complex ovoid emptiness   \n",
       "1  Hailey Leithauser     0  a skillful pundit coined it as a sort   \n",
       "1  Hailey Leithauser     0          of stopgap doorstop for those   \n",
       "1  Hailey Leithauser     0                       quaint equations   \n",
       "\n",
       "                                            words  line_no  length_in_words  \\\n",
       "1                                   [philosophic]        1                1   \n",
       "1            [in, its, complex, ovoid, emptiness]        2                5   \n",
       "1  [a, skillful, pundit, coined, it, as, a, sort]        3                8   \n",
       "1             [of, stopgap, doorstop, for, those]        4                5   \n",
       "1                             [quaint, equations]        5                2   \n",
       "\n",
       "   lexical_diversity  \n",
       "1              1.000  \n",
       "1              1.000  \n",
       "1              0.875  \n",
       "1              1.000  \n",
       "1              1.000  "
      ]
     },
     "execution_count": 39,
     "metadata": {},
     "output_type": "execute_result"
    }
   ],
   "source": [
    "clean_line_df.head()"
   ]
  },
  {
   "cell_type": "code",
   "execution_count": null,
   "id": "f66785aa-32f6-493c-97af-37b00df544a1",
   "metadata": {},
   "outputs": [],
   "source": []
  }
 ],
 "metadata": {
  "kernelspec": {
   "display_name": "Python 3",
   "language": "python",
   "name": "python3"
  },
  "language_info": {
   "codemirror_mode": {
    "name": "ipython",
    "version": 3
   },
   "file_extension": ".py",
   "mimetype": "text/x-python",
   "name": "python",
   "nbconvert_exporter": "python",
   "pygments_lexer": "ipython3",
   "version": "3.8.8"
  }
 },
 "nbformat": 4,
 "nbformat_minor": 5
}
