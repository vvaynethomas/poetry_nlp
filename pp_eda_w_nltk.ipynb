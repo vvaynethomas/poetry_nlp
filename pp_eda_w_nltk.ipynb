{
 "cells": [
  {
   "cell_type": "code",
   "execution_count": 38,
   "id": "45ea39d4-4080-41eb-a0e6-3e9eda83c481",
   "metadata": {},
   "outputs": [],
   "source": [
    "import pandas as pd\n",
    "import numpy as np\n",
    "import nltk\n",
    "from nltk.tokenize import RegexpTokenizer, sent_tokenize, word_tokenize\n",
    "from nltk.corpus import stopwords\n",
    "from nltk.tag import pos_tag, map_tag\n",
    "import matplotlib.pyplot as plt\n",
    "import seaborn as sns\n",
    "import pickle\n",
    "%matplotlib inline"
   ]
  },
  {
   "cell_type": "code",
   "execution_count": 2,
   "id": "a32ed17d-0347-46a4-b98e-18ae89172746",
   "metadata": {},
   "outputs": [
    {
     "name": "stdout",
     "output_type": "stream",
     "text": [
      "<class 'pandas.core.frame.DataFrame'>\n",
      "RangeIndex: 15652 entries, 0 to 15651\n",
      "Data columns (total 5 columns):\n",
      " #   Column                Non-Null Count  Dtype   \n",
      "---  ------                --------------  -----   \n",
      " 0   unnamed: 0            15652 non-null  int64   \n",
      " 1   author                15652 non-null  category\n",
      " 2   title                 15652 non-null  object  \n",
      " 3   poetry foundation id  15652 non-null  int64   \n",
      " 4   content               15652 non-null  object  \n",
      "dtypes: category(1), int64(2), object(2)\n",
      "memory usage: 674.7+ KB\n",
      "<class 'pandas.core.frame.DataFrame'>\n",
      "RangeIndex: 15652 entries, 0 to 15651\n",
      "Data columns (total 3 columns):\n",
      " #   Column   Non-Null Count  Dtype   \n",
      "---  ------   --------------  -----   \n",
      " 0   author   15652 non-null  category\n",
      " 1   title    15652 non-null  object  \n",
      " 2   content  15652 non-null  object  \n",
      "dtypes: category(1), object(2)\n",
      "memory usage: 430.2+ KB\n"
     ]
    }
   ],
   "source": [
    "pf_df = pd.read_csv('kaggle_poem_dataset.csv')\n",
    "pf_df['Author'] = pf_df.Author.astype('category')\n",
    "pf_df.columns = [name.lower() for name in pf_df.columns]\n",
    "pf_df.info()\n",
    "pf_df = pf_df.drop(['unnamed: 0', 'poetry foundation id'], axis=1)\n",
    "pf_df.info()"
   ]
  },
  {
   "cell_type": "code",
   "execution_count": 3,
   "id": "0077e769-8d54-43ce-a8a1-2edaa9e24696",
   "metadata": {},
   "outputs": [],
   "source": [
    "# create function to clean lines\n",
    "import string, re\n",
    "from nltk.corpus import words\n",
    "import multiprocessing as mp\n",
    "def clean_text(text):\n",
    "    text = text.lower()\n",
    "    text = text.replace('\\%','')\n",
    "    text = re.sub('\\[.*?\\]', '', text)\n",
    "    text = re.sub('https?://\\S+|www\\.\\S+', '', text)\n",
    "    text = re.sub('<.*?>+', '', text)\n",
    "    text = re.sub('[%s]' % re.escape(string.punctuation), '', text)\n",
    "    text = re.sub('\\n', ' ', text)\n",
    "    text = re.sub('\\w*\\d\\w*', '', text)\n",
    "    text = \" \".join(filter(lambda x:x[0]!=\"@\", text.split()))\n",
    "    return text\n",
    "\n",
    "def clean_list(list_of_strings):\n",
    "    return [clean_text(string) for string in list_of_strings]"
   ]
  },
  {
   "cell_type": "code",
   "execution_count": 4,
   "id": "da91d8c0-e252-4238-979f-57cadba314fb",
   "metadata": {},
   "outputs": [
    {
     "name": "stdout",
     "output_type": "stream",
     "text": [
      "author                                        Wendy Videlock\n",
      "title                                                      !\n",
      "content    Dear Writers, I’m compiling the first in what ...\n",
      "line       [dear writers i’m compiling the first in what ...\n",
      "Name: 0, dtype: object\n"
     ]
    }
   ],
   "source": [
    "# create column to store document as list of lines\n",
    "pf_df['line'] = pf_df.content.str.split('\\n')\n",
    "pf_df['line'] = pf_df.line.map(clean_list)\n",
    "print(pf_df.iloc[0])"
   ]
  },
  {
   "cell_type": "code",
   "execution_count": 5,
   "id": "454aa542-89ef-4caf-9c82-b545553d8ede",
   "metadata": {},
   "outputs": [
    {
     "name": "stdout",
     "output_type": "stream",
     "text": [
      "author                                        Wendy Videlock\n",
      "title                                                      !\n",
      "content    Dear Writers, I’m compiling the first in what ...\n",
      "line       [dear writers i’m compiling the first in what ...\n",
      "Name: 0, dtype: object\n"
     ]
    }
   ],
   "source": [
    "# construct function to remove empty lines for accurate line count\n",
    "def remove_empty_lines(list_of_lines):\n",
    "    try:\n",
    "        return [i for i in list_of_lines if i]\n",
    "    except TypeError:\n",
    "        return pd.NA\n",
    "    \n",
    "pf_df['line'] = pf_df.line.map(remove_empty_lines)\n",
    "print(pf_df.iloc[0])"
   ]
  },
  {
   "cell_type": "code",
   "execution_count": 6,
   "id": "a604dd98-0604-46c5-a99b-356399bf4367",
   "metadata": {},
   "outputs": [
    {
     "name": "stdout",
     "output_type": "stream",
     "text": [
      "<class 'pandas.core.frame.DataFrame'>\n",
      "RangeIndex: 15652 entries, 0 to 15651\n",
      "Data columns (total 5 columns):\n",
      " #   Column           Non-Null Count  Dtype   \n",
      "---  ------           --------------  -----   \n",
      " 0   author           15652 non-null  category\n",
      " 1   title            15652 non-null  object  \n",
      " 2   content          15652 non-null  object  \n",
      " 3   line             15652 non-null  object  \n",
      " 4   length_in_lines  15652 non-null  int64   \n",
      "dtypes: category(1), int64(1), object(3)\n",
      "memory usage: 674.7+ KB\n"
     ]
    }
   ],
   "source": [
    "# create column for length of poem in lines\n",
    "pf_df['length_in_lines'] = pf_df.line.map(len)\n",
    "pf_df.info()"
   ]
  },
  {
   "cell_type": "code",
   "execution_count": 7,
   "id": "db179295-3503-4ffa-a100-c77da7ff24d5",
   "metadata": {},
   "outputs": [
    {
     "data": {
      "text/plain": [
       "<seaborn.axisgrid.FacetGrid at 0x2bd82aceac0>"
      ]
     },
     "execution_count": 7,
     "metadata": {},
     "output_type": "execute_result"
    },
    {
     "data": {
      "image/png": "[encoded data removed]",
      "text/plain": [
       "<Figure size 360x360 with 1 Axes>"
      ]
     },
     "metadata": {
      "needs_background": "light"
     },
     "output_type": "display_data"
    }
   ],
   "source": [
    "sns.displot(pf_df.length_in_lines)"
   ]
  },
  {
   "cell_type": "code",
   "execution_count": 8,
   "id": "9f99f54b-4d9a-4ba6-b1d6-818499aa5c1a",
   "metadata": {},
   "outputs": [],
   "source": [
    "# filtering outliers with zscore\n",
    "from scipy import stats\n",
    "clean_df = pf_df[(np.abs(stats.zscore(pf_df.length_in_lines)) < 2.5)]"
   ]
  },
  {
   "cell_type": "code",
   "execution_count": 9,
   "id": "12ba4d5d-c6f9-48fa-951d-40ad71624897",
   "metadata": {},
   "outputs": [],
   "source": [
    "# filter sub-haiku length works\n",
    "clean_df = clean_df[clean_df.length_in_lines > 2]"
   ]
  },
  {
   "cell_type": "code",
   "execution_count": 10,
   "id": "f1d8b40d-b90d-4cde-9ed2-35ee5eac2f08",
   "metadata": {},
   "outputs": [
    {
     "data": {
      "text/plain": [
       "<seaborn.axisgrid.FacetGrid at 0x2bd85ae0fd0>"
      ]
     },
     "execution_count": 10,
     "metadata": {},
     "output_type": "execute_result"
    },
    {
     "data": {
      "image/png": "[encoded data removed]",
      "text/plain": [
       "<Figure size 360x360 with 1 Axes>"
      ]
     },
     "metadata": {
      "needs_background": "light"
     },
     "output_type": "display_data"
    }
   ],
   "source": [
    "sns.displot(clean_df.length_in_lines, kde=True)"
   ]
  },
  {
   "cell_type": "code",
   "execution_count": 11,
   "id": "0ff434b9-7c33-4011-bd96-67ba61928f9b",
   "metadata": {},
   "outputs": [],
   "source": [
    "def lexical_diversity(line_list):\n",
    "    doc_string = ' '.join(line_list)\n",
    "    words = word_tokenize(doc_string)\n",
    "    return (len(set(words))/len(words))\n",
    "        \n",
    "clean_df['lexical_diversity'] = clean_df.line.map(lexical_diversity)"
   ]
  },
  {
   "cell_type": "code",
   "execution_count": 39,
   "id": "2bd89af6-54d5-491f-91d5-fb1c59c3435a",
   "metadata": {},
   "outputs": [],
   "source": [
    "clean_df.head()\n",
    "with open('clean_df.pkl', 'wb') as f:\n",
    "    pickle.dump(clean_df, f)"
   ]
  },
  {
   "cell_type": "code",
   "execution_count": 13,
   "id": "24c678d4-0100-4759-a1c2-44227ee2dfa1",
   "metadata": {},
   "outputs": [
    {
     "data": {
      "text/plain": [
       "<seaborn.axisgrid.FacetGrid at 0x2bd859b8bb0>"
      ]
     },
     "execution_count": 13,
     "metadata": {},
     "output_type": "execute_result"
    },
    {
     "data": {
      "image/png": "[encoded data removed]",
      "text/plain": [
       "<Figure size 360x360 with 1 Axes>"
      ]
     },
     "metadata": {
      "needs_background": "light"
     },
     "output_type": "display_data"
    }
   ],
   "source": [
    "sns.displot(clean_df.lexical_diversity, kde=True)"
   ]
  },
  {
   "cell_type": "code",
   "execution_count": 14,
   "id": "1a0b822e-b7d6-4778-87de-64911ed34804",
   "metadata": {},
   "outputs": [],
   "source": [
    "# sample 3 lines from each poem\n",
    "# import random\n",
    "# clean_df.line.describe()\n",
    "# docs_in_lines = clean_df.line.to_list()\n",
    "# line_samples = [random.sample(lines,3) for lines in docs_in_lines]"
   ]
  },
  {
   "cell_type": "code",
   "execution_count": 15,
   "id": "f02199da-a0ee-4b9b-99e4-7c3852693d28",
   "metadata": {},
   "outputs": [],
   "source": [
    "line_df = clean_df.explode('line').drop(['length_in_lines', 'content','lexical_diversity'],axis=1)"
   ]
  },
  {
   "cell_type": "code",
   "execution_count": 16,
   "id": "79da3079-33b3-4195-9e36-b123d55db688",
   "metadata": {},
   "outputs": [
    {
     "name": "stdout",
     "output_type": "stream",
     "text": [
      "<class 'pandas.core.frame.DataFrame'>\n",
      "Int64Index: 488333 entries, 1 to 15651\n",
      "Data columns (total 3 columns):\n",
      " #   Column  Non-Null Count   Dtype   \n",
      "---  ------  --------------   -----   \n",
      " 0   author  488333 non-null  category\n",
      " 1   title   488333 non-null  object  \n",
      " 2   line    488333 non-null  object  \n",
      "dtypes: category(1), object(2)\n",
      "memory usage: 12.3+ MB\n"
     ]
    }
   ],
   "source": [
    "line_df.info()"
   ]
  },
  {
   "cell_type": "code",
   "execution_count": 18,
   "id": "83b4086d-0f66-42cf-aa5b-9ab9fec69ef0",
   "metadata": {},
   "outputs": [
    {
     "data": {
      "text/html": [
       "<div>\n",
       "<style scoped>\n",
       "    .dataframe tbody tr th:only-of-type {\n",
       "        vertical-align: middle;\n",
       "    }\n",
       "\n",
       "    .dataframe tbody tr th {\n",
       "        vertical-align: top;\n",
       "    }\n",
       "\n",
       "    .dataframe thead th {\n",
       "        text-align: right;\n",
       "    }\n",
       "</style>\n",
       "<table border=\"1\" class=\"dataframe\">\n",
       "  <thead>\n",
       "    <tr style=\"text-align: right;\">\n",
       "      <th></th>\n",
       "      <th>author</th>\n",
       "      <th>title</th>\n",
       "      <th>line</th>\n",
       "      <th>words</th>\n",
       "    </tr>\n",
       "  </thead>\n",
       "  <tbody>\n",
       "    <tr>\n",
       "      <th>1</th>\n",
       "      <td>Hailey Leithauser</td>\n",
       "      <td>0</td>\n",
       "      <td>philosophic</td>\n",
       "      <td>[philosophic]</td>\n",
       "    </tr>\n",
       "    <tr>\n",
       "      <th>1</th>\n",
       "      <td>Hailey Leithauser</td>\n",
       "      <td>0</td>\n",
       "      <td>in its complex ovoid emptiness</td>\n",
       "      <td>[in, its, complex, ovoid, emptiness]</td>\n",
       "    </tr>\n",
       "    <tr>\n",
       "      <th>1</th>\n",
       "      <td>Hailey Leithauser</td>\n",
       "      <td>0</td>\n",
       "      <td>a skillful pundit coined it as a sort</td>\n",
       "      <td>[a, skillful, pundit, coined, it, as, a, sort]</td>\n",
       "    </tr>\n",
       "    <tr>\n",
       "      <th>1</th>\n",
       "      <td>Hailey Leithauser</td>\n",
       "      <td>0</td>\n",
       "      <td>of stopgap doorstop for those</td>\n",
       "      <td>[of, stopgap, doorstop, for, those]</td>\n",
       "    </tr>\n",
       "    <tr>\n",
       "      <th>1</th>\n",
       "      <td>Hailey Leithauser</td>\n",
       "      <td>0</td>\n",
       "      <td>quaint equations</td>\n",
       "      <td>[quaint, equations]</td>\n",
       "    </tr>\n",
       "  </tbody>\n",
       "</table>\n",
       "</div>"
      ],
      "text/plain": [
       "              author title                                   line  \\\n",
       "1  Hailey Leithauser     0                            philosophic   \n",
       "1  Hailey Leithauser     0         in its complex ovoid emptiness   \n",
       "1  Hailey Leithauser     0  a skillful pundit coined it as a sort   \n",
       "1  Hailey Leithauser     0          of stopgap doorstop for those   \n",
       "1  Hailey Leithauser     0                       quaint equations   \n",
       "\n",
       "                                            words  \n",
       "1                                   [philosophic]  \n",
       "1            [in, its, complex, ovoid, emptiness]  \n",
       "1  [a, skillful, pundit, coined, it, as, a, sort]  \n",
       "1             [of, stopgap, doorstop, for, those]  \n",
       "1                             [quaint, equations]  "
      ]
     },
     "execution_count": 18,
     "metadata": {},
     "output_type": "execute_result"
    }
   ],
   "source": [
    "line_df['words'] = line_df.line.map(word_tokenize)\n",
    "line_df.head()"
   ]
  },
  {
   "cell_type": "code",
   "execution_count": 19,
   "id": "9a64053a-567b-438d-b5c8-4861c97cb420",
   "metadata": {},
   "outputs": [],
   "source": [
    "line_df['length_in_words'] = line_df.words.map(len)"
   ]
  },
  {
   "cell_type": "code",
   "execution_count": 20,
   "id": "78a6b9a5-e73c-4528-be9c-8b9545f7d111",
   "metadata": {},
   "outputs": [
    {
     "data": {
      "text/html": [
       "<div>\n",
       "<style scoped>\n",
       "    .dataframe tbody tr th:only-of-type {\n",
       "        vertical-align: middle;\n",
       "    }\n",
       "\n",
       "    .dataframe tbody tr th {\n",
       "        vertical-align: top;\n",
       "    }\n",
       "\n",
       "    .dataframe thead th {\n",
       "        text-align: right;\n",
       "    }\n",
       "</style>\n",
       "<table border=\"1\" class=\"dataframe\">\n",
       "  <thead>\n",
       "    <tr style=\"text-align: right;\">\n",
       "      <th></th>\n",
       "      <th>length_in_words</th>\n",
       "    </tr>\n",
       "  </thead>\n",
       "  <tbody>\n",
       "    <tr>\n",
       "      <th>count</th>\n",
       "      <td>488333.000000</td>\n",
       "    </tr>\n",
       "    <tr>\n",
       "      <th>mean</th>\n",
       "      <td>7.025565</td>\n",
       "    </tr>\n",
       "    <tr>\n",
       "      <th>std</th>\n",
       "      <td>5.874501</td>\n",
       "    </tr>\n",
       "    <tr>\n",
       "      <th>min</th>\n",
       "      <td>1.000000</td>\n",
       "    </tr>\n",
       "    <tr>\n",
       "      <th>25%</th>\n",
       "      <td>5.000000</td>\n",
       "    </tr>\n",
       "    <tr>\n",
       "      <th>50%</th>\n",
       "      <td>7.000000</td>\n",
       "    </tr>\n",
       "    <tr>\n",
       "      <th>75%</th>\n",
       "      <td>9.000000</td>\n",
       "    </tr>\n",
       "    <tr>\n",
       "      <th>max</th>\n",
       "      <td>636.000000</td>\n",
       "    </tr>\n",
       "  </tbody>\n",
       "</table>\n",
       "</div>"
      ],
      "text/plain": [
       "       length_in_words\n",
       "count    488333.000000\n",
       "mean          7.025565\n",
       "std           5.874501\n",
       "min           1.000000\n",
       "25%           5.000000\n",
       "50%           7.000000\n",
       "75%           9.000000\n",
       "max         636.000000"
      ]
     },
     "execution_count": 20,
     "metadata": {},
     "output_type": "execute_result"
    }
   ],
   "source": [
    "line_df.describe()"
   ]
  },
  {
   "cell_type": "code",
   "execution_count": 21,
   "id": "7f69ce3c-9ce0-4dc5-826b-f237304f713b",
   "metadata": {},
   "outputs": [
    {
     "data": {
      "text/plain": [
       "<seaborn.axisgrid.FacetGrid at 0x2bd863bfdf0>"
      ]
     },
     "execution_count": 21,
     "metadata": {},
     "output_type": "execute_result"
    },
    {
     "data": {
      "image/png": "[encoded data removed]",
      "text/plain": [
       "<Figure size 360x360 with 1 Axes>"
      ]
     },
     "metadata": {
      "needs_background": "light"
     },
     "output_type": "display_data"
    }
   ],
   "source": [
    "x = line_df.length_in_words\n",
    "sns.displot(x, kde=True)"
   ]
  },
  {
   "cell_type": "code",
   "execution_count": 22,
   "id": "c67e0a87-530b-4d9c-a073-4aaa4c8f4684",
   "metadata": {},
   "outputs": [],
   "source": [
    "# filtering outliers with zscore\n",
    "from scipy import stats\n",
    "clean_line_df = line_df[(np.abs(stats.zscore(line_df.length_in_words)) < 2.5)]"
   ]
  },
  {
   "cell_type": "code",
   "execution_count": 23,
   "id": "eac5f5bf-5210-4bd1-9559-d54b5e990e49",
   "metadata": {},
   "outputs": [
    {
     "data": {
      "text/plain": [
       "<seaborn.axisgrid.FacetGrid at 0x2bd9e765d00>"
      ]
     },
     "execution_count": 23,
     "metadata": {},
     "output_type": "execute_result"
    },
    {
     "data": {
      "image/png": "[encoded data removed]",
      "text/plain": [
       "<Figure size 360x360 with 1 Axes>"
      ]
     },
     "metadata": {
      "needs_background": "light"
     },
     "output_type": "display_data"
    }
   ],
   "source": [
    "# fig, ax = plt.subplots()\n",
    "x = clean_line_df.length_in_words\n",
    "sns.displot(x, kde=True)\n",
    "# plt.tight_layout()"
   ]
  },
  {
   "cell_type": "code",
   "execution_count": 24,
   "id": "c3e56e7b-10e3-460b-ae97-220f4e18e5f2",
   "metadata": {},
   "outputs": [
    {
     "name": "stdout",
     "output_type": "stream",
     "text": [
      "<class 'pandas.core.frame.DataFrame'>\n",
      "Int64Index: 488333 entries, 1 to 15651\n",
      "Data columns (total 5 columns):\n",
      " #   Column           Non-Null Count   Dtype   \n",
      "---  ------           --------------   -----   \n",
      " 0   author           488333 non-null  category\n",
      " 1   title            488333 non-null  object  \n",
      " 2   line             488333 non-null  object  \n",
      " 3   words            488333 non-null  object  \n",
      " 4   length_in_words  488333 non-null  int64   \n",
      "dtypes: category(1), int64(1), object(3)\n",
      "memory usage: 19.7+ MB\n"
     ]
    }
   ],
   "source": [
    "line_df.info()"
   ]
  },
  {
   "cell_type": "code",
   "execution_count": 25,
   "id": "fc92192c-ff1f-4e89-8609-59df099559a9",
   "metadata": {},
   "outputs": [
    {
     "name": "stdout",
     "output_type": "stream",
     "text": [
      "<class 'pandas.core.frame.DataFrame'>\n",
      "Int64Index: 485604 entries, 1 to 15651\n",
      "Data columns (total 5 columns):\n",
      " #   Column           Non-Null Count   Dtype   \n",
      "---  ------           --------------   -----   \n",
      " 0   author           485604 non-null  category\n",
      " 1   title            485604 non-null  object  \n",
      " 2   line             485604 non-null  object  \n",
      " 3   words            485604 non-null  object  \n",
      " 4   length_in_words  485604 non-null  int64   \n",
      "dtypes: category(1), int64(1), object(3)\n",
      "memory usage: 19.6+ MB\n"
     ]
    }
   ],
   "source": [
    "clean_line_df.info()"
   ]
  },
  {
   "cell_type": "code",
   "execution_count": 26,
   "id": "3f6a7596-db38-4003-9ca9-038b2f5924ad",
   "metadata": {},
   "outputs": [
    {
     "name": "stderr",
     "output_type": "stream",
     "text": [
      "<ipython-input-26-5b05ab53e382>:1: SettingWithCopyWarning: \n",
      "A value is trying to be set on a copy of a slice from a DataFrame.\n",
      "Try using .loc[row_indexer,col_indexer] = value instead\n",
      "\n",
      "See the caveats in the documentation: https://pandas.pydata.org/pandas-docs/stable/user_guide/indexing.html#returning-a-view-versus-a-copy\n",
      "  clean_line_df['lexical_diversity'] = clean_line_df.words.map(lexical_diversity)\n"
     ]
    }
   ],
   "source": [
    "clean_line_df['lexical_diversity'] = clean_line_df.words.map(lexical_diversity)"
   ]
  },
  {
   "cell_type": "code",
   "execution_count": 40,
   "id": "a5856146-c98c-49fb-8b09-72762a3f8878",
   "metadata": {},
   "outputs": [],
   "source": [
    "clean_line_df.head()\n",
    "with open('clean_line_df.pkl', 'wb') as f:\n",
    "    pickle.dump(clean_line_df, f)"
   ]
  },
  {
   "cell_type": "code",
   "execution_count": 28,
   "id": "471c77dd-5598-4257-b11c-413e7338d14b",
   "metadata": {},
   "outputs": [
    {
     "data": {
      "text/plain": [
       "<seaborn.axisgrid.FacetGrid at 0x2bda0872d60>"
      ]
     },
     "execution_count": 28,
     "metadata": {},
     "output_type": "execute_result"
    },
    {
     "data": {
      "image/png": "[encoded data removed]",
      "text/plain": [
       "<Figure size 360x360 with 1 Axes>"
      ]
     },
     "metadata": {
      "needs_background": "light"
     },
     "output_type": "display_data"
    }
   ],
   "source": [
    "sns.displot(clean_line_df.lexical_diversity, kde=True)"
   ]
  },
  {
   "cell_type": "code",
   "execution_count": 29,
   "id": "eadc3a38-6100-419b-8cbb-1c7822a2f6d2",
   "metadata": {},
   "outputs": [],
   "source": [
    "author_line_lexical = clean_line_df.drop(['title','line','words'], axis=1).groupby('author').mean()"
   ]
  },
  {
   "cell_type": "code",
   "execution_count": 30,
   "id": "dfa7b121-ffdc-433f-a520-e314d9d7ce80",
   "metadata": {},
   "outputs": [
    {
     "data": {
      "text/plain": [
       "<seaborn.axisgrid.FacetGrid at 0x2bda8e25c40>"
      ]
     },
     "execution_count": 30,
     "metadata": {},
     "output_type": "execute_result"
    },
    {
     "data": {
      "image/png": "[encoded data removed]",
      "text/plain": [
       "<Figure size 360x360 with 1 Axes>"
      ]
     },
     "metadata": {
      "needs_background": "light"
     },
     "output_type": "display_data"
    }
   ],
   "source": [
    "author_line_lexical.reset_index(inplace=True)\n",
    "sns.displot(data=author_line_lexical, x='length_in_words',y='lexical_diversity')"
   ]
  },
  {
   "cell_type": "code",
   "execution_count": 31,
   "id": "e31aaed9-9aab-4955-98c7-d375f4d259f3",
   "metadata": {},
   "outputs": [
    {
     "data": {
      "text/html": [
       "<div>\n",
       "<style scoped>\n",
       "    .dataframe tbody tr th:only-of-type {\n",
       "        vertical-align: middle;\n",
       "    }\n",
       "\n",
       "    .dataframe tbody tr th {\n",
       "        vertical-align: top;\n",
       "    }\n",
       "\n",
       "    .dataframe thead th {\n",
       "        text-align: right;\n",
       "    }\n",
       "</style>\n",
       "<table border=\"1\" class=\"dataframe\">\n",
       "  <thead>\n",
       "    <tr style=\"text-align: right;\">\n",
       "      <th></th>\n",
       "      <th>length_in_words</th>\n",
       "      <th>lexical_diversity</th>\n",
       "    </tr>\n",
       "  </thead>\n",
       "  <tbody>\n",
       "    <tr>\n",
       "      <th>count</th>\n",
       "      <td>3249.000000</td>\n",
       "      <td>3249.000000</td>\n",
       "    </tr>\n",
       "    <tr>\n",
       "      <th>mean</th>\n",
       "      <td>6.880859</td>\n",
       "      <td>0.972169</td>\n",
       "    </tr>\n",
       "    <tr>\n",
       "      <th>std</th>\n",
       "      <td>1.864858</td>\n",
       "      <td>0.020988</td>\n",
       "    </tr>\n",
       "    <tr>\n",
       "      <th>min</th>\n",
       "      <td>1.000000</td>\n",
       "      <td>0.708333</td>\n",
       "    </tr>\n",
       "    <tr>\n",
       "      <th>25%</th>\n",
       "      <td>5.741294</td>\n",
       "      <td>0.963586</td>\n",
       "    </tr>\n",
       "    <tr>\n",
       "      <th>50%</th>\n",
       "      <td>6.795872</td>\n",
       "      <td>0.975167</td>\n",
       "    </tr>\n",
       "    <tr>\n",
       "      <th>75%</th>\n",
       "      <td>7.901408</td>\n",
       "      <td>0.985061</td>\n",
       "    </tr>\n",
       "    <tr>\n",
       "      <th>max</th>\n",
       "      <td>19.000000</td>\n",
       "      <td>1.000000</td>\n",
       "    </tr>\n",
       "  </tbody>\n",
       "</table>\n",
       "</div>"
      ],
      "text/plain": [
       "       length_in_words  lexical_diversity\n",
       "count      3249.000000        3249.000000\n",
       "mean          6.880859           0.972169\n",
       "std           1.864858           0.020988\n",
       "min           1.000000           0.708333\n",
       "25%           5.741294           0.963586\n",
       "50%           6.795872           0.975167\n",
       "75%           7.901408           0.985061\n",
       "max          19.000000           1.000000"
      ]
     },
     "execution_count": 31,
     "metadata": {},
     "output_type": "execute_result"
    }
   ],
   "source": [
    "author_line_lexical.describe()"
   ]
  },
  {
   "cell_type": "code",
   "execution_count": 32,
   "id": "10c91144-69b3-416e-a459-de5d6d9e9109",
   "metadata": {},
   "outputs": [],
   "source": [
    "# author_line_lexical_mode = clean_line_df.drop(['title','line','words'], axis=1).groupby('author').mode()\n",
    "# author_line_lexical_mode.reset_index(inplace=True)\n",
    "# sns.displot(data=author_line_lexical_avg, x='length_in_words',y='lexical_diversity')"
   ]
  },
  {
   "cell_type": "code",
   "execution_count": null,
   "id": "1298e5c9-dd59-4ff3-994d-b12c1805495a",
   "metadata": {},
   "outputs": [],
   "source": []
  },
  {
   "cell_type": "code",
   "execution_count": null,
   "id": "f66785aa-32f6-493c-97af-37b00df544a1",
   "metadata": {},
   "outputs": [],
   "source": []
  }
 ],
 "metadata": {
  "kernelspec": {
   "display_name": "Python 3",
   "language": "python",
   "name": "python3"
  },
  "language_info": {
   "codemirror_mode": {
    "name": "ipython",
    "version": 3
   },
   "file_extension": ".py",
   "mimetype": "text/x-python",
   "name": "python",
   "nbconvert_exporter": "python",
   "pygments_lexer": "ipython3",
   "version": "3.8.8"
  }
 },
 "nbformat": 4,
 "nbformat_minor": 5
}
