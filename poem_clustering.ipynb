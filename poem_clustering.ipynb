{
 "cells": [
  {
   "cell_type": "code",
   "execution_count": 1,
   "id": "c2dc5f16-6940-416e-89ad-ad6609cee024",
   "metadata": {},
   "outputs": [],
   "source": [
    "import pickle\n",
    "import pandas as pd\n",
    "import numpy\n",
    "import re\n",
    "import os\n",
    "import numpy as np\n",
    "import gensim\n",
    "import matplotlib\n",
    "import matplotlib.pyplot as plt\n",
    "import seaborn as sns\n",
    "import sklearn\n",
    "%matplotlib inline\n",
    "from sklearn.cluster import KMeans\n",
    "from sklearn.decomposition import PCA"
   ]
  },
  {
   "cell_type": "code",
   "execution_count": 2,
   "id": "47b6ed8f-700d-41b7-b471-9eecd159e8c1",
   "metadata": {},
   "outputs": [],
   "source": [
    "# get pickled doc2vec model\n",
    "with open('clean_df.pkl', 'rb') as f:\n",
    "    clean_poem_df = pickle.load(f)\n",
    "    \n",
    "with open('poem_doc2vec_dbow2000.pkl', 'rb') as d:\n",
    "    doc2vec_model = pickle.load(d)"
   ]
  },
  {
   "cell_type": "code",
   "execution_count": 3,
   "id": "6019733e-8a97-4e36-a206-c16e680b33a1",
   "metadata": {},
   "outputs": [
    {
     "name": "stdout",
     "output_type": "stream",
     "text": [
      "<class 'pandas.core.frame.DataFrame'>\n",
      "Int64Index: 15157 entries, 1 to 15651\n",
      "Data columns (total 6 columns):\n",
      " #   Column             Non-Null Count  Dtype   \n",
      "---  ------             --------------  -----   \n",
      " 0   author             15157 non-null  category\n",
      " 1   title              15157 non-null  object  \n",
      " 2   content            15157 non-null  object  \n",
      " 3   line               15157 non-null  object  \n",
      " 4   length_in_lines    15157 non-null  int64   \n",
      " 5   lexical_diversity  15157 non-null  float64 \n",
      "dtypes: category(1), float64(1), int64(1), object(3)\n",
      "memory usage: 765.9+ KB\n"
     ]
    }
   ],
   "source": [
    "clean_poem_df.info()"
   ]
  },
  {
   "cell_type": "code",
   "execution_count": 5,
   "id": "b503e46b-def5-4bfe-b9a6-fcacf55988dc",
   "metadata": {},
   "outputs": [
    {
     "name": "stdout",
     "output_type": "stream",
     "text": [
      "<class 'gensim.models.keyedvectors.Doc2VecKeyedVectors'>\n"
     ]
    }
   ],
   "source": [
    "# store vectors for convenience\n",
    "X = \n",
    "print(type(X))\n",
    "print(help())"
   ]
  },
  {
   "cell_type": "code",
   "execution_count": null,
   "id": "f937f226-b03f-4c0e-b298-338687febdb5",
   "metadata": {},
   "outputs": [],
   "source": [
    "print(type(X), X.shape)"
   ]
  },
  {
   "cell_type": "code",
   "execution_count": null,
   "id": "36812939-372e-4be5-9a33-13be3d8a951e",
   "metadata": {},
   "outputs": [],
   "source": [
    "# perform PCA and output components\n",
    "# pca = PCA(n_components = 0.99)\n",
    "# pca.fit(scaled_features)\n",
    "# reduced = pca.transform(scaled_features)"
   ]
  },
  {
   "cell_type": "code",
   "execution_count": null,
   "id": "42605c0c-acbc-49a9-a23a-879dc5e1208b",
   "metadata": {},
   "outputs": [],
   "source": [
    "# determine best number of clusters for KMeans Clustering\n",
    "from sklearn.cluster import KMeans\n",
    "error = []\n",
    "num_cluster_range = range(1,20)\n",
    "for num_cluster in num_cluster_range:\n",
    "    k_mean_model = KMeans(n_clusters=num_cluster, init = 'k-means++', n_init = 2000, max_iter = 6000)\n",
    "    k_mean_model.fit(X)\n",
    "    error.append(k_mean_model.inertia_)\n",
    "plt.figure(figsize=(16,8))\n",
    "plt.plot(num_cluster_range, error, 'bx-')\n",
    "plt.xlabel('number of clusters')\n",
    "plt.ylabel('error')\n",
    "plt.title('Scree Plot')\n",
    "plt.show()"
   ]
  },
  {
   "cell_type": "code",
   "execution_count": null,
   "id": "e6b01233-35ca-4fe0-b003-dcb798081f4b",
   "metadata": {
    "scrolled": true,
    "tags": []
   },
   "outputs": [],
   "source": [
    "# from https://scikit-learn.org/stable/auto_examples/cluster/plot_kmeans_silhouette_analysis.html\n",
    "from sklearn.metrics import silhouette_samples, silhouette_score\n",
    "import matplotlib.cm as cm\n",
    "\n",
    "y = clean_poem_df.author\n",
    "range_n_clusters = range(2,15)\n",
    "\n",
    "for n_clusters in range_n_clusters:\n",
    "    # Create a subplot with 1 row and 2 columns\n",
    "    fig, (ax1, ax2) = plt.subplots(1, 2)\n",
    "    fig.set_size_inches(18, 7)\n",
    "\n",
    "    # The 1st subplot is the silhouette plot\n",
    "    # The silhouette coefficient can range from -1, 1 but in this example all\n",
    "    # lie within [-0.1, 1]\n",
    "    ax1.set_xlim([-0.1, 1])\n",
    "    # The (n_clusters+1)*10 is for inserting blank space between silhouette\n",
    "    # plots of individual clusters, to demarcate them clearly.\n",
    "    ax1.set_ylim([0, len(X) + (n_clusters + 1) * 10])\n",
    "\n",
    "    # Initialize the clusterer with n_clusters value and a random generator\n",
    "    # seed of 10 for reproducibility.\n",
    "    clusterer = KMeans(n_clusters=n_clusters, random_state=10)\n",
    "    cluster_labels = clusterer.fit_predict(X)\n",
    "\n",
    "    # The silhouette_score gives the average value for all the samples.\n",
    "    # This gives a perspective into the density and separation of the formed\n",
    "    # clusters\n",
    "    silhouette_avg = silhouette_score(X, cluster_labels)\n",
    "    print(\"For n_clusters =\", n_clusters,\n",
    "          \"The average silhouette_score is :\", silhouette_avg)\n",
    "\n",
    "    # Compute the silhouette scores for each sample\n",
    "    sample_silhouette_values = silhouette_samples(X, cluster_labels)\n",
    "\n",
    "    y_lower = 10\n",
    "    for i in range(n_clusters):\n",
    "        # Aggregate the silhouette scores for samples belonging to\n",
    "        # cluster i, and sort them\n",
    "        ith_cluster_silhouette_values = \\\n",
    "            sample_silhouette_values[cluster_labels == i]\n",
    "\n",
    "        ith_cluster_silhouette_values.sort()\n",
    "\n",
    "        size_cluster_i = ith_cluster_silhouette_values.shape[0]\n",
    "        y_upper = y_lower + size_cluster_i\n",
    "\n",
    "        color = cm.nipy_spectral(float(i) / n_clusters)\n",
    "        ax1.fill_betweenx(np.arange(y_lower, y_upper),\n",
    "                          0, ith_cluster_silhouette_values,\n",
    "                          facecolor=color, edgecolor=color, alpha=0.7)\n",
    "\n",
    "        # Label the silhouette plots with their cluster numbers at the middle\n",
    "        ax1.text(-0.05, y_lower + 0.5 * size_cluster_i, str(i))\n",
    "\n",
    "        # Compute the new y_lower for next plot\n",
    "        y_lower = y_upper + 10  # 10 for the 0 samples\n",
    "\n",
    "    ax1.set_title(\"The silhouette plot for the various clusters.\")\n",
    "    ax1.set_xlabel(\"The silhouette coefficient values\")\n",
    "    ax1.set_ylabel(\"Cluster label\")\n",
    "\n",
    "    # The vertical line for average silhouette score of all the values\n",
    "    ax1.axvline(x=silhouette_avg, color=\"red\", linestyle=\"--\")\n",
    "\n",
    "    ax1.set_yticks([])  # Clear the yaxis labels / ticks\n",
    "    ax1.set_xticks([-0.1, 0, 0.2, 0.4, 0.6, 0.8, 1])\n",
    "\n",
    "    # 2nd Plot showing the actual clusters formed\n",
    "    colors = cm.nipy_spectral(cluster_labels.astype(float) / n_clusters)\n",
    "    ax2.scatter(X[:, 0], X[:, 1], marker='.', s=30, lw=0, alpha=0.7,\n",
    "                c=colors, edgecolor='k')\n",
    "\n",
    "    # Labeling the clusters\n",
    "    centers = clusterer.cluster_centers_\n",
    "    # Draw white circles at cluster centers\n",
    "    ax2.scatter(centers[:, 0], centers[:, 1], marker='o',\n",
    "                c=\"white\", alpha=1, s=200, edgecolor='k')\n",
    "\n",
    "    for i, c in enumerate(centers):\n",
    "        ax2.scatter(c[0], c[1], marker='$%d$' % i, alpha=1,\n",
    "                    s=50, edgecolor='k')\n",
    "\n",
    "    ax2.set_title(\"The visualization of the clustered data.\")\n",
    "    ax2.set_xlabel(\"Feature space for the 1st feature\")\n",
    "    ax2.set_ylabel(\"Feature space for the 2nd feature\")\n",
    "\n",
    "    plt.suptitle((\"Silhouette analysis for KMeans clustering on sample data \"\n",
    "                  \"with n_clusters = %d\" % n_clusters),\n",
    "                 fontsize=14, fontweight='bold')\n",
    "\n",
    "plt.show()"
   ]
  },
  {
   "cell_type": "code",
   "execution_count": null,
   "id": "7c324645-c951-4f7b-866f-19f4100ce5b6",
   "metadata": {},
   "outputs": [],
   "source": [
    "from sklearn.preprocessing import StandardScaler, normalize\n",
    "X_normalized = pd.DataFrame(normalize(StandardScaler().fit_transform(X)))"
   ]
  },
  {
   "cell_type": "code",
   "execution_count": null,
   "id": "9abc1bcd-3ee9-4260-b64d-469d0907c98c",
   "metadata": {},
   "outputs": [],
   "source": [
    "# attempt at density clustering 1\n",
    "from sklearn.cluster import DBSCAN\n",
    "from sklearn import metrics\n",
    "\n",
    "# labels_true = clean_poem_df.author\n",
    "db = DBSCAN().fit(X)\n",
    "core_samples_mask = np.zeros_like(db.labels_, dtype=bool)\n",
    "core_samples_mask[db.core_sample_indices_] = True\n",
    "labels = db.labels_\n",
    "\n",
    "# Number of clusters in labels, ignoring noise if present.\n",
    "n_clusters_ = len(set(labels)) - (1 if -1 in labels else 0)\n",
    "n_noise_ = list(labels).count(-1)\n",
    "\n",
    "print('Estimated number of clusters: %d' % n_clusters_)\n",
    "print('Estimated number of noise points: %d' % n_noise_)\n",
    "# print(\"Homogeneity: %0.3f\" % metrics.homogeneity_score(labels_true, labels))\n",
    "# print(\"Completeness: %0.3f\" % metrics.completeness_score(labels_true, labels))\n",
    "# print(\"V-measure: %0.3f\" % metrics.v_measure_score(labels_true, labels))\n",
    "# print(\"Adjusted Rand Index: %0.3f\"\n",
    "#       % metrics.adjusted_rand_score(labels_true, labels))\n",
    "# print(\"Adjusted Mutual Information: %0.3f\"\n",
    "#       % metrics.adjusted_mutual_info_score(labels_true, labels))\n",
    "print(\"Silhouette Coefficient: %0.3f\"\n",
    "      % metrics.silhouette_score(X, labels))\n",
    "\n",
    "# #############################################################################\n",
    "# Plot result\n",
    "import matplotlib.pyplot as plt\n",
    "\n",
    "# Black removed and is used for noise instead.\n",
    "unique_labels = set(labels)\n",
    "colors = [plt.cm.Spectral(each)\n",
    "          for each in np.linspace(0, 1, len(unique_labels))]\n",
    "for k, col in zip(unique_labels, colors):\n",
    "    if k == -1:\n",
    "        # Black used for noise.\n",
    "        col = [0, 0, 0, 1]\n",
    "\n",
    "    class_member_mask = (labels == k)\n",
    "\n",
    "    xy = X[class_member_mask & core_samples_mask]\n",
    "    plt.plot(xy[:, 0], xy[:, 1], 'o', markerfacecolor=tuple(col),\n",
    "             markeredgecolor='k', markersize=14)\n",
    "\n",
    "    xy = X[class_member_mask & ~core_samples_mask]\n",
    "    plt.plot(xy[:, 0], xy[:, 1], 'o', markerfacecolor=tuple(col),\n",
    "             markeredgecolor='k', markersize=6)\n",
    "\n",
    "plt.title('Estimated number of clusters: %d' % n_clusters_)\n",
    "plt.show()"
   ]
  },
  {
   "cell_type": "code",
   "execution_count": null,
   "id": "582f1275-244c-4adc-a931-6b4ceb9fdd9f",
   "metadata": {},
   "outputs": [],
   "source": [
    "# attempt at density clustering 2\n",
    "from sklearn.decomposition import PCA\n",
    "X_pc = PCA(n_components = 2).fit_transform(X_normalized)\n",
    "X_principal = pd.DataFrame(X_pc)\n",
    "X_principal.columns = ['P1', 'P2']"
   ]
  },
  {
   "cell_type": "code",
   "execution_count": null,
   "id": "baec10a7-b394-4c07-89cf-36fb22283ed2",
   "metadata": {},
   "outputs": [],
   "source": [
    "db_base = DBSCAN(eps = 0.3, min_samples = 10).fit(X_principal)"
   ]
  },
  {
   "cell_type": "code",
   "execution_count": null,
   "id": "3fd018cf-0dfd-4a0b-b34d-63666fc9266a",
   "metadata": {},
   "outputs": [],
   "source": [
    "# Building the label to colour mapping\n",
    "colours = {}\n",
    "colours[0] = 'r'\n",
    "colours[1] = 'g'\n",
    "colours[2] = 'b'\n",
    "colours[-1] = 'k'\n",
    "\n",
    "labels = db_base.labels_\n",
    "# Building the colour vector for each data point\n",
    "cvec = [colours[label] for label in labels]\n",
    "  \n",
    "# For the construction of the legend of the plot\n",
    "r = plt.scatter(X_principal['P1'], X_principal['P2'], color ='r');\n",
    "g = plt.scatter(X_principal['P1'], X_principal['P2'], color ='g');\n",
    "b = plt.scatter(X_principal['P1'], X_principal['P2'], color ='b');\n",
    "k = plt.scatter(X_principal['P1'], X_principal['P2'], color ='k');\n",
    "  \n",
    "# Plotting P1 on the X-Axis and P2 on the Y-Axis \n",
    "# according to the colour vector defined\n",
    "plt.figure(figsize =(9, 9))\n",
    "plt.scatter(X_principal['P1'], X_principal['P2'], c = cvec)\n",
    "  \n",
    "# Building the legend\n",
    "plt.legend((r, g, b, k), ('Label 0', 'Label 1', 'Label 2', 'Label -1'))\n",
    "  \n",
    "plt.show()"
   ]
  },
  {
   "cell_type": "code",
   "execution_count": null,
   "id": "cdc284b2-5a2f-4894-854b-2b2b156849b7",
   "metadata": {},
   "outputs": [],
   "source": [
    "db = DBSCAN(eps = 0.0375, min_samples = 50).fit(X_principal)"
   ]
  },
  {
   "cell_type": "code",
   "execution_count": null,
   "id": "25b151a9-49cb-4606-a17b-15b3bb247c87",
   "metadata": {},
   "outputs": [],
   "source": [
    "colours1 = {}\n",
    "colours1[0] = 'r'\n",
    "colours1[1] = 'g'\n",
    "colours1[2] = 'b'\n",
    "colours1[3] = 'c'\n",
    "colours1[4] = 'y'\n",
    "colours1[5] = 'm'\n",
    "colours1[-1] = 'k'\n",
    "  \n",
    "cvec = [colours1[label] for label in labels]\n",
    "colors = ['r', 'g', 'b', 'c', 'y', 'm', 'k' ]\n",
    "  \n",
    "r = plt.scatter(\n",
    "        X_principal['P1'], X_principal['P2'], marker ='o', color = colors[0])\n",
    "g = plt.scatter(\n",
    "        X_principal['P1'], X_principal['P2'], marker ='o', color = colors[1])\n",
    "b = plt.scatter(\n",
    "        X_principal['P1'], X_principal['P2'], marker ='o', color = colors[2])\n",
    "c = plt.scatter(\n",
    "        X_principal['P1'], X_principal['P2'], marker ='o', color = colors[3])\n",
    "y = plt.scatter(\n",
    "        X_principal['P1'], X_principal['P2'], marker ='o', color = colors[4])\n",
    "m = plt.scatter(\n",
    "        X_principal['P1'], X_principal['P2'], marker ='o', color = colors[5])\n",
    "k = plt.scatter(\n",
    "        X_principal['P1'], X_principal['P2'], marker ='o', color = colors[6])\n",
    "  \n",
    "plt.figure(figsize =(9, 9))\n",
    "plt.scatter(X_principal['P1'], X_principal['P2'], c = cvec)\n",
    "plt.legend((r, g, b, c, y, m, k),\n",
    "           ('Label 0', 'Label 1', 'Label 2', 'Label 3', 'Label 4',\n",
    "            'Label 5', 'Label -1'),\n",
    "           scatterpoints = 1,\n",
    "           loc ='upper left',\n",
    "           ncol = 3,\n",
    "           fontsize = 8)\n",
    "plt.show()"
   ]
  },
  {
   "cell_type": "code",
   "execution_count": null,
   "id": "d15727cc-3743-435c-9f05-d6d8ffb0e33b",
   "metadata": {},
   "outputs": [],
   "source": [
    "# clustering with hierarchical/agglomerative\n",
    "from sklearn.cluster import AgglomerativeClustering\n",
    "model = AgglomerativeClustering(n_clusters=5, affinity='euclidean')\n",
    "model.fit(X)\n",
    "\n",
    "X_principal['HR_labels']=model.labels_\n",
    "\n",
    "# Plotting resulting clusters\n",
    "plt.figure(figsize=(10,10))\n",
    "plt.scatter(X_principal['P1'],X_principal['P2'],c=X_principal['HR_labels'],cmap=matplotlib.colors.ListedColormap(colors),s=15)\n",
    "plt.title('Hierarchical Clustering',fontsize=20)\n",
    "plt.xlabel('Feature 1',fontsize=14)\n",
    "plt.ylabel('Feature 2',fontsize=14)\n",
    "plt.show()"
   ]
  },
  {
   "cell_type": "code",
   "execution_count": null,
   "id": "a3bdfb96-798c-407d-8a50-9d35ce10bd9e",
   "metadata": {},
   "outputs": [],
   "source": [
    "from sklearn.neighbors import NearestNeighbors\n",
    "neighbors = NearestNeighbors(n_neighbors=)"
   ]
  },
  {
   "cell_type": "code",
   "execution_count": null,
   "id": "5ba9011b-4a24-4c25-8f87-f53f5360054b",
   "metadata": {},
   "outputs": [],
   "source": [
    "print(X.ndim)"
   ]
  },
  {
   "cell_type": "code",
   "execution_count": null,
   "id": "895165da-c406-49cc-bbb6-5d2f5725f53f",
   "metadata": {},
   "outputs": [],
   "source": [
    "print(X.shape)"
   ]
  },
  {
   "cell_type": "code",
   "execution_count": null,
   "id": "8a4c6902-cad5-4931-ad3a-9be2e11fc399",
   "metadata": {},
   "outputs": [],
   "source": [
    "print(X[0].ndim)"
   ]
  },
  {
   "cell_type": "code",
   "execution_count": null,
   "id": "0a8aedae-2f5c-4919-a3ad-cab036b4f397",
   "metadata": {},
   "outputs": [],
   "source": [
    "print(X[0].shape)"
   ]
  },
  {
   "cell_type": "code",
   "execution_count": null,
   "id": "582a9396-dee4-42e7-aba9-71ff4a4d2189",
   "metadata": {},
   "outputs": [],
   "source": []
  }
 ],
 "metadata": {
  "kernelspec": {
   "display_name": "Python 3",
   "language": "python",
   "name": "python3"
  },
  "language_info": {
   "codemirror_mode": {
    "name": "ipython",
    "version": 3
   },
   "file_extension": ".py",
   "mimetype": "text/x-python",
   "name": "python",
   "nbconvert_exporter": "python",
   "pygments_lexer": "ipython3",
   "version": "3.8.8"
  }
 },
 "nbformat": 4,
 "nbformat_minor": 5
}
