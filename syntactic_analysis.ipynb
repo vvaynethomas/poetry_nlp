{
 "cells": [
  {
   "cell_type": "code",
   "execution_count": 1,
   "id": "ab45769c-c064-4b33-b4a9-645125499d0a",
   "metadata": {},
   "outputs": [],
   "source": [
    "import nltk, re\n",
    "import numpy as np\n",
    "import pandas as pd\n",
    "import sklearn\n",
    "from nltk.tokenize import word_tokenize\n",
    "import requests\n",
    "import matplotlib.pyplot as plt\n",
    "import seaborn as sns\n",
    "import random\n",
    "import pprint, time\n",
    "import pickle"
   ]
  },
  {
   "cell_type": "code",
   "execution_count": 18,
   "id": "577fe074-d7f8-4205-aa38-d9afd9fc5e2c",
   "metadata": {},
   "outputs": [],
   "source": [
    "with open('tagged_lines_df.pkl', 'rb') as f:\n",
    "    poem_df = pickle.load(f)"
   ]
  },
  {
   "cell_type": "code",
   "execution_count": 19,
   "id": "5048d3f3-e7cd-42ea-b47d-97aa486a7bf4",
   "metadata": {},
   "outputs": [],
   "source": [
    "poem_df = poem_df.drop(['author','title'], axis=1)"
   ]
  },
  {
   "cell_type": "code",
   "execution_count": 20,
   "id": "dc8e2187-53a7-4c8d-8220-517f54b59d48",
   "metadata": {},
   "outputs": [
    {
     "data": {
      "text/html": [
       "<div>\n",
       "<style scoped>\n",
       "    .dataframe tbody tr th:only-of-type {\n",
       "        vertical-align: middle;\n",
       "    }\n",
       "\n",
       "    .dataframe tbody tr th {\n",
       "        vertical-align: top;\n",
       "    }\n",
       "\n",
       "    .dataframe thead th {\n",
       "        text-align: right;\n",
       "    }\n",
       "</style>\n",
       "<table border=\"1\" class=\"dataframe\">\n",
       "  <thead>\n",
       "    <tr style=\"text-align: right;\">\n",
       "      <th></th>\n",
       "      <th>line</th>\n",
       "      <th>line_no</th>\n",
       "      <th>words</th>\n",
       "      <th>length_in_words</th>\n",
       "      <th>lexical_diversity</th>\n",
       "      <th>word_lengths</th>\n",
       "      <th>max_word_length</th>\n",
       "      <th>pos_tags</th>\n",
       "    </tr>\n",
       "  </thead>\n",
       "  <tbody>\n",
       "    <tr>\n",
       "      <th>1</th>\n",
       "      <td>in its complex ovoid emptiness</td>\n",
       "      <td>2</td>\n",
       "      <td>[in, its, complex, ovoid, emptiness]</td>\n",
       "      <td>5</td>\n",
       "      <td>1.000</td>\n",
       "      <td>[2, 3, 7, 5, 9]</td>\n",
       "      <td>9</td>\n",
       "      <td>[IN, PRP$, JJ, JJ, NN]</td>\n",
       "    </tr>\n",
       "    <tr>\n",
       "      <th>2</th>\n",
       "      <td>a skillful pundit coined it as a sort</td>\n",
       "      <td>3</td>\n",
       "      <td>[a, skillful, pundit, coined, it, as, a, sort]</td>\n",
       "      <td>8</td>\n",
       "      <td>0.875</td>\n",
       "      <td>[1, 8, 6, 6, 2, 2, 1, 4]</td>\n",
       "      <td>8</td>\n",
       "      <td>[DT, JJ, NN, VBD, PRP, IN, DT, NN]</td>\n",
       "    </tr>\n",
       "    <tr>\n",
       "      <th>3</th>\n",
       "      <td>of stopgap doorstop for those</td>\n",
       "      <td>4</td>\n",
       "      <td>[of, stopgap, doorstop, for, those]</td>\n",
       "      <td>5</td>\n",
       "      <td>1.000</td>\n",
       "      <td>[2, 7, 8, 3, 5]</td>\n",
       "      <td>8</td>\n",
       "      <td>[IN, NN, VBP, IN, DT]</td>\n",
       "    </tr>\n",
       "    <tr>\n",
       "      <th>4</th>\n",
       "      <td>quaint equations</td>\n",
       "      <td>5</td>\n",
       "      <td>[quaint, equations]</td>\n",
       "      <td>2</td>\n",
       "      <td>1.000</td>\n",
       "      <td>[6, 9]</td>\n",
       "      <td>9</td>\n",
       "      <td>[NN, NNS]</td>\n",
       "    </tr>\n",
       "    <tr>\n",
       "      <th>5</th>\n",
       "      <td>romans never</td>\n",
       "      <td>6</td>\n",
       "      <td>[romans, never]</td>\n",
       "      <td>2</td>\n",
       "      <td>1.000</td>\n",
       "      <td>[6, 5]</td>\n",
       "      <td>6</td>\n",
       "      <td>[NNS, RB]</td>\n",
       "    </tr>\n",
       "  </tbody>\n",
       "</table>\n",
       "</div>"
      ],
      "text/plain": [
       "                                    line  line_no  \\\n",
       "1         in its complex ovoid emptiness        2   \n",
       "2  a skillful pundit coined it as a sort        3   \n",
       "3          of stopgap doorstop for those        4   \n",
       "4                       quaint equations        5   \n",
       "5                           romans never        6   \n",
       "\n",
       "                                            words  length_in_words  \\\n",
       "1            [in, its, complex, ovoid, emptiness]                5   \n",
       "2  [a, skillful, pundit, coined, it, as, a, sort]                8   \n",
       "3             [of, stopgap, doorstop, for, those]                5   \n",
       "4                             [quaint, equations]                2   \n",
       "5                                 [romans, never]                2   \n",
       "\n",
       "   lexical_diversity              word_lengths  max_word_length  \\\n",
       "1              1.000           [2, 3, 7, 5, 9]                9   \n",
       "2              0.875  [1, 8, 6, 6, 2, 2, 1, 4]                8   \n",
       "3              1.000           [2, 7, 8, 3, 5]                8   \n",
       "4              1.000                    [6, 9]                9   \n",
       "5              1.000                    [6, 5]                6   \n",
       "\n",
       "                             pos_tags  \n",
       "1              [IN, PRP$, JJ, JJ, NN]  \n",
       "2  [DT, JJ, NN, VBD, PRP, IN, DT, NN]  \n",
       "3               [IN, NN, VBP, IN, DT]  \n",
       "4                           [NN, NNS]  \n",
       "5                           [NNS, RB]  "
      ]
     },
     "execution_count": 20,
     "metadata": {},
     "output_type": "execute_result"
    }
   ],
   "source": [
    "poem_df.head()"
   ]
  },
  {
   "cell_type": "code",
   "execution_count": 5,
   "id": "81b802fd-68d9-4626-9cfc-0cea8ddcdbfc",
   "metadata": {},
   "outputs": [],
   "source": [
    "def clean_tags(tags):\n",
    "    return [tag for tag in tags if tag.isalpha()]\n",
    "\n",
    "poem_df['pos_tags'] = poem_df.pos_tags.map(clean_tags)"
   ]
  },
  {
   "cell_type": "code",
   "execution_count": 6,
   "id": "1da5cc67-baea-4428-abb9-55d491ce901c",
   "metadata": {},
   "outputs": [
    {
     "name": "stdout",
     "output_type": "stream",
     "text": [
      "Length of Training Set:  390963\n",
      "Length of Test Set:  20577\n",
      "------------------------------------------------------------------------------------------------------------------------\n",
      "Training Data Overview:\n",
      "\n",
      "                                                     line  line_no  \\\n",
      "37559            humble dove that coos when it is morning       37   \n",
      "351579                                     baked in a pie        4   \n",
      "373814   somewhere you are lying in a white bed the clock        7   \n",
      "240065                                   soft now squeeze       26   \n",
      "261607  cupid piercing the heart through suddenly and ...       16   \n",
      "\n",
      "                                                    words  length_in_words  \\\n",
      "37559   [humble, dove, that, coos, when, it, is, morning]                8   \n",
      "351579                                [baked, in, a, pie]                4   \n",
      "373814  [somewhere, you, are, lying, in, a, white, bed...               10   \n",
      "240065                               [soft, now, squeeze]                3   \n",
      "261607  [cupid, piercing, the, heart, through, suddenl...                8   \n",
      "\n",
      "        lexical_diversity                    word_lengths  max_word_length  \\\n",
      "37559                 1.0        [6, 4, 4, 4, 4, 2, 2, 7]                7   \n",
      "351579                1.0                    [5, 2, 1, 3]                5   \n",
      "373814                1.0  [9, 3, 3, 5, 2, 1, 5, 3, 3, 5]                9   \n",
      "240065                1.0                       [4, 3, 7]                7   \n",
      "261607                1.0        [5, 8, 3, 5, 7, 8, 3, 7]                8   \n",
      "\n",
      "                                           pos_tags  \n",
      "37559         [JJ, VBD, DT, NNS, WRB, PRP, VBZ, NN]  \n",
      "351579                            [VBN, IN, DT, NN]  \n",
      "373814  [RB, PRP, VBP, VBG, IN, DT, JJ, NN, DT, NN]  \n",
      "240065                                 [JJ, RB, JJ]  \n",
      "261607            [NN, VBG, DT, NN, IN, RB, CC, RB]  \n"
     ]
    }
   ],
   "source": [
    "from sklearn.model_selection import train_test_split\n",
    "poem_train, poem_test = train_test_split(poem_df, test_size=0.05, random_state=13)\n",
    "print(\"Length of Training Set: \", len(poem_train))\n",
    "print(\"Length of Test Set: \", len(poem_test))\n",
    "print(\"-\" * 120)\n",
    "print(\"Training Data Overview:\\n\")\n",
    "print(poem_train.head())"
   ]
  },
  {
   "cell_type": "code",
   "execution_count": 7,
   "id": "05573b97-689e-44d4-b5a0-2bd300710558",
   "metadata": {},
   "outputs": [],
   "source": [
    "# train_tokens, train_tags = sum(poem_train.words.to_list(), []), sum(poem_train.pos_tags.to_list(),[])\n",
    "# test_tokens, test_tags = sum(poem_test.words.to_list(), []), sum(poem_test.pos_tags.to_list(),[])"
   ]
  },
  {
   "cell_type": "code",
   "execution_count": 8,
   "id": "7179890c-0a7c-461d-98d5-882b96f589c3",
   "metadata": {},
   "outputs": [],
   "source": [
    "train_tokens, train_tags = poem_train.words.explode().to_list(), poem_train.pos_tags.explode().to_list()\n",
    "test_tokens, test_tags = poem_test.words.explode().to_list(), poem_test.pos_tags.explode().to_list()"
   ]
  },
  {
   "cell_type": "code",
   "execution_count": 9,
   "id": "25186ab4-db82-41ec-bbb4-b13775b0fcb7",
   "metadata": {},
   "outputs": [
    {
     "name": "stdout",
     "output_type": "stream",
     "text": [
      "['JJ', 'VBD', 'DT', 'NNS', 'WRB']\n"
     ]
    }
   ],
   "source": [
    "# test = [['these','are','hats'], ['these','are','not','hats']]\n",
    "# print(test)\n",
    "# print(flatten(test))\n",
    "# print(pd.Series(train_tokens).map(len).describe())\n",
    "print(train_tags[0:5])"
   ]
  },
  {
   "cell_type": "code",
   "execution_count": 10,
   "id": "bd552118-8c75-4033-90bf-ea6d9180488c",
   "metadata": {},
   "outputs": [],
   "source": [
    "train_vocab = set(tuple([token for token in train_tokens if (len(token) > 1 or token in ['a','i','u','x'])]))\n",
    "train_tag_tups = tuple([''.join(str(item)) for item in train_tags])\n",
    "train_tagset = set(train_tag_tups)"
   ]
  },
  {
   "cell_type": "code",
   "execution_count": 11,
   "id": "ef74884e-92c3-4695-a53a-18bf193f5a8a",
   "metadata": {},
   "outputs": [
    {
     "name": "stdout",
     "output_type": "stream",
     "text": [
      "40\n",
      "81189\n"
     ]
    }
   ],
   "source": [
    "print(len(train_tagset))\n",
    "print(len(train_vocab))"
   ]
  },
  {
   "cell_type": "code",
   "execution_count": 12,
   "id": "44dfbda2-3663-4138-bbd0-782052a8861b",
   "metadata": {},
   "outputs": [],
   "source": [
    "token_freq = nltk.FreqDist(train_tokens)"
   ]
  },
  {
   "cell_type": "code",
   "execution_count": 13,
   "id": "62a67697-63fc-4a51-8f3a-dc2ebbf61201",
   "metadata": {},
   "outputs": [
    {
     "data": {
      "image/png": "[encoded data removed]",
      "text/plain": [
       "<Figure size 432x288 with 1 Axes>"
      ]
     },
     "metadata": {
      "needs_background": "light"
     },
     "output_type": "display_data"
    },
    {
     "data": {
      "text/plain": [
       "<AxesSubplot:xlabel='Samples', ylabel='Counts'>"
      ]
     },
     "execution_count": 13,
     "metadata": {},
     "output_type": "execute_result"
    }
   ],
   "source": [
    "token_freq.plot(20, cumulative=False)"
   ]
  },
  {
   "cell_type": "code",
   "execution_count": 14,
   "id": "e7919a9a-49e6-466c-b84d-86dbc88cff6d",
   "metadata": {},
   "outputs": [],
   "source": [
    "pos_freq = nltk.FreqDist(train_tags)"
   ]
  },
  {
   "cell_type": "code",
   "execution_count": 15,
   "id": "b5bb3447-afcd-4cea-b24b-1e23b3e29850",
   "metadata": {},
   "outputs": [
    {
     "data": {
      "image/png": "[encoded data removed]",
      "text/plain": [
       "<Figure size 432x288 with 1 Axes>"
      ]
     },
     "metadata": {
      "needs_background": "light"
     },
     "output_type": "display_data"
    },
    {
     "data": {
      "text/plain": [
       "<AxesSubplot:xlabel='Samples', ylabel='Counts'>"
      ]
     },
     "execution_count": 15,
     "metadata": {},
     "output_type": "execute_result"
    }
   ],
   "source": [
    "pos_freq.plot(20, cumulative=False)"
   ]
  },
  {
   "cell_type": "code",
   "execution_count": 16,
   "id": "9a96bc62-60e0-4f9f-87f0-68085d2c98d4",
   "metadata": {},
   "outputs": [
    {
     "name": "stdout",
     "output_type": "stream",
     "text": [
      "Size --------------- \n",
      "Vocabulary: 81189 \n",
      "Tagset: 40\n",
      "\n",
      "Available Tags ----- \n",
      "\n",
      "{'VBD', 'RB', 'VBP', 'MD', 'VB', 'ADD', 'DT', 'RBR', 'NNS', 'FW', 'TO', 'AFX', 'JJS', 'UH', 'WDT', 'CC', 'NFP', 'JJR', 'CD', 'WP', 'VBN', 'RBS', 'XX', 'WRB', 'PRP', 'LS', 'VBZ', 'HYPH', 'IN', 'NNP', 'EX', 'RP', 'JJ', 'nan', 'NN', 'POS', 'SYM', 'NNPS', 'PDT', 'VBG'}\n"
     ]
    }
   ],
   "source": [
    "print(f\"Size --------------- \\nVocabulary: {len(train_vocab)} \\nTagset: {len(train_tagset)}\")\n",
    "print(\"\\nAvailable Tags ----- \\n\")\n",
    "print(train_tagset)"
   ]
  },
  {
   "cell_type": "code",
   "execution_count": 17,
   "id": "b7954b25-3dc3-45ff-9860-5c0b379bba71",
   "metadata": {},
   "outputs": [
    {
     "ename": "SyntaxError",
     "evalue": "invalid syntax (<ipython-input-17-10347a195c78>, line 2)",
     "output_type": "error",
     "traceback": [
      "\u001b[1;36m  File \u001b[1;32m\"<ipython-input-17-10347a195c78>\"\u001b[1;36m, line \u001b[1;32m2\u001b[0m\n\u001b[1;33m    len_pos_tags =\u001b[0m\n\u001b[1;37m                   ^\u001b[0m\n\u001b[1;31mSyntaxError\u001b[0m\u001b[1;31m:\u001b[0m invalid syntax\n"
     ]
    }
   ],
   "source": [
    "# P(w/t)\n",
    "len_pos_tags = \n",
    "len_vocab = \n",
    "\n",
    "word_given_tag = np.zeros((len(train_tagset), len(train_vocab)))"
   ]
  },
  {
   "cell_type": "code",
   "execution_count": null,
   "id": "3836873b-43db-4ce1-9763-dce23d0c3bf8",
   "metadata": {},
   "outputs": [],
   "source": [
    "# emission probability\n"
   ]
  }
 ],
 "metadata": {
  "kernelspec": {
   "display_name": "Python 3",
   "language": "python",
   "name": "python3"
  },
  "language_info": {
   "codemirror_mode": {
    "name": "ipython",
    "version": 3
   },
   "file_extension": ".py",
   "mimetype": "text/x-python",
   "name": "python",
   "nbconvert_exporter": "python",
   "pygments_lexer": "ipython3",
   "version": "3.8.8"
  }
 },
 "nbformat": 4,
 "nbformat_minor": 5
}
