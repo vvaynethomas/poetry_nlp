{
 "cells": [
  {
   "cell_type": "code",
   "execution_count": 1,
   "id": "ab45769c-c064-4b33-b4a9-645125499d0a",
   "metadata": {},
   "outputs": [],
   "source": [
    "import nltk, re\n",
    "import numpy as np\n",
    "import pandas as pd\n",
    "import sklearn\n",
    "from nltk.tokenize import word_tokenize\n",
    "import requests\n",
    "import matplotlib.pyplot as plt\n",
    "import seaborn as sns\n",
    "import random\n",
    "import pprint, time\n",
    "import pickle"
   ]
  },
  {
   "cell_type": "code",
   "execution_count": 2,
   "id": "577fe074-d7f8-4205-aa38-d9afd9fc5e2c",
   "metadata": {},
   "outputs": [],
   "source": [
    "with open('tagged_lines_df.pkl', 'rb') as f:\n",
    "    poem_df = pickle.load(f)"
   ]
  },
  {
   "cell_type": "code",
   "execution_count": 3,
   "id": "5048d3f3-e7cd-42ea-b47d-97aa486a7bf4",
   "metadata": {},
   "outputs": [],
   "source": [
    "poem_df = poem_df.drop(['author','title'], axis=1)"
   ]
  },
  {
   "cell_type": "code",
   "execution_count": 4,
   "id": "dc8e2187-53a7-4c8d-8220-517f54b59d48",
   "metadata": {},
   "outputs": [
    {
     "data": {
      "text/html": [
       "<div>\n",
       "<style scoped>\n",
       "    .dataframe tbody tr th:only-of-type {\n",
       "        vertical-align: middle;\n",
       "    }\n",
       "\n",
       "    .dataframe tbody tr th {\n",
       "        vertical-align: top;\n",
       "    }\n",
       "\n",
       "    .dataframe thead th {\n",
       "        text-align: right;\n",
       "    }\n",
       "</style>\n",
       "<table border=\"1\" class=\"dataframe\">\n",
       "  <thead>\n",
       "    <tr style=\"text-align: right;\">\n",
       "      <th></th>\n",
       "      <th>words</th>\n",
       "      <th>length_in_words</th>\n",
       "      <th>lexical_diversity</th>\n",
       "      <th>pos_tags</th>\n",
       "    </tr>\n",
       "  </thead>\n",
       "  <tbody>\n",
       "    <tr>\n",
       "      <th>1</th>\n",
       "      <td>[philosophic]</td>\n",
       "      <td>1</td>\n",
       "      <td>1.000</td>\n",
       "      <td>[JJ]</td>\n",
       "    </tr>\n",
       "    <tr>\n",
       "      <th>1</th>\n",
       "      <td>[in, its, complex, ovoid, emptiness]</td>\n",
       "      <td>5</td>\n",
       "      <td>1.000</td>\n",
       "      <td>[IN, PRP$, JJ, JJ, NN]</td>\n",
       "    </tr>\n",
       "    <tr>\n",
       "      <th>1</th>\n",
       "      <td>[a, skillful, pundit, coined, it, as, a, sort]</td>\n",
       "      <td>8</td>\n",
       "      <td>0.875</td>\n",
       "      <td>[DT, JJ, NN, VBD, PRP, IN, DT, NN]</td>\n",
       "    </tr>\n",
       "    <tr>\n",
       "      <th>1</th>\n",
       "      <td>[of, stopgap, doorstop, for, those]</td>\n",
       "      <td>5</td>\n",
       "      <td>1.000</td>\n",
       "      <td>[IN, NN, VBP, IN, DT]</td>\n",
       "    </tr>\n",
       "    <tr>\n",
       "      <th>1</th>\n",
       "      <td>[quaint, equations]</td>\n",
       "      <td>2</td>\n",
       "      <td>1.000</td>\n",
       "      <td>[NN, NNS]</td>\n",
       "    </tr>\n",
       "  </tbody>\n",
       "</table>\n",
       "</div>"
      ],
      "text/plain": [
       "                                            words  length_in_words  \\\n",
       "1                                   [philosophic]                1   \n",
       "1            [in, its, complex, ovoid, emptiness]                5   \n",
       "1  [a, skillful, pundit, coined, it, as, a, sort]                8   \n",
       "1             [of, stopgap, doorstop, for, those]                5   \n",
       "1                             [quaint, equations]                2   \n",
       "\n",
       "   lexical_diversity                            pos_tags  \n",
       "1              1.000                                [JJ]  \n",
       "1              1.000              [IN, PRP$, JJ, JJ, NN]  \n",
       "1              0.875  [DT, JJ, NN, VBD, PRP, IN, DT, NN]  \n",
       "1              1.000               [IN, NN, VBP, IN, DT]  \n",
       "1              1.000                           [NN, NNS]  "
      ]
     },
     "execution_count": 4,
     "metadata": {},
     "output_type": "execute_result"
    }
   ],
   "source": [
    "poem_df.head()"
   ]
  },
  {
   "cell_type": "code",
   "execution_count": 5,
   "id": "81b802fd-68d9-4626-9cfc-0cea8ddcdbfc",
   "metadata": {},
   "outputs": [],
   "source": [
    "def clean_tags(tags):\n",
    "    return [tag for tag in tags if tag.isalpha()]\n",
    "\n",
    "poem_df['pos_tags'] = poem_df.pos_tags.map(clean_tags)"
   ]
  },
  {
   "cell_type": "code",
   "execution_count": 13,
   "id": "1da5cc67-baea-4428-abb9-55d491ce901c",
   "metadata": {},
   "outputs": [
    {
     "name": "stdout",
     "output_type": "stream",
     "text": [
      "Length of Training Set:  461323\n",
      "Length of Test Set:  24281\n",
      "------------------------------------------------------------------------------------------------------------------------\n",
      "Training Data Overview:\n",
      "\n",
      "                                                   words  length_in_words  \\\n",
      "4638                     [they, found, a, weekold, baby]                5   \n",
      "13381                                  [snow, continues]                2   \n",
      "95     [implements, of, production, cooking, reserve,...               10   \n",
      "15585                   [and, individual, freedom, mute]                4   \n",
      "5242   [noises, seemed, echoes, as, i, continued, to,...                9   \n",
      "\n",
      "       lexical_diversity                                    pos_tags  \n",
      "4638                 1.0                      [PRP, VBD, DT, JJ, NN]  \n",
      "13381                1.0                                   [NN, VBZ]  \n",
      "95                   0.9  [NNS, IN, NN, NN, NN, NN, IN, DT, NN, VBG]  \n",
      "15585                1.0                            [CC, JJ, NN, NN]  \n",
      "5242                 1.0  [NNS, VBD, NNS, IN, PRP, VBD, TO, VB, PRP]  \n"
     ]
    }
   ],
   "source": [
    "from sklearn.model_selection import train_test_split\n",
    "poem_train, poem_test = train_test_split(poem_df, test_size=0.05, random_state=13)\n",
    "print(\"Length of Training Set: \", len(poem_train))\n",
    "print(\"Length of Test Set: \", len(poem_test))\n",
    "print(\"-\" * 120)\n",
    "print(\"Training Data Overview:\\n\")\n",
    "print(poem_train.head())"
   ]
  },
  {
   "cell_type": "code",
   "execution_count": 7,
   "id": "05573b97-689e-44d4-b5a0-2bd300710558",
   "metadata": {},
   "outputs": [],
   "source": [
    "# train_tokens, train_tags = sum(poem_train.words.to_list(), []), sum(poem_train.pos_tags.to_list(),[])\n",
    "# test_tokens, test_tags = sum(poem_test.words.to_list(), []), sum(poem_test.pos_tags.to_list(),[])"
   ]
  },
  {
   "cell_type": "code",
   "execution_count": 35,
   "id": "7179890c-0a7c-461d-98d5-882b96f589c3",
   "metadata": {},
   "outputs": [],
   "source": [
    "train_tokens, train_tags = poem_train.words.explode().to_list(), poem_train.pos_tags.explode().to_list()\n",
    "test_tokens, test_tags = poem_test.words.explode().to_list(), poem_test.pos_tags.explode().to_list()"
   ]
  },
  {
   "cell_type": "code",
   "execution_count": 50,
   "id": "25186ab4-db82-41ec-bbb4-b13775b0fcb7",
   "metadata": {},
   "outputs": [
    {
     "name": "stdout",
     "output_type": "stream",
     "text": [
      "['PRP', 'VBD', 'DT', 'JJ', 'NN']\n"
     ]
    }
   ],
   "source": [
    "# test = [['these','are','hats'], ['these','are','not','hats']]\n",
    "# print(test)\n",
    "# print(flatten(test))\n",
    "# print(pd.Series(train_tokens).map(len).describe())\n",
    "print(train_tags[0:5])"
   ]
  },
  {
   "cell_type": "code",
   "execution_count": 64,
   "id": "bd552118-8c75-4033-90bf-ea6d9180488c",
   "metadata": {},
   "outputs": [],
   "source": [
    "train_vocab = set(tuple([token for token in train_tokens if (len(token) > 1 or token in ['a','i','u','x'])]))\n",
    "train_tag_tups = tuple([''.join(str(item)) for item in train_tags])\n",
    "train_tagset = set(train_tag_tups)"
   ]
  },
  {
   "cell_type": "code",
   "execution_count": 69,
   "id": "ef74884e-92c3-4695-a53a-18bf193f5a8a",
   "metadata": {},
   "outputs": [
    {
     "name": "stdout",
     "output_type": "stream",
     "text": [
      "40\n",
      "107563\n"
     ]
    }
   ],
   "source": [
    "print(len(train_tagset))\n",
    "print(len(train_vocab))"
   ]
  },
  {
   "cell_type": "code",
   "execution_count": 66,
   "id": "44dfbda2-3663-4138-bbd0-782052a8861b",
   "metadata": {},
   "outputs": [],
   "source": [
    "token_freq = nltk.FreqDist(train_tokens)"
   ]
  },
  {
   "cell_type": "code",
   "execution_count": 67,
   "id": "62a67697-63fc-4a51-8f3a-dc2ebbf61201",
   "metadata": {},
   "outputs": [
    {
     "data": {
      "image/png": "[encoded data removed]",
      "text/plain": [
       "<Figure size 432x288 with 1 Axes>"
      ]
     },
     "metadata": {
      "needs_background": "light"
     },
     "output_type": "display_data"
    },
    {
     "data": {
      "text/plain": [
       "<AxesSubplot:xlabel='Samples', ylabel='Counts'>"
      ]
     },
     "execution_count": 67,
     "metadata": {},
     "output_type": "execute_result"
    }
   ],
   "source": [
    "token_freq.plot(20, cumulative=False)"
   ]
  },
  {
   "cell_type": "code",
   "execution_count": 44,
   "id": "e7919a9a-49e6-466c-b84d-86dbc88cff6d",
   "metadata": {},
   "outputs": [],
   "source": [
    "pos_freq = nltk.FreqDist(train_tags)"
   ]
  },
  {
   "cell_type": "code",
   "execution_count": 45,
   "id": "b5bb3447-afcd-4cea-b24b-1e23b3e29850",
   "metadata": {},
   "outputs": [
    {
     "data": {
      "image/png": "[encoded data removed]",
      "text/plain": [
       "<Figure size 432x288 with 1 Axes>"
      ]
     },
     "metadata": {
      "needs_background": "light"
     },
     "output_type": "display_data"
    },
    {
     "data": {
      "text/plain": [
       "<AxesSubplot:xlabel='Samples', ylabel='Counts'>"
      ]
     },
     "execution_count": 45,
     "metadata": {},
     "output_type": "execute_result"
    }
   ],
   "source": [
    "pos_freq.plot(20, cumulative=False)"
   ]
  },
  {
   "cell_type": "code",
   "execution_count": 77,
   "id": "9a96bc62-60e0-4f9f-87f0-68085d2c98d4",
   "metadata": {},
   "outputs": [
    {
     "name": "stdout",
     "output_type": "stream",
     "text": [
      "Size --------------- \n",
      "Vocabulary: 107563 \n",
      "Tagset: 40\n",
      "\n",
      "Available Tags ----- \n",
      "\n",
      "{'AFX', 'NFP', 'DT', 'HYPH', 'RB', 'NNS', 'JJS', 'VBZ', 'NN', 'PDT', 'PRP', 'FW', 'nan', 'CD', 'POS', 'VB', 'NNP', 'XX', 'VBN', 'WDT', 'MD', 'VBP', 'LS', 'EX', 'JJ', 'NNPS', 'WRB', 'WP', 'RBR', 'VBD', 'JJR', 'VBG', 'UH', 'RBS', 'RP', 'SYM', 'CC', 'IN', 'TO', 'ADD'}\n"
     ]
    }
   ],
   "source": [
    "print(f\"Size --------------- \\nVocabulary: {len(train_vocab)} \\nTagset: {len(train_tagset)}\")\n",
    "print(\"\\nAvailable Tags ----- \\n\")\n",
    "print(train_tagset)"
   ]
  },
  {
   "cell_type": "code",
   "execution_count": 78,
   "id": "b7954b25-3dc3-45ff-9860-5c0b379bba71",
   "metadata": {},
   "outputs": [],
   "source": [
    "# P(w/t)\n",
    "len_pos_tags = \n",
    "len_vocab = \n",
    "\n",
    "word_given_tag = np.zeros((len(train_tagset), len(train_vocab)))"
   ]
  },
  {
   "cell_type": "code",
   "execution_count": null,
   "id": "3836873b-43db-4ce1-9763-dce23d0c3bf8",
   "metadata": {},
   "outputs": [],
   "source": [
    "# emission probability\n"
   ]
  }
 ],
 "metadata": {
  "kernelspec": {
   "display_name": "Python 3",
   "language": "python",
   "name": "python3"
  },
  "language_info": {
   "codemirror_mode": {
    "name": "ipython",
    "version": 3
   },
   "file_extension": ".py",
   "mimetype": "text/x-python",
   "name": "python",
   "nbconvert_exporter": "python",
   "pygments_lexer": "ipython3",
   "version": "3.8.8"
  }
 },
 "nbformat": 4,
 "nbformat_minor": 5
}
